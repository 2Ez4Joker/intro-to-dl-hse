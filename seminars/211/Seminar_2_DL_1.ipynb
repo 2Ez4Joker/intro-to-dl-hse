{
  "nbformat": 4,
  "nbformat_minor": 0,
  "metadata": {
    "colab": {
      "provenance": [],
      "gpuType": "T4"
    },
    "kernelspec": {
      "name": "python3",
      "display_name": "Python 3"
    },
    "language_info": {
      "name": "python"
    },
    "accelerator": "GPU"
  },
  "cells": [
    {
      "cell_type": "code",
      "source": [
        "from torchvision.datasets import MNIST\n",
        "import torchvision.transforms as transforms\n",
        "from torch.utils.data import Dataset, DataLoader"
      ],
      "metadata": {
        "id": "7jrnuMM9kHxi"
      },
      "execution_count": 1,
      "outputs": []
    },
    {
      "cell_type": "code",
      "source": [
        "train_set = MNIST('.MNIST', transform=transforms.ToTensor(), train=True, download=True)\n",
        "val_set = MNIST('.MNIST', transform=transforms.ToTensor(), train=False, download=True)"
      ],
      "metadata": {
        "id": "II_aiL7gkIBt",
        "colab": {
          "base_uri": "https://localhost:8080/"
        },
        "outputId": "60d4a302-f663-48e5-9770-585a9101ecd1"
      },
      "execution_count": 2,
      "outputs": [
        {
          "output_type": "stream",
          "name": "stdout",
          "text": [
            "Downloading http://yann.lecun.com/exdb/mnist/train-images-idx3-ubyte.gz\n",
            "Downloading http://yann.lecun.com/exdb/mnist/train-images-idx3-ubyte.gz to .MNIST/MNIST/raw/train-images-idx3-ubyte.gz\n"
          ]
        },
        {
          "output_type": "stream",
          "name": "stderr",
          "text": [
            "100%|██████████| 9912422/9912422 [00:00<00:00, 22497484.46it/s]\n"
          ]
        },
        {
          "output_type": "stream",
          "name": "stdout",
          "text": [
            "Extracting .MNIST/MNIST/raw/train-images-idx3-ubyte.gz to .MNIST/MNIST/raw\n",
            "\n",
            "Downloading http://yann.lecun.com/exdb/mnist/train-labels-idx1-ubyte.gz\n",
            "Downloading http://yann.lecun.com/exdb/mnist/train-labels-idx1-ubyte.gz to .MNIST/MNIST/raw/train-labels-idx1-ubyte.gz\n"
          ]
        },
        {
          "output_type": "stream",
          "name": "stderr",
          "text": [
            "100%|██████████| 28881/28881 [00:00<00:00, 90602613.18it/s]"
          ]
        },
        {
          "output_type": "stream",
          "name": "stdout",
          "text": [
            "Extracting .MNIST/MNIST/raw/train-labels-idx1-ubyte.gz to .MNIST/MNIST/raw\n",
            "\n",
            "Downloading http://yann.lecun.com/exdb/mnist/t10k-images-idx3-ubyte.gz\n",
            "Downloading http://yann.lecun.com/exdb/mnist/t10k-images-idx3-ubyte.gz to .MNIST/MNIST/raw/t10k-images-idx3-ubyte.gz\n"
          ]
        },
        {
          "output_type": "stream",
          "name": "stderr",
          "text": [
            "\n",
            "100%|██████████| 1648877/1648877 [00:00<00:00, 29384935.08it/s]\n"
          ]
        },
        {
          "output_type": "stream",
          "name": "stdout",
          "text": [
            "Extracting .MNIST/MNIST/raw/t10k-images-idx3-ubyte.gz to .MNIST/MNIST/raw\n",
            "\n",
            "Downloading http://yann.lecun.com/exdb/mnist/t10k-labels-idx1-ubyte.gz\n",
            "Downloading http://yann.lecun.com/exdb/mnist/t10k-labels-idx1-ubyte.gz to .MNIST/MNIST/raw/t10k-labels-idx1-ubyte.gz\n"
          ]
        },
        {
          "output_type": "stream",
          "name": "stderr",
          "text": [
            "100%|██████████| 4542/4542 [00:00<00:00, 21922357.62it/s]"
          ]
        },
        {
          "output_type": "stream",
          "name": "stdout",
          "text": [
            "Extracting .MNIST/MNIST/raw/t10k-labels-idx1-ubyte.gz to .MNIST/MNIST/raw\n",
            "\n"
          ]
        },
        {
          "output_type": "stream",
          "name": "stderr",
          "text": [
            "\n"
          ]
        }
      ]
    },
    {
      "cell_type": "code",
      "source": [
        "x, y = train_set[0]\n",
        "x.shape"
      ],
      "metadata": {
        "colab": {
          "base_uri": "https://localhost:8080/"
        },
        "id": "e-MI6NCOm_KX",
        "outputId": "e927f26f-4cd3-4296-d0aa-4fd1ccf345e6"
      },
      "execution_count": 3,
      "outputs": [
        {
          "output_type": "execute_result",
          "data": {
            "text/plain": [
              "torch.Size([1, 28, 28])"
            ]
          },
          "metadata": {},
          "execution_count": 3
        }
      ]
    },
    {
      "cell_type": "code",
      "source": [
        "import matplotlib.pyplot as plt\n",
        "\n",
        "x, y = train_set[1]\n",
        "plt.imshow(x[0,:,:], cmap='gray')\n",
        "plt.show()\n",
        "print(y)"
      ],
      "metadata": {
        "id": "GsRScEP1kIEl",
        "colab": {
          "base_uri": "https://localhost:8080/",
          "height": 448
        },
        "outputId": "2162fc5a-8582-4573-b6cb-0b1e2b99f9ca"
      },
      "execution_count": 4,
      "outputs": [
        {
          "output_type": "display_data",
          "data": {
            "text/plain": [
              "<Figure size 640x480 with 1 Axes>"
            ],
            "image/png": "[encoded data removed]"
          },
          "metadata": {}
        },
        {
          "output_type": "stream",
          "name": "stdout",
          "text": [
            "0\n"
          ]
        }
      ]
    },
    {
      "cell_type": "code",
      "source": [
        "train_loader = DataLoader(train_set, batch_size=64, shuffle=True)\n",
        "val_loader = DataLoader(val_set, batch_size=64, shuffle=False)"
      ],
      "metadata": {
        "id": "YGd6jMdQmm5-"
      },
      "execution_count": 5,
      "outputs": []
    },
    {
      "cell_type": "code",
      "source": [
        "from torch import nn\n",
        "import torch.nn.functional as F\n",
        "import torch\n",
        "\n",
        "class MLP(nn.Module):\n",
        "    def __init__(self, hidden_size):\n",
        "        super().__init__()\n",
        "\n",
        "        self.linear1 = nn.Linear(784, hidden_size)\n",
        "        self.linear2 = nn.Linear(hidden_size, 10)\n",
        "\n",
        "\n",
        "    def forward(self, x):\n",
        "        # (batch_size, 1, 28, 28)\n",
        "        x = torch.flatten(x, start_dim=1)\n",
        "        # (batch_size, 784)\n",
        "        x = self.linear1(x)\n",
        "        x = F.relu(x)\n",
        "        x = self.linear2(x)\n",
        "        return x"
      ],
      "metadata": {
        "id": "tpPs1jhImm-v"
      },
      "execution_count": 6,
      "outputs": []
    },
    {
      "cell_type": "code",
      "source": [
        "batch = next(iter(train_loader))\n",
        "batch[1].shape"
      ],
      "metadata": {
        "colab": {
          "base_uri": "https://localhost:8080/"
        },
        "id": "5dbEQzbxpoMc",
        "outputId": "227437d0-abfe-40c6-d076-d14140914fa2"
      },
      "execution_count": 7,
      "outputs": [
        {
          "output_type": "execute_result",
          "data": {
            "text/plain": [
              "torch.Size([64])"
            ]
          },
          "metadata": {},
          "execution_count": 7
        }
      ]
    },
    {
      "cell_type": "code",
      "source": [
        "net = MLP(hidden_size=100)\n",
        "net(batch[0]).shape"
      ],
      "metadata": {
        "id": "XHGL32w1poO3",
        "colab": {
          "base_uri": "https://localhost:8080/"
        },
        "outputId": "97ce1a01-1ac0-450c-cc98-7b63534c1a76"
      },
      "execution_count": 8,
      "outputs": [
        {
          "output_type": "execute_result",
          "data": {
            "text/plain": [
              "torch.Size([64, 10])"
            ]
          },
          "metadata": {},
          "execution_count": 8
        }
      ]
    },
    {
      "cell_type": "code",
      "source": [
        "def count_parameters(model):\n",
        "    return sum(p.numel() for p in model.parameters() if p.requires_grad)\n",
        "\n",
        "count_parameters(net)"
      ],
      "metadata": {
        "colab": {
          "base_uri": "https://localhost:8080/"
        },
        "id": "fy12WF3ICn2D",
        "outputId": "7939d760-75d7-4943-b8a4-61b1452b9d8e"
      },
      "execution_count": 9,
      "outputs": [
        {
          "output_type": "execute_result",
          "data": {
            "text/plain": [
              "79510"
            ]
          },
          "metadata": {},
          "execution_count": 9
        }
      ]
    },
    {
      "cell_type": "code",
      "source": [],
      "metadata": {
        "id": "NDFTxOyKmnC-"
      },
      "execution_count": null,
      "outputs": []
    },
    {
      "cell_type": "code",
      "source": [
        "def test(net, loader):\n",
        "    net.eval()\n",
        "\n",
        "    correct, total = 0, 0\n",
        "\n",
        "    for batch in loader:\n",
        "        images, labels = batch[0], batch[1]\n",
        "        images = images.to('cuda')\n",
        "        labels = labels.to('cuda')\n",
        "\n",
        "        with torch.no_grad():\n",
        "            out = net(images)\n",
        "        pred = torch.argmax(out, dim=1)\n",
        "\n",
        "        total += len(pred)\n",
        "        correct += (pred == labels).cpu().numpy().sum()\n",
        "\n",
        "    return correct / total"
      ],
      "metadata": {
        "id": "ktkZIPwVwRxG"
      },
      "execution_count": 10,
      "outputs": []
    },
    {
      "cell_type": "code",
      "source": [
        "net = MLP(hidden_size=100)\n",
        "net = net.to('cuda')"
      ],
      "metadata": {
        "id": "DqLjBZSXwR6k"
      },
      "execution_count": 11,
      "outputs": []
    },
    {
      "cell_type": "code",
      "source": [
        "test(net, train_loader)"
      ],
      "metadata": {
        "colab": {
          "base_uri": "https://localhost:8080/"
        },
        "id": "kKVNj0jRwaK9",
        "outputId": "14432f03-6a2d-4f9c-fee2-4021b03a75ea"
      },
      "execution_count": 12,
      "outputs": [
        {
          "output_type": "execute_result",
          "data": {
            "text/plain": [
              "0.13898333333333332"
            ]
          },
          "metadata": {},
          "execution_count": 12
        }
      ]
    },
    {
      "cell_type": "code",
      "source": [],
      "metadata": {
        "id": "Fg3V92gpwaNI"
      },
      "execution_count": null,
      "outputs": []
    },
    {
      "cell_type": "code",
      "source": [
        "def train(net, train_loader, val_loader, optimizer, epochs=10):\n",
        "    train_acc, val_acc = [], []\n",
        "    net.train()\n",
        "\n",
        "    for epoch in range(epochs):\n",
        "\n",
        "        correct, total = 0, 0\n",
        "\n",
        "        for batch in train_loader:\n",
        "            images, labels = batch[0], batch[1]\n",
        "            images = images.to('cuda')\n",
        "            labels = labels.to('cuda')\n",
        "\n",
        "            optimizer.zero_grad()\n",
        "            out = net(images)\n",
        "            loss = F.cross_entropy(out, labels)\n",
        "            loss.backward()\n",
        "            optimizer.step()\n",
        "\n",
        "            pred = torch.argmax(out, dim=1)\n",
        "\n",
        "            total += len(pred)\n",
        "            correct += (pred == labels).detach().cpu().numpy().sum()\n",
        "\n",
        "        train_acc.append(correct / total)\n",
        "        val_acc.append(test(net, val_loader))\n",
        "\n",
        "        print(f\"Epoch: {epoch}\")\n",
        "        print(f\"train accuracy: {train_acc[-1]}\")\n",
        "        print(f\"val accuracy: {val_acc[-1]}\")\n",
        "\n",
        "    return train_acc, val_acc"
      ],
      "metadata": {
        "id": "xW_HOmF6waPl"
      },
      "execution_count": 13,
      "outputs": []
    },
    {
      "cell_type": "code",
      "source": [
        "optimizer = torch.optim.SGD(net.parameters(), lr=0.1, momentum=0.9)"
      ],
      "metadata": {
        "id": "9eYh4GJbwSGs"
      },
      "execution_count": 14,
      "outputs": []
    },
    {
      "cell_type": "code",
      "source": [
        "train_acc, val_acc = train(net, train_loader, val_loader, optimizer, epochs=10)"
      ],
      "metadata": {
        "colab": {
          "base_uri": "https://localhost:8080/"
        },
        "id": "2JFeSSenwSLM",
        "outputId": "74dd6c0c-ad75-4576-8b58-47c73c3cc6fb"
      },
      "execution_count": 15,
      "outputs": [
        {
          "output_type": "stream",
          "name": "stdout",
          "text": [
            "Epoch: 0\n",
            "train accuracy: 0.9234166666666667\n",
            "val accuracy: 0.9568\n",
            "Epoch: 1\n",
            "train accuracy: 0.9644\n",
            "val accuracy: 0.9578\n",
            "Epoch: 2\n",
            "train accuracy: 0.9754666666666667\n",
            "val accuracy: 0.9731\n",
            "Epoch: 3\n",
            "train accuracy: 0.9783333333333334\n",
            "val accuracy: 0.9675\n",
            "Epoch: 4\n",
            "train accuracy: 0.98125\n",
            "val accuracy: 0.9739\n",
            "Epoch: 5\n",
            "train accuracy: 0.9846333333333334\n",
            "val accuracy: 0.974\n",
            "Epoch: 6\n",
            "train accuracy: 0.9862166666666666\n",
            "val accuracy: 0.9732\n",
            "Epoch: 7\n",
            "train accuracy: 0.9879166666666667\n",
            "val accuracy: 0.9767\n",
            "Epoch: 8\n",
            "train accuracy: 0.9908666666666667\n",
            "val accuracy: 0.9722\n",
            "Epoch: 9\n",
            "train accuracy: 0.99115\n",
            "val accuracy: 0.9756\n"
          ]
        }
      ]
    },
    {
      "cell_type": "code",
      "source": [
        "import numpy as np\n",
        "\n",
        "plt.figure(figsize=(7, 5))\n",
        "\n",
        "plt.plot(np.arange(10), train_acc, label='train')\n",
        "plt.plot(np.arange(10), val_acc, label='val')\n",
        "\n",
        "plt.grid()\n",
        "plt.legend(loc='lower right')\n",
        "plt.xlabel(\"epoch\")\n",
        "plt.ylabel(\"accuracy\")\n",
        "plt.title(\"MLP training\")\n",
        "plt.show()"
      ],
      "metadata": {
        "colab": {
          "base_uri": "https://localhost:8080/",
          "height": 487
        },
        "id": "fpmVPHsf-59Z",
        "outputId": "f8e50f75-a60e-4bf8-f040-a05c0a93cd09"
      },
      "execution_count": 16,
      "outputs": [
        {
          "output_type": "display_data",
          "data": {
            "text/plain": [
              "<Figure size 700x500 with 1 Axes>"
            ],
            "image/png": "[encoded data removed]"
          },
          "metadata": {}
        }
      ]
    },
    {
      "cell_type": "code",
      "source": [
        "torch.save(net.state_dict(), \"weights.pt\")"
      ],
      "metadata": {
        "id": "fL76kZN9MZDK"
      },
      "execution_count": 17,
      "outputs": []
    },
    {
      "cell_type": "code",
      "source": [
        "!ls"
      ],
      "metadata": {
        "colab": {
          "base_uri": "https://localhost:8080/"
        },
        "id": "eCA2cUAYcSvh",
        "outputId": "91cc2671-455e-4294-9e32-658ea9975568"
      },
      "execution_count": 18,
      "outputs": [
        {
          "output_type": "stream",
          "name": "stdout",
          "text": [
            "sample_data  weights.pt\n"
          ]
        }
      ]
    },
    {
      "cell_type": "code",
      "source": [
        "net.state_dict().keys()"
      ],
      "metadata": {
        "colab": {
          "base_uri": "https://localhost:8080/"
        },
        "id": "W_kM3eg4MZL_",
        "outputId": "426fdbdd-9f3d-4fa5-aa76-b2f929d72a51"
      },
      "execution_count": 19,
      "outputs": [
        {
          "output_type": "execute_result",
          "data": {
            "text/plain": [
              "odict_keys(['linear1.weight', 'linear1.bias', 'linear2.weight', 'linear2.bias'])"
            ]
          },
          "metadata": {},
          "execution_count": 19
        }
      ]
    },
    {
      "cell_type": "code",
      "source": [
        "net = MLP(hidden_size=100).to('cuda')\n",
        "test(net, val_loader)"
      ],
      "metadata": {
        "colab": {
          "base_uri": "https://localhost:8080/"
        },
        "id": "Lr0DKP_z-6DX",
        "outputId": "50cc7361-2dd9-4094-9c90-ee5164e7b10c"
      },
      "execution_count": 20,
      "outputs": [
        {
          "output_type": "execute_result",
          "data": {
            "text/plain": [
              "0.0898"
            ]
          },
          "metadata": {},
          "execution_count": 20
        }
      ]
    },
    {
      "cell_type": "code",
      "source": [
        "net.load_state_dict(torch.load(\"weights.pt\"))\n",
        "test(net, val_loader)"
      ],
      "metadata": {
        "colab": {
          "base_uri": "https://localhost:8080/"
        },
        "id": "Hs_SvnTxMeXf",
        "outputId": "1400b132-ae8a-409c-fc11-d17bd98bb4dc"
      },
      "execution_count": 21,
      "outputs": [
        {
          "output_type": "execute_result",
          "data": {
            "text/plain": [
              "0.9756"
            ]
          },
          "metadata": {},
          "execution_count": 21
        }
      ]
    },
    {
      "cell_type": "code",
      "source": [],
      "metadata": {
        "id": "GN3uf6IJ-6GO"
      },
      "execution_count": null,
      "outputs": []
    },
    {
      "cell_type": "code",
      "source": [],
      "metadata": {
        "id": "tOTCNbTo-6Iy"
      },
      "execution_count": null,
      "outputs": []
    },
    {
      "cell_type": "code",
      "source": [
        "#hyperparameters:\n",
        "# 0) epochs\n",
        "# 1) learning rate, hidden_size\n",
        "# 2) optimizer, momentum, batch_size"
      ],
      "metadata": {
        "id": "gQcuxrrgwSQS"
      },
      "execution_count": 22,
      "outputs": []
    },
    {
      "cell_type": "code",
      "source": [
        "net = MLP(hidden_size=1000)\n",
        "net = net.to('cuda')\n",
        "optimizer = torch.optim.SGD(net.parameters(), lr=0.1, momentum=0.9)\n",
        "train_acc, val_acc = train(net, train_loader, val_loader, optimizer, epochs=10)"
      ],
      "metadata": {
        "id": "NLDS-jOfLDOO",
        "colab": {
          "base_uri": "https://localhost:8080/"
        },
        "outputId": "001a03d4-1a49-47e7-d962-677e0443eb97"
      },
      "execution_count": 23,
      "outputs": [
        {
          "output_type": "stream",
          "name": "stdout",
          "text": [
            "Epoch: 0\n",
            "train accuracy: 0.93485\n",
            "val accuracy: 0.9584\n",
            "Epoch: 1\n",
            "train accuracy: 0.9736166666666667\n",
            "val accuracy: 0.9719\n",
            "Epoch: 2\n",
            "train accuracy: 0.98275\n",
            "val accuracy: 0.9784\n",
            "Epoch: 3\n",
            "train accuracy: 0.9878833333333333\n",
            "val accuracy: 0.9791\n",
            "Epoch: 4\n",
            "train accuracy: 0.9911166666666666\n",
            "val accuracy: 0.98\n",
            "Epoch: 5\n",
            "train accuracy: 0.99415\n",
            "val accuracy: 0.9807\n",
            "Epoch: 6\n",
            "train accuracy: 0.9965666666666667\n",
            "val accuracy: 0.9804\n",
            "Epoch: 7\n",
            "train accuracy: 0.9981166666666667\n",
            "val accuracy: 0.9833\n",
            "Epoch: 8\n",
            "train accuracy: 0.9989666666666667\n",
            "val accuracy: 0.9841\n",
            "Epoch: 9\n",
            "train accuracy: 0.99945\n",
            "val accuracy: 0.9856\n"
          ]
        }
      ]
    },
    {
      "cell_type": "code",
      "source": [
        "train_loader = DataLoader(train_set, batch_size=128, shuffle=True)\n",
        "val_loader = DataLoader(val_set, batch_size=128, shuffle=False)\n",
        "net = MLP(hidden_size=1000)\n",
        "net = net.to('cuda')\n",
        "optimizer = torch.optim.SGD(net.parameters(), lr=0.1, momentum=0.9)\n",
        "train_acc, val_acc = train(net, train_loader, val_loader, optimizer, epochs=10)"
      ],
      "metadata": {
        "colab": {
          "base_uri": "https://localhost:8080/"
        },
        "id": "6T139iJxeTn6",
        "outputId": "b4b7ab7e-3427-4d8d-b7d1-464f73eaadb9"
      },
      "execution_count": 24,
      "outputs": [
        {
          "output_type": "stream",
          "name": "stdout",
          "text": [
            "Epoch: 0\n",
            "train accuracy: 0.921\n",
            "val accuracy: 0.9677\n",
            "Epoch: 1\n",
            "train accuracy: 0.9728833333333333\n",
            "val accuracy: 0.9744\n",
            "Epoch: 2\n",
            "train accuracy: 0.98215\n",
            "val accuracy: 0.9782\n",
            "Epoch: 3\n",
            "train accuracy: 0.9870833333333333\n",
            "val accuracy: 0.9795\n",
            "Epoch: 4\n",
            "train accuracy: 0.99165\n",
            "val accuracy: 0.9815\n",
            "Epoch: 5\n",
            "train accuracy: 0.99405\n",
            "val accuracy: 0.9805\n",
            "Epoch: 6\n",
            "train accuracy: 0.99605\n",
            "val accuracy: 0.9804\n",
            "Epoch: 7\n",
            "train accuracy: 0.9975333333333334\n",
            "val accuracy: 0.9826\n",
            "Epoch: 8\n",
            "train accuracy: 0.9989166666666667\n",
            "val accuracy: 0.9826\n",
            "Epoch: 9\n",
            "train accuracy: 0.99925\n",
            "val accuracy: 0.9833\n"
          ]
        }
      ]
    },
    {
      "cell_type": "code",
      "source": [
        "net = MLP(hidden_size=1000)\n",
        "net = net.to('cuda')\n",
        "optimizer = torch.optim.Adam(net.parameters(), lr=0.001)\n",
        "train_acc, val_acc = train(net, train_loader, val_loader, optimizer, epochs=10)"
      ],
      "metadata": {
        "colab": {
          "base_uri": "https://localhost:8080/"
        },
        "id": "QgV-Eh7O3ARQ",
        "outputId": "c823bed9-4c70-4f54-d484-e4a66c29a85e"
      },
      "execution_count": 26,
      "outputs": [
        {
          "output_type": "stream",
          "name": "stdout",
          "text": [
            "Epoch: 0\n",
            "train accuracy: 0.9225833333333333\n",
            "val accuracy: 0.9618\n",
            "Epoch: 1\n",
            "train accuracy: 0.9700666666666666\n",
            "val accuracy: 0.9722\n",
            "Epoch: 2\n",
            "train accuracy: 0.98035\n",
            "val accuracy: 0.9743\n",
            "Epoch: 3\n",
            "train accuracy: 0.9857166666666667\n",
            "val accuracy: 0.978\n",
            "Epoch: 4\n",
            "train accuracy: 0.9902333333333333\n",
            "val accuracy: 0.9789\n",
            "Epoch: 5\n",
            "train accuracy: 0.9926\n",
            "val accuracy: 0.9817\n",
            "Epoch: 6\n",
            "train accuracy: 0.9956333333333334\n",
            "val accuracy: 0.9792\n",
            "Epoch: 7\n",
            "train accuracy: 0.9961333333333333\n",
            "val accuracy: 0.9807\n",
            "Epoch: 8\n",
            "train accuracy: 0.9968833333333333\n",
            "val accuracy: 0.9794\n",
            "Epoch: 9\n",
            "train accuracy: 0.9979166666666667\n",
            "val accuracy: 0.982\n"
          ]
        }
      ]
    },
    {
      "cell_type": "code",
      "source": [],
      "metadata": {
        "id": "9hr_QXkg4_vn"
      },
      "execution_count": null,
      "outputs": []
    }
  ]
}