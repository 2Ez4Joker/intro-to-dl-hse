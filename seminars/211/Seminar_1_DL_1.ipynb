{
  "nbformat": 4,
  "nbformat_minor": 0,
  "metadata": {
    "colab": {
      "provenance": [],
      "gpuType": "T4"
    },
    "kernelspec": {
      "name": "python3",
      "display_name": "Python 3"
    },
    "language_info": {
      "name": "python"
    },
    "accelerator": "GPU"
  },
  "cells": [
    {
      "cell_type": "code",
      "execution_count": 1,
      "metadata": {
        "id": "ImOzawMZTiLH"
      },
      "outputs": [],
      "source": [
        "import torch\n",
        "import numpy as np"
      ]
    },
    {
      "cell_type": "code",
      "source": [
        "a = np.random.normal(size=(10, 20))\n",
        "a"
      ],
      "metadata": {
        "id": "_kbjF0E8ZqHj",
        "colab": {
          "base_uri": "https://localhost:8080/"
        },
        "outputId": "a7f5d459-2788-493a-e681-fcdc2bdd4a2b"
      },
      "execution_count": 2,
      "outputs": [
        {
          "output_type": "execute_result",
          "data": {
            "text/plain": [
              "array([[-7.24576170e-01, -1.40499652e+00, -1.01383281e-01,\n",
              "        -7.32811306e-02, -1.43235991e+00, -7.61451591e-02,\n",
              "         1.29578511e-01,  8.23934228e-02, -1.37029981e+00,\n",
              "        -1.72021776e-01,  1.95352980e-01, -1.99764100e-01,\n",
              "         5.93417850e-01,  9.55367290e-01, -3.88307055e-03,\n",
              "        -9.00964803e-02,  2.00002166e-01,  1.96310056e-01,\n",
              "        -4.68232870e-01,  4.66234312e-01],\n",
              "       [ 1.43968900e-01,  1.28693181e+00,  2.26905546e+00,\n",
              "         1.46412158e+00, -2.08340998e-02, -9.08974390e-01,\n",
              "        -4.10099210e-01,  1.20536282e+00, -4.90760313e-01,\n",
              "        -3.90908627e-01, -6.51912199e-02,  6.12324999e-01,\n",
              "         2.10233380e-01, -5.65118454e-01,  1.28883683e+00,\n",
              "         5.18070505e-01,  2.64947233e-01,  5.44061635e-01,\n",
              "         5.27789098e-01,  6.51276159e-03],\n",
              "       [-6.98683150e-01,  8.31343507e-01,  5.91659426e-01,\n",
              "        -3.28974888e-01, -5.02347290e-01,  1.57329801e-01,\n",
              "        -1.55970371e+00,  9.24112553e-01, -1.13105390e+00,\n",
              "        -1.51222098e+00,  1.03116605e-01,  1.52033056e+00,\n",
              "        -2.35451201e+00,  2.40574342e-01,  6.65690129e-01,\n",
              "         1.21033794e-01, -1.88198858e-01, -9.30976191e-01,\n",
              "        -1.21483747e+00,  2.26281747e-01],\n",
              "       [-1.87293215e+00, -9.56307674e-02,  6.02629928e-01,\n",
              "         1.04771647e-01, -4.85065785e-01, -1.39703958e+00,\n",
              "         4.08318900e-01, -8.44314709e-02,  2.09428764e-01,\n",
              "        -5.25041530e-01, -1.27039328e+00,  1.00180331e+00,\n",
              "        -1.59420591e+00, -2.66859238e+00,  3.55076684e-02,\n",
              "         5.37597740e-01, -2.05414984e+00,  1.23341310e+00,\n",
              "        -1.48755183e+00, -3.60390713e+00],\n",
              "       [-4.21410619e-01, -2.29359839e+00, -1.95657185e-01,\n",
              "         1.92591335e+00, -2.79929194e-01, -9.56127820e-01,\n",
              "        -3.92062307e-01, -4.98992593e-01, -1.43505997e+00,\n",
              "         1.63918193e+00,  1.02458917e+00, -3.84905307e-01,\n",
              "        -2.24009907e+00, -2.19562622e+00,  1.62002787e-01,\n",
              "        -1.15352312e-01, -7.53258854e-01, -2.25900761e+00,\n",
              "        -1.71401183e+00,  9.86549634e-01],\n",
              "       [-1.34100247e-01, -6.53724795e-01, -5.77363298e-01,\n",
              "         1.93367163e+00, -4.80575133e-01,  6.97944126e-01,\n",
              "         6.05174497e-01, -2.56247044e+00, -8.60788858e-01,\n",
              "        -5.39411881e-01, -2.29826933e+00,  6.52745435e-01,\n",
              "        -9.67170625e-02,  2.81707903e-01,  6.35854657e-01,\n",
              "         2.14506616e+00,  7.45979959e-01, -7.01128017e-01,\n",
              "        -8.28251320e-01,  1.02081838e-01],\n",
              "       [-2.44633803e+00,  1.96444117e+00,  6.25423232e-01,\n",
              "        -6.83001381e-01, -1.07910172e+00,  1.74586207e+00,\n",
              "        -6.86566564e-01, -3.73615489e-01, -4.41184916e-01,\n",
              "         1.17085569e-02, -2.21284103e+00,  2.55914518e-03,\n",
              "        -5.71316760e-01,  9.22771146e-02,  9.10530349e-01,\n",
              "         1.53366098e+00,  3.07937301e-01,  1.97545098e+00,\n",
              "         1.35535545e+00, -4.58283173e-01],\n",
              "       [-2.63684441e+00,  4.57057912e-02,  4.80922753e-01,\n",
              "         2.23305277e-01,  7.02127037e-01, -2.31919884e-01,\n",
              "        -1.20037099e+00,  6.72255884e-02,  5.04349495e-01,\n",
              "         1.07365581e-01, -7.90614545e-01, -9.37634871e-01,\n",
              "         3.43747477e-01, -1.12272577e+00, -1.83459208e+00,\n",
              "         1.00254571e+00, -3.98015329e-01, -8.65900857e-01,\n",
              "         2.03302122e-01, -6.28512329e-01],\n",
              "       [-1.10459469e+00, -2.38458928e+00, -6.83826893e-01,\n",
              "         6.38987975e-01, -1.73990321e+00,  4.62122677e-01,\n",
              "         1.12391584e+00, -1.29478516e+00, -7.28259244e-01,\n",
              "        -1.40363876e+00, -7.34924670e-01,  4.36445683e-02,\n",
              "        -3.18715862e-01,  8.16185977e-01, -2.18922108e+00,\n",
              "         9.90091170e-01, -1.38100189e+00,  2.22293177e-02,\n",
              "         1.70393001e+00, -3.47882410e-02],\n",
              "       [ 1.21864854e-01, -1.05327239e-01, -6.07275084e-01,\n",
              "         8.47237901e-02,  8.38528809e-02,  1.57778300e+00,\n",
              "        -7.83647175e-01, -2.02644120e+00,  5.21261300e-01,\n",
              "         9.75774548e-01, -1.26783638e+00,  1.43013201e+00,\n",
              "        -9.94913686e-02,  2.58832941e-01,  1.44896407e-01,\n",
              "         4.72626025e-01, -4.95460408e-01,  1.87211037e-01,\n",
              "         1.09044138e+00,  1.22004410e+00]])"
            ]
          },
          "metadata": {},
          "execution_count": 2
        }
      ]
    },
    {
      "cell_type": "code",
      "source": [
        "a.sum()"
      ],
      "metadata": {
        "colab": {
          "base_uri": "https://localhost:8080/"
        },
        "id": "AhbpgSO7ZqJm",
        "outputId": "6586ef8a-096f-4fb2-ba6b-519a87401484"
      },
      "execution_count": 3,
      "outputs": [
        {
          "output_type": "execute_result",
          "data": {
            "text/plain": [
              "-36.989749145303385"
            ]
          },
          "metadata": {},
          "execution_count": 3
        }
      ]
    },
    {
      "cell_type": "code",
      "source": [
        "(a ** 2).sum()"
      ],
      "metadata": {
        "colab": {
          "base_uri": "https://localhost:8080/"
        },
        "id": "UV6b9ME8ZqL2",
        "outputId": "686572bf-020f-4ccf-d74c-3b77e1f0a73e"
      },
      "execution_count": 4,
      "outputs": [
        {
          "output_type": "execute_result",
          "data": {
            "text/plain": [
              "237.29342861729842"
            ]
          },
          "metadata": {},
          "execution_count": 4
        }
      ]
    },
    {
      "cell_type": "code",
      "source": [
        "a.shape"
      ],
      "metadata": {
        "colab": {
          "base_uri": "https://localhost:8080/"
        },
        "id": "AYVQRfYZaLPk",
        "outputId": "08a8216a-b300-4533-8116-87bb1909e94e"
      },
      "execution_count": 5,
      "outputs": [
        {
          "output_type": "execute_result",
          "data": {
            "text/plain": [
              "(10, 20)"
            ]
          },
          "metadata": {},
          "execution_count": 5
        }
      ]
    },
    {
      "cell_type": "code",
      "source": [
        "res = a @ a.T\n",
        "res.shape"
      ],
      "metadata": {
        "colab": {
          "base_uri": "https://localhost:8080/"
        },
        "id": "pmqZWda6ZqN9",
        "outputId": "4de9199a-2896-40e4-a515-8507a4fb7219"
      },
      "execution_count": 6,
      "outputs": [
        {
          "output_type": "execute_result",
          "data": {
            "text/plain": [
              "(10, 10)"
            ]
          },
          "metadata": {},
          "execution_count": 6
        }
      ]
    },
    {
      "cell_type": "code",
      "source": [],
      "metadata": {
        "id": "di66lAC2aTDR"
      },
      "execution_count": null,
      "outputs": []
    },
    {
      "cell_type": "code",
      "source": [
        "b = torch.tensor(a)\n",
        "b"
      ],
      "metadata": {
        "id": "hRTcdwN7aTKb",
        "colab": {
          "base_uri": "https://localhost:8080/"
        },
        "outputId": "2bbe50d1-908c-45c0-9eef-27728c4c8e74"
      },
      "execution_count": 7,
      "outputs": [
        {
          "output_type": "execute_result",
          "data": {
            "text/plain": [
              "tensor([[-7.2458e-01, -1.4050e+00, -1.0138e-01, -7.3281e-02, -1.4324e+00,\n",
              "         -7.6145e-02,  1.2958e-01,  8.2393e-02, -1.3703e+00, -1.7202e-01,\n",
              "          1.9535e-01, -1.9976e-01,  5.9342e-01,  9.5537e-01, -3.8831e-03,\n",
              "         -9.0096e-02,  2.0000e-01,  1.9631e-01, -4.6823e-01,  4.6623e-01],\n",
              "        [ 1.4397e-01,  1.2869e+00,  2.2691e+00,  1.4641e+00, -2.0834e-02,\n",
              "         -9.0897e-01, -4.1010e-01,  1.2054e+00, -4.9076e-01, -3.9091e-01,\n",
              "         -6.5191e-02,  6.1232e-01,  2.1023e-01, -5.6512e-01,  1.2888e+00,\n",
              "          5.1807e-01,  2.6495e-01,  5.4406e-01,  5.2779e-01,  6.5128e-03],\n",
              "        [-6.9868e-01,  8.3134e-01,  5.9166e-01, -3.2897e-01, -5.0235e-01,\n",
              "          1.5733e-01, -1.5597e+00,  9.2411e-01, -1.1311e+00, -1.5122e+00,\n",
              "          1.0312e-01,  1.5203e+00, -2.3545e+00,  2.4057e-01,  6.6569e-01,\n",
              "          1.2103e-01, -1.8820e-01, -9.3098e-01, -1.2148e+00,  2.2628e-01],\n",
              "        [-1.8729e+00, -9.5631e-02,  6.0263e-01,  1.0477e-01, -4.8507e-01,\n",
              "         -1.3970e+00,  4.0832e-01, -8.4431e-02,  2.0943e-01, -5.2504e-01,\n",
              "         -1.2704e+00,  1.0018e+00, -1.5942e+00, -2.6686e+00,  3.5508e-02,\n",
              "          5.3760e-01, -2.0541e+00,  1.2334e+00, -1.4876e+00, -3.6039e+00],\n",
              "        [-4.2141e-01, -2.2936e+00, -1.9566e-01,  1.9259e+00, -2.7993e-01,\n",
              "         -9.5613e-01, -3.9206e-01, -4.9899e-01, -1.4351e+00,  1.6392e+00,\n",
              "          1.0246e+00, -3.8491e-01, -2.2401e+00, -2.1956e+00,  1.6200e-01,\n",
              "         -1.1535e-01, -7.5326e-01, -2.2590e+00, -1.7140e+00,  9.8655e-01],\n",
              "        [-1.3410e-01, -6.5372e-01, -5.7736e-01,  1.9337e+00, -4.8058e-01,\n",
              "          6.9794e-01,  6.0517e-01, -2.5625e+00, -8.6079e-01, -5.3941e-01,\n",
              "         -2.2983e+00,  6.5275e-01, -9.6717e-02,  2.8171e-01,  6.3585e-01,\n",
              "          2.1451e+00,  7.4598e-01, -7.0113e-01, -8.2825e-01,  1.0208e-01],\n",
              "        [-2.4463e+00,  1.9644e+00,  6.2542e-01, -6.8300e-01, -1.0791e+00,\n",
              "          1.7459e+00, -6.8657e-01, -3.7362e-01, -4.4118e-01,  1.1709e-02,\n",
              "         -2.2128e+00,  2.5591e-03, -5.7132e-01,  9.2277e-02,  9.1053e-01,\n",
              "          1.5337e+00,  3.0794e-01,  1.9755e+00,  1.3554e+00, -4.5828e-01],\n",
              "        [-2.6368e+00,  4.5706e-02,  4.8092e-01,  2.2331e-01,  7.0213e-01,\n",
              "         -2.3192e-01, -1.2004e+00,  6.7226e-02,  5.0435e-01,  1.0737e-01,\n",
              "         -7.9061e-01, -9.3763e-01,  3.4375e-01, -1.1227e+00, -1.8346e+00,\n",
              "          1.0025e+00, -3.9802e-01, -8.6590e-01,  2.0330e-01, -6.2851e-01],\n",
              "        [-1.1046e+00, -2.3846e+00, -6.8383e-01,  6.3899e-01, -1.7399e+00,\n",
              "          4.6212e-01,  1.1239e+00, -1.2948e+00, -7.2826e-01, -1.4036e+00,\n",
              "         -7.3492e-01,  4.3645e-02, -3.1872e-01,  8.1619e-01, -2.1892e+00,\n",
              "          9.9009e-01, -1.3810e+00,  2.2229e-02,  1.7039e+00, -3.4788e-02],\n",
              "        [ 1.2186e-01, -1.0533e-01, -6.0728e-01,  8.4724e-02,  8.3853e-02,\n",
              "          1.5778e+00, -7.8365e-01, -2.0264e+00,  5.2126e-01,  9.7577e-01,\n",
              "         -1.2678e+00,  1.4301e+00, -9.9491e-02,  2.5883e-01,  1.4490e-01,\n",
              "          4.7263e-01, -4.9546e-01,  1.8721e-01,  1.0904e+00,  1.2200e+00]],\n",
              "       dtype=torch.float64)"
            ]
          },
          "metadata": {},
          "execution_count": 7
        }
      ]
    },
    {
      "cell_type": "code",
      "source": [
        "b.sum()"
      ],
      "metadata": {
        "colab": {
          "base_uri": "https://localhost:8080/"
        },
        "id": "RF-ZXVvoaX8L",
        "outputId": "701c29fb-5917-421c-b167-16b8247f9e53"
      },
      "execution_count": 8,
      "outputs": [
        {
          "output_type": "execute_result",
          "data": {
            "text/plain": [
              "tensor(-36.9897, dtype=torch.float64)"
            ]
          },
          "metadata": {},
          "execution_count": 8
        }
      ]
    },
    {
      "cell_type": "code",
      "source": [
        "(b ** 2).sum()"
      ],
      "metadata": {
        "colab": {
          "base_uri": "https://localhost:8080/"
        },
        "id": "LKTQ6WBSaX-R",
        "outputId": "64aa6447-661d-4fba-a828-95c2fe811b1f"
      },
      "execution_count": 9,
      "outputs": [
        {
          "output_type": "execute_result",
          "data": {
            "text/plain": [
              "tensor(237.2934, dtype=torch.float64)"
            ]
          },
          "metadata": {},
          "execution_count": 9
        }
      ]
    },
    {
      "cell_type": "code",
      "source": [
        "res = b @ b.T\n",
        "res.shape"
      ],
      "metadata": {
        "colab": {
          "base_uri": "https://localhost:8080/"
        },
        "id": "3ORIsXG9aYAh",
        "outputId": "c1b6b076-5b46-40bc-d848-52b475b9763c"
      },
      "execution_count": 10,
      "outputs": [
        {
          "output_type": "execute_result",
          "data": {
            "text/plain": [
              "torch.Size([10, 10])"
            ]
          },
          "metadata": {},
          "execution_count": 10
        }
      ]
    },
    {
      "cell_type": "code",
      "source": [],
      "metadata": {
        "id": "c7X4uzRvalLX"
      },
      "execution_count": null,
      "outputs": []
    },
    {
      "cell_type": "code",
      "source": [],
      "metadata": {
        "id": "TiCw5ChOalNb"
      },
      "execution_count": null,
      "outputs": []
    },
    {
      "cell_type": "code",
      "source": [
        "x = torch.tensor(2.0, requires_grad=True)\n",
        "y = torch.tensor(1.0, requires_grad=True)\n",
        "\n",
        "z = x ** 2 + y\n",
        "\n",
        "w = torch.log(z)"
      ],
      "metadata": {
        "id": "xT-9GbyTalPa"
      },
      "execution_count": 25,
      "outputs": []
    },
    {
      "cell_type": "code",
      "source": [
        "w.backward()"
      ],
      "metadata": {
        "id": "0fAlojpNbOmD"
      },
      "execution_count": 26,
      "outputs": []
    },
    {
      "cell_type": "code",
      "source": [
        "x.grad"
      ],
      "metadata": {
        "colab": {
          "base_uri": "https://localhost:8080/"
        },
        "id": "r2rgCrdUbOoQ",
        "outputId": "56ed5f9d-1dd7-4216-c7d3-0166120a3dad"
      },
      "execution_count": 27,
      "outputs": [
        {
          "output_type": "execute_result",
          "data": {
            "text/plain": [
              "tensor(0.8000)"
            ]
          },
          "metadata": {},
          "execution_count": 27
        }
      ]
    },
    {
      "cell_type": "code",
      "source": [
        "2 * x / (x ** 2 + y)"
      ],
      "metadata": {
        "colab": {
          "base_uri": "https://localhost:8080/"
        },
        "id": "2VMZQMyJgwt7",
        "outputId": "e4ab38a7-950b-467b-c769-eb7d76d7e573"
      },
      "execution_count": 28,
      "outputs": [
        {
          "output_type": "execute_result",
          "data": {
            "text/plain": [
              "tensor(0.8000, grad_fn=<DivBackward0>)"
            ]
          },
          "metadata": {},
          "execution_count": 28
        }
      ]
    },
    {
      "cell_type": "code",
      "source": [
        "y.grad.zero_()\n",
        "a = y ** 3\n",
        "a.backward()\n",
        "y.grad"
      ],
      "metadata": {
        "id": "KZfIjxiLSTI-",
        "colab": {
          "base_uri": "https://localhost:8080/"
        },
        "outputId": "d883feca-5206-4742-d96a-c1778203d6ef"
      },
      "execution_count": 29,
      "outputs": [
        {
          "output_type": "execute_result",
          "data": {
            "text/plain": [
              "tensor(3.)"
            ]
          },
          "metadata": {},
          "execution_count": 29
        }
      ]
    },
    {
      "cell_type": "code",
      "source": [],
      "metadata": {
        "id": "YbdhiVhScXb-"
      },
      "execution_count": null,
      "outputs": []
    },
    {
      "cell_type": "code",
      "source": [
        "A = torch.tensor(np.random.normal(size=(20, 20)))\n",
        "x = torch.tensor(np.random.normal(size=(20,)), requires_grad=True)\n",
        "\n",
        "w = x.T @ A\n",
        "y = w @ x\n",
        "\n",
        "y.backward()"
      ],
      "metadata": {
        "id": "qQrCmW_AcXdd",
        "colab": {
          "base_uri": "https://localhost:8080/"
        },
        "outputId": "a1b95600-59e3-4a7a-ea74-7d508749abae"
      },
      "execution_count": 30,
      "outputs": [
        {
          "output_type": "stream",
          "name": "stderr",
          "text": [
            "<ipython-input-30-ab53505b8363>:4: UserWarning: The use of `x.T` on tensors of dimension other than 2 to reverse their shape is deprecated and it will throw an error in a future release. Consider `x.mT` to transpose batches of matrices or `x.permute(*torch.arange(x.ndim - 1, -1, -1))` to reverse the dimensions of a tensor. (Triggered internally at ../aten/src/ATen/native/TensorShape.cpp:3571.)\n",
            "  w = x.T @ A\n"
          ]
        }
      ]
    },
    {
      "cell_type": "code",
      "source": [
        "x.grad"
      ],
      "metadata": {
        "colab": {
          "base_uri": "https://localhost:8080/"
        },
        "id": "EBuA8VhScXe1",
        "outputId": "7e5cdf76-8010-43a3-dac7-9b22ef0741d5"
      },
      "execution_count": 31,
      "outputs": [
        {
          "output_type": "execute_result",
          "data": {
            "text/plain": [
              "tensor([ -1.7213,   7.3636,   1.7475,  -1.0971,  13.9996,  -2.6436,  -2.5549,\n",
              "          5.2895, -18.6232,   5.1222,  -6.2905,   1.4286,  -5.6245,  -4.5044,\n",
              "          0.9611,  -5.2643,  -3.8299,  -0.5409,   7.1427,  -7.0761],\n",
              "       dtype=torch.float64)"
            ]
          },
          "metadata": {},
          "execution_count": 31
        }
      ]
    },
    {
      "cell_type": "code",
      "source": [
        "(A + A.T) @ x"
      ],
      "metadata": {
        "colab": {
          "base_uri": "https://localhost:8080/"
        },
        "id": "817YwF0FcXgG",
        "outputId": "b6f4cc61-9e45-404c-bf95-14de3d0f2a5a"
      },
      "execution_count": 32,
      "outputs": [
        {
          "output_type": "execute_result",
          "data": {
            "text/plain": [
              "tensor([ -1.7213,   7.3636,   1.7475,  -1.0971,  13.9996,  -2.6436,  -2.5549,\n",
              "          5.2895, -18.6232,   5.1222,  -6.2905,   1.4286,  -5.6245,  -4.5044,\n",
              "          0.9611,  -5.2643,  -3.8299,  -0.5409,   7.1427,  -7.0761],\n",
              "       dtype=torch.float64, grad_fn=<MvBackward0>)"
            ]
          },
          "metadata": {},
          "execution_count": 32
        }
      ]
    },
    {
      "cell_type": "code",
      "source": [],
      "metadata": {
        "id": "IhbqE_hRcXh-"
      },
      "execution_count": null,
      "outputs": []
    },
    {
      "cell_type": "code",
      "source": [
        "x = torch.tensor(2.0, requires_grad=True)\n",
        "y = torch.abs(x)\n",
        "y.backward()\n",
        "x.grad"
      ],
      "metadata": {
        "colab": {
          "base_uri": "https://localhost:8080/"
        },
        "id": "fu-bf7LRPMD8",
        "outputId": "5f5d1870-825c-44d8-cf1d-26a7f26e91ea"
      },
      "execution_count": 33,
      "outputs": [
        {
          "output_type": "execute_result",
          "data": {
            "text/plain": [
              "tensor(1.)"
            ]
          },
          "metadata": {},
          "execution_count": 33
        }
      ]
    },
    {
      "cell_type": "code",
      "source": [],
      "metadata": {
        "id": "d6hGFWKIPMFs"
      },
      "execution_count": null,
      "outputs": []
    },
    {
      "cell_type": "code",
      "source": [],
      "metadata": {
        "id": "YUyqkdK8cXkN"
      },
      "execution_count": null,
      "outputs": []
    },
    {
      "cell_type": "code",
      "source": [
        "import pandas as pd\n",
        "import numpy as np\n",
        "\n",
        "data_url = \"http://lib.stat.cmu.edu/datasets/boston\"\n",
        "raw_df = pd.read_csv(data_url, sep=\"\\s+\", skiprows=22, header=None)\n",
        "x = np.hstack([raw_df.values[::2, :], raw_df.values[1::2, :2]])\n",
        "y = raw_df.values[1::2, 2]"
      ],
      "metadata": {
        "id": "zJ2No9IMae42"
      },
      "execution_count": 34,
      "outputs": []
    },
    {
      "cell_type": "code",
      "source": [
        "from sklearn.model_selection import train_test_split\n",
        "\n",
        "train_idx, test_idx = train_test_split(np.arange(len(x)), test_size=0.3, shuffle=True, random_state=0)\n",
        "\n",
        "x_train, y_train = x[train_idx], y[train_idx]\n",
        "x_test, y_test = x[test_idx], y[test_idx]"
      ],
      "metadata": {
        "id": "B1m2BPNaaTMN"
      },
      "execution_count": 35,
      "outputs": []
    },
    {
      "cell_type": "code",
      "source": [
        "from sklearn.preprocessing import StandardScaler\n",
        "\n",
        "scaler = StandardScaler()\n",
        "x_train = scaler.fit_transform(x_train)\n",
        "x_test = scaler.transform(x_test)"
      ],
      "metadata": {
        "id": "m05TcIhhdNuN"
      },
      "execution_count": 36,
      "outputs": []
    },
    {
      "cell_type": "code",
      "source": [
        "from sklearn.linear_model import LinearRegression\n",
        "from sklearn.metrics import mean_squared_error\n",
        "\n",
        "model = LinearRegression().fit(x_train, y_train)\n",
        "pred = model.predict(x_test)\n",
        "\n",
        "mean_squared_error(pred, y_test)"
      ],
      "metadata": {
        "colab": {
          "base_uri": "https://localhost:8080/"
        },
        "id": "45rYHme2dNwX",
        "outputId": "be87af95-ca87-4951-8978-4c41bccb175a"
      },
      "execution_count": 37,
      "outputs": [
        {
          "output_type": "execute_result",
          "data": {
            "text/plain": [
              "27.195965766883198"
            ]
          },
          "metadata": {},
          "execution_count": 37
        }
      ]
    },
    {
      "cell_type": "code",
      "source": [
        "x_train.shape"
      ],
      "metadata": {
        "colab": {
          "base_uri": "https://localhost:8080/"
        },
        "id": "dL9GeiuSdN0x",
        "outputId": "67443d95-6740-4648-e137-ffdf1983728e"
      },
      "execution_count": 38,
      "outputs": [
        {
          "output_type": "execute_result",
          "data": {
            "text/plain": [
              "(354, 13)"
            ]
          },
          "metadata": {},
          "execution_count": 38
        }
      ]
    },
    {
      "cell_type": "code",
      "source": [
        "x_t = torch.tensor(x_train).float()\n",
        "y_t = torch.tensor(y_train).float()\n",
        "x_test_t = torch.tensor(x_test).float()\n",
        "y_test_t = torch.tensor(y_test).float()"
      ],
      "metadata": {
        "id": "wbA083CO0mYT"
      },
      "execution_count": 39,
      "outputs": []
    },
    {
      "cell_type": "code",
      "source": [],
      "metadata": {
        "id": "z5GQql8-zKWC"
      },
      "execution_count": null,
      "outputs": []
    },
    {
      "cell_type": "code",
      "source": [
        "np.random.seed(0)\n",
        "torch.manual_seed(0)\n",
        "\n",
        "w = torch.randn(13, requires_grad=True)\n",
        "b = torch.tensor(0.0, requires_grad=True)"
      ],
      "metadata": {
        "id": "ONFkDGnPzKYm"
      },
      "execution_count": 40,
      "outputs": []
    },
    {
      "cell_type": "code",
      "source": [
        "for i in range(5000):\n",
        "    with torch.no_grad():\n",
        "        pred = x_t @ w + b\n",
        "        loss = torch.mean((pred - y_t) ** 2)\n",
        "\n",
        "        w_grad = 2/x_t.shape[0] * x_t.T @ (pred - y_t)\n",
        "        b_grad = torch.mean(2 * (pred - y_t))\n",
        "\n",
        "        w -= 0.01 * w_grad\n",
        "        b -= 0.01 * b_grad"
      ],
      "metadata": {
        "id": "1NneTJhvzKg-"
      },
      "execution_count": 41,
      "outputs": []
    },
    {
      "cell_type": "code",
      "source": [
        "pred = x_test_t @ w + b\n",
        "mean_squared_error(pred.detach().numpy(), y_test_t)"
      ],
      "metadata": {
        "colab": {
          "base_uri": "https://localhost:8080/"
        },
        "id": "vQixVVfXzKkD",
        "outputId": "d586d25a-32b7-4333-8a71-185d01c10a5a"
      },
      "execution_count": 42,
      "outputs": [
        {
          "output_type": "execute_result",
          "data": {
            "text/plain": [
              "27.197708"
            ]
          },
          "metadata": {},
          "execution_count": 42
        }
      ]
    },
    {
      "cell_type": "code",
      "source": [],
      "metadata": {
        "id": "zHZMeQC00Vbq"
      },
      "execution_count": null,
      "outputs": []
    },
    {
      "cell_type": "code",
      "source": [
        "np.random.seed(0)\n",
        "torch.manual_seed(0)\n",
        "\n",
        "w = torch.randn(13, requires_grad=True)\n",
        "b = torch.tensor(0.0, requires_grad=True)"
      ],
      "metadata": {
        "id": "jyeMeItDdN2a"
      },
      "execution_count": 43,
      "outputs": []
    },
    {
      "cell_type": "code",
      "source": [
        "for i in range(5000):\n",
        "    pred = x_t @ w + b\n",
        "    loss = torch.mean((pred - y_t) ** 2)\n",
        "    loss.backward()\n",
        "\n",
        "    with torch.no_grad():\n",
        "        w -= 0.01 * w.grad\n",
        "        b -= 0.01 * b.grad\n",
        "\n",
        "    w.grad.zero_()\n",
        "    b.grad.zero_()\n"
      ],
      "metadata": {
        "id": "tFcRit4TdN8H"
      },
      "execution_count": 44,
      "outputs": []
    },
    {
      "cell_type": "code",
      "source": [
        "pred = x_test_t @ w + b\n",
        "mean_squared_error(pred.detach().numpy(), y_test_t)"
      ],
      "metadata": {
        "colab": {
          "base_uri": "https://localhost:8080/"
        },
        "id": "PMoWbzS1dN-9",
        "outputId": "61ae539c-ea65-4bbf-ea03-73e612f600c0"
      },
      "execution_count": 45,
      "outputs": [
        {
          "output_type": "execute_result",
          "data": {
            "text/plain": [
              "27.197708"
            ]
          },
          "metadata": {},
          "execution_count": 45
        }
      ]
    },
    {
      "cell_type": "code",
      "source": [],
      "metadata": {
        "id": "gFblSea7dOA0"
      },
      "execution_count": null,
      "outputs": []
    },
    {
      "cell_type": "code",
      "source": [
        "np.random.seed(0)\n",
        "torch.manual_seed(0)\n",
        "\n",
        "w = torch.randn(13, requires_grad=True)\n",
        "b = torch.tensor(0.0, requires_grad=True)"
      ],
      "metadata": {
        "id": "fphGcQmhaTaB"
      },
      "execution_count": 49,
      "outputs": []
    },
    {
      "cell_type": "code",
      "source": [
        "import torch.optim as optim\n",
        "opt = optim.SGD([w, b], lr=0.01)"
      ],
      "metadata": {
        "id": "N_vr4RIqgxMa"
      },
      "execution_count": 50,
      "outputs": []
    },
    {
      "cell_type": "code",
      "source": [
        "for i in range(5000):\n",
        "    pred = x_t @ w + b\n",
        "    loss = torch.mean((pred - y_t) ** 2)\n",
        "    #print(loss)\n",
        "    loss.backward()\n",
        "    opt.step()\n",
        "\n",
        "    opt.zero_grad()"
      ],
      "metadata": {
        "id": "AaoTnPScgzpi"
      },
      "execution_count": 51,
      "outputs": []
    },
    {
      "cell_type": "code",
      "source": [
        "pred = x_test_t @ w + b\n",
        "mean_squared_error(pred.detach().numpy(), y_test_t)"
      ],
      "metadata": {
        "colab": {
          "base_uri": "https://localhost:8080/"
        },
        "id": "rBviXRp-gxSV",
        "outputId": "a0652b6a-17d9-4d4c-ca6a-ffdc9c49dcc3"
      },
      "execution_count": 52,
      "outputs": [
        {
          "output_type": "execute_result",
          "data": {
            "text/plain": [
              "27.197708"
            ]
          },
          "metadata": {},
          "execution_count": 52
        }
      ]
    },
    {
      "cell_type": "code",
      "source": [],
      "metadata": {
        "id": "h4zjfDnUgxX6"
      },
      "execution_count": null,
      "outputs": []
    },
    {
      "cell_type": "code",
      "source": [],
      "metadata": {
        "id": "ceEPpD3FhqPM"
      },
      "execution_count": null,
      "outputs": []
    },
    {
      "cell_type": "code",
      "source": [
        "np.random.seed(0)\n",
        "torch.manual_seed(0)\n",
        "\n",
        "A = torch.randn(13, 40, requires_grad=True)\n",
        "w = torch.randn(40, requires_grad=True)\n",
        "b = torch.tensor(0.0, requires_grad=True)"
      ],
      "metadata": {
        "id": "MhPnAE9nhqRf"
      },
      "execution_count": 56,
      "outputs": []
    },
    {
      "cell_type": "code",
      "source": [
        "import torch.optim as optim\n",
        "opt = optim.SGD([A, w, b], lr=0.005)"
      ],
      "metadata": {
        "id": "inZJNQ8nhqXL"
      },
      "execution_count": 57,
      "outputs": []
    },
    {
      "cell_type": "code",
      "source": [
        "from torch.nn.functional import relu\n",
        "\n",
        "for i in range(5000):\n",
        "    pred = relu(x_t @ A) @ w + b\n",
        "    loss = torch.mean((pred - y_t) ** 2)\n",
        "    #print(loss.item())\n",
        "    loss.backward()\n",
        "    opt.step()\n",
        "\n",
        "    opt.zero_grad()"
      ],
      "metadata": {
        "id": "l3Y2gwOninVB"
      },
      "execution_count": 58,
      "outputs": []
    },
    {
      "cell_type": "code",
      "source": [
        "pred = relu(x_test_t @ A) @ w + b\n",
        "mean_squared_error(pred.detach().numpy(), y_test_t)"
      ],
      "metadata": {
        "colab": {
          "base_uri": "https://localhost:8080/"
        },
        "id": "mHlbVGE6inW4",
        "outputId": "96ec669f-126c-42ea-b75d-42ecd7e2ac42"
      },
      "execution_count": 59,
      "outputs": [
        {
          "output_type": "execute_result",
          "data": {
            "text/plain": [
              "18.840103"
            ]
          },
          "metadata": {},
          "execution_count": 59
        }
      ]
    },
    {
      "cell_type": "code",
      "source": [],
      "metadata": {
        "id": "AS10iFrEinZc"
      },
      "execution_count": null,
      "outputs": []
    },
    {
      "cell_type": "code",
      "source": [],
      "metadata": {
        "id": "XcVxTl7ElHgv"
      },
      "execution_count": null,
      "outputs": []
    },
    {
      "cell_type": "code",
      "source": [
        "a = torch.randn(10000, 10000)"
      ],
      "metadata": {
        "id": "o4wiQYzflHjX"
      },
      "execution_count": 60,
      "outputs": []
    },
    {
      "cell_type": "code",
      "source": [
        "a_numpy = a.numpy()"
      ],
      "metadata": {
        "id": "NdyEdf15lHm2"
      },
      "execution_count": 61,
      "outputs": []
    },
    {
      "cell_type": "code",
      "source": [
        "%%timeit\n",
        "a_numpy.sum()"
      ],
      "metadata": {
        "colab": {
          "base_uri": "https://localhost:8080/"
        },
        "id": "0pFPqUmplYGS",
        "outputId": "ec6393e7-9e12-4a17-8662-5558939e2acc"
      },
      "execution_count": 62,
      "outputs": [
        {
          "output_type": "stream",
          "name": "stdout",
          "text": [
            "39.5 ms ± 491 µs per loop (mean ± std. dev. of 7 runs, 10 loops each)\n"
          ]
        }
      ]
    },
    {
      "cell_type": "code",
      "source": [
        "%%timeit\n",
        "a.sum()"
      ],
      "metadata": {
        "colab": {
          "base_uri": "https://localhost:8080/"
        },
        "id": "-9WjgbLvlYIk",
        "outputId": "b6192690-d0d1-462d-d4bd-b1d6ab34229c"
      },
      "execution_count": 63,
      "outputs": [
        {
          "output_type": "stream",
          "name": "stdout",
          "text": [
            "34 ms ± 403 µs per loop (mean ± std. dev. of 7 runs, 10 loops each)\n"
          ]
        }
      ]
    },
    {
      "cell_type": "code",
      "source": [
        "torch.cuda.is_available()"
      ],
      "metadata": {
        "colab": {
          "base_uri": "https://localhost:8080/"
        },
        "id": "4bIQyBgnpw1p",
        "outputId": "7e71e0aa-d3e9-45d8-cf0a-e3d633ad00da"
      },
      "execution_count": 64,
      "outputs": [
        {
          "output_type": "execute_result",
          "data": {
            "text/plain": [
              "True"
            ]
          },
          "metadata": {},
          "execution_count": 64
        }
      ]
    },
    {
      "cell_type": "code",
      "source": [
        "a = a.to(\"cuda\")"
      ],
      "metadata": {
        "id": "j7vcm5djlYLC"
      },
      "execution_count": 65,
      "outputs": []
    },
    {
      "cell_type": "code",
      "source": [
        "%%timeit\n",
        "a.sum()"
      ],
      "metadata": {
        "colab": {
          "base_uri": "https://localhost:8080/"
        },
        "id": "BFYNY47oltuV",
        "outputId": "f62153a8-33ae-40d3-f67e-32a779eee290"
      },
      "execution_count": 66,
      "outputs": [
        {
          "output_type": "stream",
          "name": "stdout",
          "text": [
            "1.44 ms ± 90.8 ns per loop (mean ± std. dev. of 7 runs, 1000 loops each)\n"
          ]
        }
      ]
    },
    {
      "cell_type": "code",
      "source": [],
      "metadata": {
        "id": "UOKKTXcxltwo"
      },
      "execution_count": null,
      "outputs": []
    },
    {
      "cell_type": "code",
      "source": [],
      "metadata": {
        "id": "dLJBAiiulpoM"
      },
      "execution_count": null,
      "outputs": []
    },
    {
      "cell_type": "code",
      "source": [],
      "metadata": {
        "id": "2LpyAv0LlHpT"
      },
      "execution_count": null,
      "outputs": []
    }
  ]
}
