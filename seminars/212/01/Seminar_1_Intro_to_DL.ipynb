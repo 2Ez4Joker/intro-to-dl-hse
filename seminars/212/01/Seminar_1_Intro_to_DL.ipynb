{
 "cells": [
  {
   "cell_type": "markdown",
   "metadata": {
    "pycharm": {
     "name": "#%% md\n"
    }
   },
   "source": [
    "# Введение. Полносвязные слои. Функции активации (ноутбук)\n",
    "\n",
    "> Начнем осваивать библиотеку `PyTorch`."
   ]
  },
  {
   "cell_type": "markdown",
   "metadata": {
    "pycharm": {
     "name": "#%% md\n"
    }
   },
   "source": [
    "## План ноутбука\n",
    "\n",
    "1. Установка `PyTorch`\n",
    "1. Введение в `PyTorch`\n",
    "1. Полносвязные слои и функции активации в `PyTorch`\n",
    "1. Градиентный спуск своими руками"
   ]
  },
  {
   "cell_type": "markdown",
   "metadata": {
    "pycharm": {
     "name": "#%% md\n"
    }
   },
   "source": [
    "## Установка `PyTorch`"
   ]
  },
  {
   "cell_type": "markdown",
   "metadata": {
    "pycharm": {
     "name": "#%% md\n"
    }
   },
   "source": [
    "Мы будем использовать библиотеку для глубинного обучения `PyTorch`, ее можно не устанавливать, можно пользоваться сайтами [Kaggle](kaggle.com) и [Google Colab](colab.research.google.com/) для обучения в облаке (или с учителем?). \n",
    "\n",
    "Чтобы установить `PyTorch` локально себе на компьютер нужно ответить на два вопроса - какая у вас операционная система и есть ли у вас дискретная видеокарта (GPU) и если есть, то какого производителя. В зависимости от ваших ответов мы получаем три варианта по операционной системе - Linux, Mac и Windows; три варианта по дискретной видеокарте - нет видеокарты (доступен только центральный процессор CPU), есть видеокарта от Nvidia или есть видеокарта от AMD (это производитель именно чипа, конечный вендор может быть другой, например, ASUS, MSI, Palit). Работа с PyTorch с видеокартой от AMD это экзотика, которая выходит за рамки нашего курса, поэтому рассмотрим только варианты *нет видеокарты*/*есть видеокарта от Nvidia*.\n",
    "\n",
    "\n",
    "Выберите на [сайте](https://pytorch.org/get-started/locally/) подходящие вам варианты операционной системы/видеокарты и скопируйте команду для установки. Разберем подробно самые популярные варианты установки:"
   ]
  },
  {
   "cell_type": "markdown",
   "metadata": {
    "pycharm": {
     "name": "#%% md\n"
    }
   },
   "source": [
    "### Установка в Linux ([поддерживаемые дистрибутивы](https://pytorch.org/get-started/locally/#supported-linux-distributions))\n",
    "\n",
    "На линуксе будет работать поддержка `PyTorch` в любой конфигурации, что у вас нет видеокарты, что есть от Nvidia, что от AMD. \n",
    "\n",
    "Пререквизит для работы с видеокартой от Nvidia - нужно поставить CUDA, это инструмент от компании Nvidia, который позволяет ускорять вычисления на их же ГПУ. Чтобы поставить себе на машину все правильно воспользуйтесь этим [гайдом](https://docs.nvidia.com/cuda/cuda-installation-guide-linux/index.html) от Nvidia.\n",
    "\n",
    " - **pip**\n",
    "\n",
    "`pip3 install torch torchvision torchaudio --extra-index-url https://download.pytorch.org/whl/cpu` для тех, у кого нет видеокарты.\n",
    "\n",
    "`pip3 install torch torchvision torchaudio --extra-index-url https://download.pytorch.org/whl/cu118` для тех, у кого есть видеокарта (либо другой `--extra-index-url`, смотрите на сайте PyTorch, в зависимости от версии CUDA).\n",
    "\n",
    " - **conda**\n",
    "\n",
    "`conda install pytorch torchvision torchaudio cpuonly -c pytorch` для тех, у кого нет видеокарты.\n",
    "\n",
    "`conda install pytorch torchvision torchaudio cudatoolkit=11.8 -c pytorch -c conda-forge` для тех, у кого есть видеокарта (либо немного другая команда, в зависимости от версии CUDA)."
   ]
  },
  {
   "cell_type": "markdown",
   "metadata": {
    "pycharm": {
     "name": "#%% md\n"
    }
   },
   "source": [
    "### Установка в Windows\n",
    "\n",
    "На винде будет работать поддержка `PyTorch` только для видеокарт от Nvidia и без видеокарт вообще. \n",
    "\n",
    "Пререквизит для работы с видеокартой от Nvidia - нужно поставить CUDA, это инструмент от компании Nvidia, который позволяет ускорять вычисления на их же ГПУ. Чтобы поставить себе на машину все правильно воспользуйтесь этим [гайдом](https://docs.nvidia.com/cuda/cuda-installation-guide-microsoft-windows/index.html) от Nvidia.\n",
    "\n",
    " - **pip**\n",
    "\n",
    "`pip3 install torch torchvision torchaudio --extra-index-url https://download.pytorch.org/whl/cpu` для тех, у кого нет видеокарты.\n",
    "\n",
    "`pip3 install torch torchvision torchaudio --extra-index-url https://download.pytorch.org/whl/cu118` для тех, у кого есть видеокарта (либо другой `--extra-index-url`, смотрите на сайте PyTorch, в зависимости от версии CUDA).\n",
    "\n",
    " - **conda**\n",
    "\n",
    "`conda install pytorch torchvision torchaudio cpuonly -c pytorch` для тех, у кого нет видеокарты.\n",
    "\n",
    "`conda install pytorch torchvision torchaudio cudatoolkit=11.8 -c pytorch -c conda-forge` для тех, у кого есть видеокарта (либо немного другая команда, в зависимости от версии CUDA).\n",
    "\n"
   ]
  },
  {
   "cell_type": "markdown",
   "metadata": {
    "pycharm": {
     "name": "#%% md\n"
    }
   },
   "source": [
    "### Установка на Mac\n",
    "\n",
    "На маках есть поддержка `PyTorch` как на CPU, так и на GPU, но только для Apple Silicon, то есть на чипах M1, M2 и так далее.\n",
    "\n",
    "При этом поддержка ускорения с помощью GPU есть только для версий макоси выше 12.3: MPS acceleration is available on MacOS 12.3+\n",
    "\n",
    " - **pip**\n",
    "\n",
    "`pip3 install torch torchvision torchaudio`\n",
    "\n",
    " - **conda**\n",
    "\n",
    "`conda install pytorch::pytorch torchvision torchaudio -c pytorch`"
   ]
  },
  {
   "cell_type": "markdown",
   "metadata": {
    "pycharm": {
     "name": "#%% md\n"
    }
   },
   "source": [
    "## Введение в `PyTorch`"
   ]
  },
  {
   "cell_type": "markdown",
   "metadata": {
    "pycharm": {
     "name": "#%% md\n"
    }
   },
   "source": [
    "### Тензоры\n",
    "\n",
    "Тензоры — это специализированная структура данных, по сути это массивы и матрицы. Тензоры очень похожи на массивы в numpy, так что, если у вас хорошо с numpy, то разобраться в PyTorch тензорах будет очень просто. В PyTorch мы используем тензоры для кодирования входных и выходных данных модели, а также параметров модели."
   ]
  },
  {
   "cell_type": "code",
   "execution_count": 2,
   "metadata": {
    "execution": {
     "iopub.execute_input": "2023-10-02T11:53:23.938458Z",
     "iopub.status.busy": "2023-10-02T11:53:23.938218Z",
     "iopub.status.idle": "2023-10-02T11:53:23.941030Z",
     "shell.execute_reply": "2023-10-02T11:53:23.940543Z",
     "shell.execute_reply.started": "2023-10-02T11:53:23.938440Z"
    },
    "pycharm": {
     "name": "#%%\n"
    }
   },
   "outputs": [],
   "source": [
    "import torch\n",
    "import numpy as np"
   ]
  },
  {
   "cell_type": "markdown",
   "metadata": {},
   "source": [
    "### Создание тензоров\n",
    "\n",
    "Тензор можно создать напрямую из каких-то данных - нам подходят все списки с числами:"
   ]
  },
  {
   "cell_type": "code",
   "execution_count": 3,
   "metadata": {
    "execution": {
     "iopub.execute_input": "2023-10-02T11:55:13.443096Z",
     "iopub.status.busy": "2023-10-02T11:55:13.442866Z",
     "iopub.status.idle": "2023-10-02T11:55:13.448755Z",
     "shell.execute_reply": "2023-10-02T11:55:13.448406Z",
     "shell.execute_reply.started": "2023-10-02T11:55:13.443078Z"
    }
   },
   "outputs": [
    {
     "data": {
      "text/plain": [
       "tensor([1, 2, 3, 4])"
      ]
     },
     "execution_count": 3,
     "metadata": {},
     "output_type": "execute_result"
    }
   ],
   "source": [
    "some_data = [1, 2, 3, 4]\n",
    "some_tensor = torch.tensor(some_data)\n",
    "\n",
    "some_tensor"
   ]
  },
  {
   "cell_type": "code",
   "execution_count": 4,
   "metadata": {
    "execution": {
     "iopub.execute_input": "2023-10-02T11:55:26.753220Z",
     "iopub.status.busy": "2023-10-02T11:55:26.753032Z",
     "iopub.status.idle": "2023-10-02T11:55:26.757098Z",
     "shell.execute_reply": "2023-10-02T11:55:26.756801Z",
     "shell.execute_reply.started": "2023-10-02T11:55:26.753206Z"
    },
    "pycharm": {
     "name": "#%%\n"
    }
   },
   "outputs": [
    {
     "data": {
      "text/plain": [
       "tensor([[1, 2],\n",
       "        [3, 4],\n",
       "        [5, 6]])"
      ]
     },
     "execution_count": 4,
     "metadata": {},
     "output_type": "execute_result"
    }
   ],
   "source": [
    "some_data = [[1, 2], [3, 4], [5, 6]]\n",
    "some_tensor = torch.tensor(some_data)\n",
    "\n",
    "some_tensor"
   ]
  },
  {
   "cell_type": "code",
   "execution_count": 5,
   "metadata": {
    "execution": {
     "iopub.execute_input": "2023-10-02T11:55:30.462826Z",
     "iopub.status.busy": "2023-10-02T11:55:30.462643Z",
     "iopub.status.idle": "2023-10-02T11:55:30.466127Z",
     "shell.execute_reply": "2023-10-02T11:55:30.465839Z",
     "shell.execute_reply.started": "2023-10-02T11:55:30.462811Z"
    }
   },
   "outputs": [
    {
     "data": {
      "text/plain": [
       "tensor([[[1],\n",
       "         [2]],\n",
       "\n",
       "        [[3],\n",
       "         [4]],\n",
       "\n",
       "        [[5],\n",
       "         [6]]])"
      ]
     },
     "execution_count": 5,
     "metadata": {},
     "output_type": "execute_result"
    }
   ],
   "source": [
    "some_data = [[[1], [2]], [[3], [4]], [[5], [6]]]\n",
    "some_tensor = torch.tensor(some_data)\n",
    "\n",
    "some_tensor"
   ]
  },
  {
   "cell_type": "markdown",
   "metadata": {},
   "source": [
    "На самом деле про \"все\" списки с числами - обман. Если у вашего списка есть какой-то уровень вложенности, то должны совпадать размерности у всех вложенных списков (подробнее про размерности поговорим позже):"
   ]
  },
  {
   "cell_type": "code",
   "execution_count": 6,
   "metadata": {
    "execution": {
     "iopub.execute_input": "2023-10-02T11:55:59.924889Z",
     "iopub.status.busy": "2023-10-02T11:55:59.924656Z",
     "iopub.status.idle": "2023-10-02T11:56:00.061596Z",
     "shell.execute_reply": "2023-10-02T11:56:00.061130Z",
     "shell.execute_reply.started": "2023-10-02T11:55:59.924871Z"
    }
   },
   "outputs": [
    {
     "ename": "ValueError",
     "evalue": "expected sequence of length 2 at dim 1 (got 3)",
     "output_type": "error",
     "traceback": [
      "\u001b[0;31m---------------------------------------------------------------------------\u001b[0m",
      "\u001b[0;31mValueError\u001b[0m                                Traceback (most recent call last)",
      "Cell \u001b[0;32mIn[6], line 2\u001b[0m\n\u001b[1;32m      1\u001b[0m some_other_data \u001b[38;5;241m=\u001b[39m [[\u001b[38;5;241m1\u001b[39m, \u001b[38;5;241m2\u001b[39m], [\u001b[38;5;241m3\u001b[39m, \u001b[38;5;241m4\u001b[39m], [\u001b[38;5;241m5\u001b[39m, \u001b[38;5;241m6\u001b[39m, \u001b[38;5;241m7\u001b[39m]]\n\u001b[0;32m----> 2\u001b[0m some_other_tensor \u001b[38;5;241m=\u001b[39m \u001b[43mtorch\u001b[49m\u001b[38;5;241;43m.\u001b[39;49m\u001b[43mtensor\u001b[49m\u001b[43m(\u001b[49m\u001b[43msome_other_data\u001b[49m\u001b[43m)\u001b[49m\n\u001b[1;32m      4\u001b[0m some_other_tensor\n",
      "\u001b[0;31mValueError\u001b[0m: expected sequence of length 2 at dim 1 (got 3)"
     ]
    }
   ],
   "source": [
    "some_other_data = [[1, 2], [3, 4], [5, 6, 7]]\n",
    "some_other_tensor = torch.tensor(some_other_data)\n",
    "\n",
    "some_other_tensor"
   ]
  },
  {
   "cell_type": "markdown",
   "metadata": {},
   "source": [
    "Также тензоры можно создавать из numpy массивов и наоборот:"
   ]
  },
  {
   "cell_type": "code",
   "execution_count": 7,
   "metadata": {
    "execution": {
     "iopub.execute_input": "2023-10-02T11:56:13.622820Z",
     "iopub.status.busy": "2023-10-02T11:56:13.622611Z",
     "iopub.status.idle": "2023-10-02T11:56:13.625694Z",
     "shell.execute_reply": "2023-10-02T11:56:13.625426Z",
     "shell.execute_reply.started": "2023-10-02T11:56:13.622804Z"
    },
    "pycharm": {
     "name": "#%%\n"
    }
   },
   "outputs": [
    {
     "data": {
      "text/plain": [
       "array([[[1],\n",
       "        [2]],\n",
       "\n",
       "       [[3],\n",
       "        [4]],\n",
       "\n",
       "       [[5],\n",
       "        [6]]])"
      ]
     },
     "execution_count": 7,
     "metadata": {},
     "output_type": "execute_result"
    }
   ],
   "source": [
    "some_numpy_array = np.array(some_data)\n",
    "\n",
    "some_numpy_array"
   ]
  },
  {
   "cell_type": "code",
   "execution_count": 8,
   "metadata": {
    "execution": {
     "iopub.execute_input": "2023-10-02T11:56:31.841810Z",
     "iopub.status.busy": "2023-10-02T11:56:31.841622Z",
     "iopub.status.idle": "2023-10-02T11:56:31.853283Z",
     "shell.execute_reply": "2023-10-02T11:56:31.852994Z",
     "shell.execute_reply.started": "2023-10-02T11:56:31.841796Z"
    }
   },
   "outputs": [
    {
     "data": {
      "text/plain": [
       "tensor([[[1],\n",
       "         [2]],\n",
       "\n",
       "        [[3],\n",
       "         [4]],\n",
       "\n",
       "        [[5],\n",
       "         [6]]])"
      ]
     },
     "execution_count": 8,
     "metadata": {},
     "output_type": "execute_result"
    }
   ],
   "source": [
    "some_tensor_from_numpy = torch.from_numpy(some_numpy_array)\n",
    "\n",
    "some_tensor_from_numpy"
   ]
  },
  {
   "cell_type": "markdown",
   "metadata": {},
   "source": [
    "При этом если мы создаем тензор из numpy массива с помощью `torch.from_numpy`, то они делят между собой память, где лежат их данные и, соответственно, при изменении тензора меняется numpy массив и наоборот:"
   ]
  },
  {
   "cell_type": "code",
   "execution_count": 9,
   "metadata": {
    "execution": {
     "iopub.execute_input": "2023-10-02T11:57:04.501575Z",
     "iopub.status.busy": "2023-10-02T11:57:04.501370Z",
     "iopub.status.idle": "2023-10-02T11:57:04.521385Z",
     "shell.execute_reply": "2023-10-02T11:57:04.521117Z",
     "shell.execute_reply.started": "2023-10-02T11:57:04.501560Z"
    }
   },
   "outputs": [
    {
     "data": {
      "text/plain": [
       "(array([1., 1., 1., 1., 1., 1., 1., 1., 1., 1.]),\n",
       " tensor([1., 1., 1., 1., 1., 1., 1., 1., 1., 1.], dtype=torch.float64))"
      ]
     },
     "execution_count": 9,
     "metadata": {},
     "output_type": "execute_result"
    }
   ],
   "source": [
    "x = np.ones(10)\n",
    "y = torch.from_numpy(x)\n",
    "\n",
    "x, y"
   ]
  },
  {
   "cell_type": "code",
   "execution_count": 10,
   "metadata": {
    "execution": {
     "iopub.execute_input": "2023-10-02T11:57:14.086150Z",
     "iopub.status.busy": "2023-10-02T11:57:14.085961Z",
     "iopub.status.idle": "2023-10-02T11:57:14.089895Z",
     "shell.execute_reply": "2023-10-02T11:57:14.089606Z",
     "shell.execute_reply.started": "2023-10-02T11:57:14.086136Z"
    }
   },
   "outputs": [
    {
     "data": {
      "text/plain": [
       "(array([2., 2., 2., 2., 2., 2., 2., 2., 2., 2.]),\n",
       " tensor([2., 2., 2., 2., 2., 2., 2., 2., 2., 2.], dtype=torch.float64))"
      ]
     },
     "execution_count": 10,
     "metadata": {},
     "output_type": "execute_result"
    }
   ],
   "source": [
    "x += 1\n",
    "\n",
    "x, y"
   ]
  },
  {
   "cell_type": "code",
   "execution_count": 11,
   "metadata": {
    "execution": {
     "iopub.execute_input": "2023-10-02T11:57:21.839867Z",
     "iopub.status.busy": "2023-10-02T11:57:21.839634Z",
     "iopub.status.idle": "2023-10-02T11:57:21.852919Z",
     "shell.execute_reply": "2023-10-02T11:57:21.852631Z",
     "shell.execute_reply.started": "2023-10-02T11:57:21.839849Z"
    }
   },
   "outputs": [
    {
     "data": {
      "text/plain": [
       "(tensor([1., 1., 1., 1., 1., 1., 1., 1., 1., 1.]),\n",
       " array([1., 1., 1., 1., 1., 1., 1., 1., 1., 1.], dtype=float32))"
      ]
     },
     "execution_count": 11,
     "metadata": {},
     "output_type": "execute_result"
    }
   ],
   "source": [
    "x = torch.ones(10)\n",
    "y = x.numpy()\n",
    "\n",
    "x, y"
   ]
  },
  {
   "cell_type": "code",
   "execution_count": 12,
   "metadata": {
    "execution": {
     "iopub.execute_input": "2023-10-02T11:57:22.639409Z",
     "iopub.status.busy": "2023-10-02T11:57:22.639171Z",
     "iopub.status.idle": "2023-10-02T11:57:22.651084Z",
     "shell.execute_reply": "2023-10-02T11:57:22.650693Z",
     "shell.execute_reply.started": "2023-10-02T11:57:22.639390Z"
    }
   },
   "outputs": [
    {
     "data": {
      "text/plain": [
       "(tensor([2., 2., 2., 2., 2., 2., 2., 2., 2., 2.]),\n",
       " array([2., 2., 2., 2., 2., 2., 2., 2., 2., 2.], dtype=float32))"
      ]
     },
     "execution_count": 12,
     "metadata": {},
     "output_type": "execute_result"
    }
   ],
   "source": [
    "x += 1\n",
    "\n",
    "x, y"
   ]
  },
  {
   "cell_type": "markdown",
   "metadata": {},
   "source": [
    "Можем создать тензор со случайными или константными значениями:"
   ]
  },
  {
   "cell_type": "code",
   "execution_count": 13,
   "metadata": {
    "execution": {
     "iopub.execute_input": "2023-10-02T11:57:50.752464Z",
     "iopub.status.busy": "2023-10-02T11:57:50.752232Z",
     "iopub.status.idle": "2023-10-02T11:57:50.766002Z",
     "shell.execute_reply": "2023-10-02T11:57:50.765738Z",
     "shell.execute_reply.started": "2023-10-02T11:57:50.752446Z"
    }
   },
   "outputs": [
    {
     "data": {
      "text/plain": [
       "(tensor([[0.7030, 0.8488, 0.0055],\n",
       "         [0.3949, 0.7505, 0.5193]]),\n",
       " tensor([[1., 1., 1.],\n",
       "         [1., 1., 1.]]),\n",
       " tensor([[0., 0., 0.],\n",
       "         [0., 0., 0.]]),\n",
       " tensor([[8.9625e-01, 7.9309e+34, 7.9439e+08],\n",
       "         [3.2604e-12, 7.3113e+34, 9.5492e-01]]))"
      ]
     },
     "execution_count": 13,
     "metadata": {},
     "output_type": "execute_result"
    }
   ],
   "source": [
    "shape = (2, 3)\n",
    "\n",
    "random_tensor = torch.rand(shape)\n",
    "ones_tensor = torch.ones(shape)\n",
    "zeros_tensor = torch.zeros(shape)\n",
    "empty_tensor = torch.empty(shape)\n",
    "\n",
    "random_tensor, ones_tensor, zeros_tensor, empty_tensor"
   ]
  },
  {
   "cell_type": "markdown",
   "metadata": {},
   "source": [
    "Теперь поговорим про размерности подробнее.\n",
    "\n",
    "У тензора есть какой-то размер, какая форма. Первое с чем нужно определиться, какой **размерности** тензор - количество осей у него."
   ]
  },
  {
   "cell_type": "code",
   "execution_count": 14,
   "metadata": {
    "execution": {
     "iopub.execute_input": "2023-10-02T11:58:19.235150Z",
     "iopub.status.busy": "2023-10-02T11:58:19.234923Z",
     "iopub.status.idle": "2023-10-02T11:58:19.238614Z",
     "shell.execute_reply": "2023-10-02T11:58:19.238319Z",
     "shell.execute_reply.started": "2023-10-02T11:58:19.235132Z"
    }
   },
   "outputs": [
    {
     "data": {
      "text/plain": [
       "tensor([0.7187, 0.2798, 0.0451, 0.6731, 0.1123, 0.6423, 0.7267, 0.3930, 0.6888,\n",
       "        0.7260])"
      ]
     },
     "execution_count": 14,
     "metadata": {},
     "output_type": "execute_result"
    }
   ],
   "source": [
    "shape = (10)  # одна ось (вектор)\n",
    "\n",
    "tensor = torch.rand(shape)\n",
    "\n",
    "tensor"
   ]
  },
  {
   "cell_type": "code",
   "execution_count": 15,
   "metadata": {
    "execution": {
     "iopub.execute_input": "2023-10-02T11:58:27.852736Z",
     "iopub.status.busy": "2023-10-02T11:58:27.852552Z",
     "iopub.status.idle": "2023-10-02T11:58:27.856290Z",
     "shell.execute_reply": "2023-10-02T11:58:27.856001Z",
     "shell.execute_reply.started": "2023-10-02T11:58:27.852722Z"
    }
   },
   "outputs": [
    {
     "data": {
      "text/plain": [
       "tensor([[0.8805, 0.4474, 0.4230],\n",
       "        [0.7759, 0.6520, 0.4739]])"
      ]
     },
     "execution_count": 15,
     "metadata": {},
     "output_type": "execute_result"
    }
   ],
   "source": [
    "shape = (2, 3)  # две оси (матрица)\n",
    "\n",
    "tensor = torch.rand(shape)\n",
    "\n",
    "tensor"
   ]
  },
  {
   "cell_type": "code",
   "execution_count": 16,
   "metadata": {
    "execution": {
     "iopub.execute_input": "2023-10-02T11:58:48.183103Z",
     "iopub.status.busy": "2023-10-02T11:58:48.182919Z",
     "iopub.status.idle": "2023-10-02T11:58:48.186731Z",
     "shell.execute_reply": "2023-10-02T11:58:48.186436Z",
     "shell.execute_reply.started": "2023-10-02T11:58:48.183089Z"
    }
   },
   "outputs": [
    {
     "data": {
      "text/plain": [
       "tensor([[[0.1757, 0.9515, 0.0762],\n",
       "         [0.6463, 0.0056, 0.4057]],\n",
       "\n",
       "        [[0.7680, 0.1649, 0.8964],\n",
       "         [0.1826, 0.3367, 0.3551]],\n",
       "\n",
       "        [[0.3947, 0.0326, 0.9602],\n",
       "         [0.5664, 0.8970, 0.2120]]])"
      ]
     },
     "execution_count": 16,
     "metadata": {},
     "output_type": "execute_result"
    }
   ],
   "source": [
    "shape = (3, 2, 3)  # три оси (и больше - тензор)\n",
    "\n",
    "tensor = torch.rand(shape)\n",
    "\n",
    "tensor"
   ]
  },
  {
   "cell_type": "markdown",
   "metadata": {},
   "source": [
    "Тензор с размерностью 1 - это просто вектор, список чисел.\n",
    "\n",
    "Тензор с размерностью 2 - это просто матрица, то есть список списков чисел.\n",
    "\n",
    "Тензор с размерностью 3 и больше - это тензор, то есть список списков списков ... чисел.\n",
    "\n",
    "![](meme.png)"
   ]
  },
  {
   "cell_type": "markdown",
   "metadata": {},
   "source": [
    "Получить доступ к размеру уже созданного тензора - метод `.shape`:"
   ]
  },
  {
   "cell_type": "code",
   "execution_count": 17,
   "metadata": {
    "execution": {
     "iopub.execute_input": "2023-10-02T11:58:56.935724Z",
     "iopub.status.busy": "2023-10-02T11:58:56.935534Z",
     "iopub.status.idle": "2023-10-02T11:58:56.938989Z",
     "shell.execute_reply": "2023-10-02T11:58:56.938682Z",
     "shell.execute_reply.started": "2023-10-02T11:58:56.935710Z"
    }
   },
   "outputs": [
    {
     "name": "stdout",
     "output_type": "stream",
     "text": [
      "tensor([[[1],\n",
      "         [2]],\n",
      "\n",
      "        [[3],\n",
      "         [4]],\n",
      "\n",
      "        [[5],\n",
      "         [6]]])\n",
      "torch.Size([3, 2, 1])\n"
     ]
    }
   ],
   "source": [
    "some_data = [[[1], [2]], [[3], [4]], [[5], [6]]]\n",
    "some_tensor = torch.tensor(some_data)\n",
    "\n",
    "print(some_tensor)\n",
    "print(some_tensor.shape)"
   ]
  },
  {
   "cell_type": "markdown",
   "metadata": {},
   "source": [
    "Давайте сделаем тензор, который будет нам имитировать изображение - сделаем его размер `(c, h, w)`, где `h` и `w` это его высота и ширина, а `c` - число каналов в цветовом пространстве (в черно-белом 1, в RGB 3):"
   ]
  },
  {
   "cell_type": "code",
   "execution_count": 18,
   "metadata": {
    "execution": {
     "iopub.execute_input": "2023-10-02T12:01:51.132135Z",
     "iopub.status.busy": "2023-10-02T12:01:51.131902Z",
     "iopub.status.idle": "2023-10-02T12:01:51.137556Z",
     "shell.execute_reply": "2023-10-02T12:01:51.137262Z",
     "shell.execute_reply.started": "2023-10-02T12:01:51.132117Z"
    }
   },
   "outputs": [
    {
     "data": {
      "text/plain": [
       "tensor([[[0.4864, 0.1345, 0.0985, 0.4910, 0.5191, 0.5402, 0.9424, 0.2336,\n",
       "          0.8935, 0.6876, 0.0369, 0.8935, 0.2823, 0.6079, 0.8713, 0.8276],\n",
       "         [0.4903, 0.8007, 0.8147, 0.8142, 0.5783, 0.7870, 0.6481, 0.8210,\n",
       "          0.4620, 0.7126, 0.3961, 0.2064, 0.6209, 0.7252, 0.0013, 0.8203],\n",
       "         [0.6782, 0.4787, 0.7272, 0.7661, 0.1971, 0.1114, 0.1537, 0.6295,\n",
       "          0.8935, 0.4559, 0.6645, 0.7148, 0.9582, 0.4237, 0.3216, 0.0474],\n",
       "         [0.9153, 0.7582, 0.9807, 0.7008, 0.4528, 0.5591, 0.9300, 0.8818,\n",
       "          0.0474, 0.9770, 0.0913, 0.7871, 0.2267, 0.7199, 0.6313, 0.9275],\n",
       "         [0.7673, 0.1414, 0.6721, 0.2191, 0.7041, 0.9413, 0.4436, 0.6410,\n",
       "          0.9704, 0.8997, 0.8745, 0.3538, 0.3665, 0.6780, 0.9737, 0.9318],\n",
       "         [0.0051, 0.3077, 0.4717, 0.7149, 0.8349, 0.2188, 0.5688, 0.5073,\n",
       "          0.4032, 0.7420, 0.5170, 0.5111, 0.0541, 0.1154, 0.6693, 0.0838],\n",
       "         [0.1339, 0.6915, 0.9916, 0.4239, 0.4172, 0.9841, 0.2820, 0.0583,\n",
       "          0.9355, 0.7958, 0.1894, 0.4010, 0.1479, 0.5418, 0.3030, 0.3910],\n",
       "         [0.8145, 0.9648, 0.5993, 0.6640, 0.2596, 0.7935, 0.1644, 0.3177,\n",
       "          0.1208, 0.3696, 0.6251, 0.5976, 0.8572, 0.9065, 0.3059, 0.2560],\n",
       "         [0.6391, 0.8801, 0.5614, 0.7351, 0.3239, 0.5755, 0.3878, 0.9541,\n",
       "          0.4724, 0.8540, 0.9963, 0.8234, 0.8614, 0.2833, 0.3748, 0.1042]],\n",
       "\n",
       "        [[0.7248, 0.2692, 0.4655, 0.2457, 0.6822, 0.7376, 0.2464, 0.5569,\n",
       "          0.1877, 0.0874, 0.5838, 0.5417, 0.9682, 0.7015, 0.6184, 0.6273],\n",
       "         [0.2823, 0.9648, 0.5256, 0.7955, 0.8440, 0.4114, 0.9479, 0.6488,\n",
       "          0.0656, 0.8257, 0.1474, 0.4113, 0.2859, 0.3012, 0.8715, 0.3077],\n",
       "         [0.0096, 0.6253, 0.5117, 0.3514, 0.2119, 0.9335, 0.6551, 0.2911,\n",
       "          0.5326, 0.2840, 0.5110, 0.0187, 0.7703, 0.7581, 0.6665, 0.4555],\n",
       "         [0.9600, 0.6898, 0.0746, 0.1230, 0.6274, 0.6985, 0.2021, 0.2287,\n",
       "          0.1904, 0.6518, 0.2077, 0.3545, 0.9390, 0.8715, 0.0126, 0.9912],\n",
       "         [0.5380, 0.9373, 0.5327, 0.4357, 0.3387, 0.7826, 0.7802, 0.9319,\n",
       "          0.5758, 0.8853, 0.2843, 0.5610, 0.0378, 0.5659, 0.2279, 0.1106],\n",
       "         [0.5219, 0.4064, 0.8265, 0.1635, 0.5337, 0.8194, 0.3872, 0.3008,\n",
       "          0.6853, 0.7173, 0.3630, 0.4522, 0.6072, 0.2859, 0.9264, 0.2693],\n",
       "         [0.3320, 0.2866, 0.7193, 0.1921, 0.4470, 0.9127, 0.4128, 0.4480,\n",
       "          0.1836, 0.4394, 0.2856, 0.6326, 0.9437, 0.7737, 0.1624, 0.7369],\n",
       "         [0.1209, 0.0254, 0.9481, 0.3435, 0.5965, 0.1791, 0.2362, 0.8086,\n",
       "          0.2409, 0.8021, 0.2471, 0.1410, 0.0814, 0.7763, 0.4916, 0.8133],\n",
       "         [0.5256, 0.1378, 0.2353, 0.3700, 0.4039, 0.3667, 0.1137, 0.5376,\n",
       "          0.1724, 0.2428, 0.8313, 0.7939, 0.8174, 0.9383, 0.4417, 0.6851]],\n",
       "\n",
       "        [[0.8383, 0.9995, 0.7710, 0.8722, 0.7488, 0.1771, 0.9075, 0.4959,\n",
       "          0.1814, 0.3853, 0.0555, 0.3830, 0.4554, 0.2943, 0.0489, 0.0562],\n",
       "         [0.7065, 0.5095, 0.4141, 0.1205, 0.5789, 0.2350, 0.1483, 0.6319,\n",
       "          0.5614, 0.8506, 0.1460, 0.8013, 0.8426, 0.0044, 0.0173, 0.2953],\n",
       "         [0.0324, 0.7135, 0.9029, 0.8773, 0.0144, 0.1766, 0.1111, 0.3606,\n",
       "          0.0406, 0.0285, 0.4121, 0.2902, 0.1275, 0.0477, 0.2026, 0.3494],\n",
       "         [0.2782, 0.9227, 0.1318, 0.0941, 0.2612, 0.5838, 0.6411, 0.4058,\n",
       "          0.3978, 0.8068, 0.3929, 0.2619, 0.9723, 0.1955, 0.7317, 0.3899],\n",
       "         [0.1949, 0.8782, 0.9011, 0.9296, 0.6337, 0.2207, 0.5086, 0.2900,\n",
       "          0.9645, 0.5091, 0.3256, 0.1471, 0.9894, 0.5049, 0.3674, 0.2358],\n",
       "         [0.7848, 0.4553, 0.6909, 0.4658, 0.5944, 0.6172, 0.4135, 0.2483,\n",
       "          0.3906, 0.0213, 0.4698, 0.2751, 0.9594, 0.3889, 0.2363, 0.9113],\n",
       "         [0.8957, 0.1372, 0.3513, 0.0469, 0.6178, 0.4940, 0.3285, 0.2601,\n",
       "          0.0365, 0.3099, 0.6033, 0.2244, 0.7176, 0.6531, 0.7296, 0.9598],\n",
       "         [0.2119, 0.7585, 0.1487, 0.6304, 0.9321, 0.2529, 0.8648, 0.2653,\n",
       "          0.1722, 0.8917, 0.3369, 0.0719, 0.2015, 0.3697, 0.4165, 0.5654],\n",
       "         [0.2018, 0.7375, 0.6148, 0.3469, 0.0027, 0.2174, 0.0306, 0.9851,\n",
       "          0.9324, 0.2753, 0.0142, 0.4024, 0.7338, 0.3915, 0.0309, 0.6984]]])"
      ]
     },
     "execution_count": 18,
     "metadata": {},
     "output_type": "execute_result"
    }
   ],
   "source": [
    "h = 9\n",
    "w = 16\n",
    "c = 3\n",
    "\n",
    "shape = (c, h, w)\n",
    "\n",
    "image_tensor = torch.rand(shape)\n",
    "\n",
    "image_tensor"
   ]
  },
  {
   "cell_type": "code",
   "execution_count": 19,
   "metadata": {
    "execution": {
     "iopub.execute_input": "2023-10-02T12:02:14.862760Z",
     "iopub.status.busy": "2023-10-02T12:02:14.862530Z",
     "iopub.status.idle": "2023-10-02T12:02:14.865853Z",
     "shell.execute_reply": "2023-10-02T12:02:14.865565Z",
     "shell.execute_reply.started": "2023-10-02T12:02:14.862742Z"
    }
   },
   "outputs": [
    {
     "data": {
      "text/plain": [
       "torch.Size([3, 9, 16])"
      ]
     },
     "execution_count": 19,
     "metadata": {},
     "output_type": "execute_result"
    }
   ],
   "source": [
    "image_tensor.shape"
   ]
  },
  {
   "cell_type": "markdown",
   "metadata": {},
   "source": [
    "Можем попробовать поменять размер тензора, например, [вытянуть его в вектор](https://pytorch.org/docs/stable/generated/torch.ravel.html):"
   ]
  },
  {
   "cell_type": "code",
   "execution_count": 20,
   "metadata": {
    "execution": {
     "iopub.execute_input": "2023-10-02T12:02:32.931448Z",
     "iopub.status.busy": "2023-10-02T12:02:32.931245Z",
     "iopub.status.idle": "2023-10-02T12:02:32.936314Z",
     "shell.execute_reply": "2023-10-02T12:02:32.936027Z",
     "shell.execute_reply.started": "2023-10-02T12:02:32.931430Z"
    }
   },
   "outputs": [
    {
     "data": {
      "text/plain": [
       "tensor([0.4864, 0.1345, 0.0985, 0.4910, 0.5191, 0.5402, 0.9424, 0.2336, 0.8935,\n",
       "        0.6876, 0.0369, 0.8935, 0.2823, 0.6079, 0.8713, 0.8276, 0.4903, 0.8007,\n",
       "        0.8147, 0.8142, 0.5783, 0.7870, 0.6481, 0.8210, 0.4620, 0.7126, 0.3961,\n",
       "        0.2064, 0.6209, 0.7252, 0.0013, 0.8203, 0.6782, 0.4787, 0.7272, 0.7661,\n",
       "        0.1971, 0.1114, 0.1537, 0.6295, 0.8935, 0.4559, 0.6645, 0.7148, 0.9582,\n",
       "        0.4237, 0.3216, 0.0474, 0.9153, 0.7582, 0.9807, 0.7008, 0.4528, 0.5591,\n",
       "        0.9300, 0.8818, 0.0474, 0.9770, 0.0913, 0.7871, 0.2267, 0.7199, 0.6313,\n",
       "        0.9275, 0.7673, 0.1414, 0.6721, 0.2191, 0.7041, 0.9413, 0.4436, 0.6410,\n",
       "        0.9704, 0.8997, 0.8745, 0.3538, 0.3665, 0.6780, 0.9737, 0.9318, 0.0051,\n",
       "        0.3077, 0.4717, 0.7149, 0.8349, 0.2188, 0.5688, 0.5073, 0.4032, 0.7420,\n",
       "        0.5170, 0.5111, 0.0541, 0.1154, 0.6693, 0.0838, 0.1339, 0.6915, 0.9916,\n",
       "        0.4239, 0.4172, 0.9841, 0.2820, 0.0583, 0.9355, 0.7958, 0.1894, 0.4010,\n",
       "        0.1479, 0.5418, 0.3030, 0.3910, 0.8145, 0.9648, 0.5993, 0.6640, 0.2596,\n",
       "        0.7935, 0.1644, 0.3177, 0.1208, 0.3696, 0.6251, 0.5976, 0.8572, 0.9065,\n",
       "        0.3059, 0.2560, 0.6391, 0.8801, 0.5614, 0.7351, 0.3239, 0.5755, 0.3878,\n",
       "        0.9541, 0.4724, 0.8540, 0.9963, 0.8234, 0.8614, 0.2833, 0.3748, 0.1042,\n",
       "        0.7248, 0.2692, 0.4655, 0.2457, 0.6822, 0.7376, 0.2464, 0.5569, 0.1877,\n",
       "        0.0874, 0.5838, 0.5417, 0.9682, 0.7015, 0.6184, 0.6273, 0.2823, 0.9648,\n",
       "        0.5256, 0.7955, 0.8440, 0.4114, 0.9479, 0.6488, 0.0656, 0.8257, 0.1474,\n",
       "        0.4113, 0.2859, 0.3012, 0.8715, 0.3077, 0.0096, 0.6253, 0.5117, 0.3514,\n",
       "        0.2119, 0.9335, 0.6551, 0.2911, 0.5326, 0.2840, 0.5110, 0.0187, 0.7703,\n",
       "        0.7581, 0.6665, 0.4555, 0.9600, 0.6898, 0.0746, 0.1230, 0.6274, 0.6985,\n",
       "        0.2021, 0.2287, 0.1904, 0.6518, 0.2077, 0.3545, 0.9390, 0.8715, 0.0126,\n",
       "        0.9912, 0.5380, 0.9373, 0.5327, 0.4357, 0.3387, 0.7826, 0.7802, 0.9319,\n",
       "        0.5758, 0.8853, 0.2843, 0.5610, 0.0378, 0.5659, 0.2279, 0.1106, 0.5219,\n",
       "        0.4064, 0.8265, 0.1635, 0.5337, 0.8194, 0.3872, 0.3008, 0.6853, 0.7173,\n",
       "        0.3630, 0.4522, 0.6072, 0.2859, 0.9264, 0.2693, 0.3320, 0.2866, 0.7193,\n",
       "        0.1921, 0.4470, 0.9127, 0.4128, 0.4480, 0.1836, 0.4394, 0.2856, 0.6326,\n",
       "        0.9437, 0.7737, 0.1624, 0.7369, 0.1209, 0.0254, 0.9481, 0.3435, 0.5965,\n",
       "        0.1791, 0.2362, 0.8086, 0.2409, 0.8021, 0.2471, 0.1410, 0.0814, 0.7763,\n",
       "        0.4916, 0.8133, 0.5256, 0.1378, 0.2353, 0.3700, 0.4039, 0.3667, 0.1137,\n",
       "        0.5376, 0.1724, 0.2428, 0.8313, 0.7939, 0.8174, 0.9383, 0.4417, 0.6851,\n",
       "        0.8383, 0.9995, 0.7710, 0.8722, 0.7488, 0.1771, 0.9075, 0.4959, 0.1814,\n",
       "        0.3853, 0.0555, 0.3830, 0.4554, 0.2943, 0.0489, 0.0562, 0.7065, 0.5095,\n",
       "        0.4141, 0.1205, 0.5789, 0.2350, 0.1483, 0.6319, 0.5614, 0.8506, 0.1460,\n",
       "        0.8013, 0.8426, 0.0044, 0.0173, 0.2953, 0.0324, 0.7135, 0.9029, 0.8773,\n",
       "        0.0144, 0.1766, 0.1111, 0.3606, 0.0406, 0.0285, 0.4121, 0.2902, 0.1275,\n",
       "        0.0477, 0.2026, 0.3494, 0.2782, 0.9227, 0.1318, 0.0941, 0.2612, 0.5838,\n",
       "        0.6411, 0.4058, 0.3978, 0.8068, 0.3929, 0.2619, 0.9723, 0.1955, 0.7317,\n",
       "        0.3899, 0.1949, 0.8782, 0.9011, 0.9296, 0.6337, 0.2207, 0.5086, 0.2900,\n",
       "        0.9645, 0.5091, 0.3256, 0.1471, 0.9894, 0.5049, 0.3674, 0.2358, 0.7848,\n",
       "        0.4553, 0.6909, 0.4658, 0.5944, 0.6172, 0.4135, 0.2483, 0.3906, 0.0213,\n",
       "        0.4698, 0.2751, 0.9594, 0.3889, 0.2363, 0.9113, 0.8957, 0.1372, 0.3513,\n",
       "        0.0469, 0.6178, 0.4940, 0.3285, 0.2601, 0.0365, 0.3099, 0.6033, 0.2244,\n",
       "        0.7176, 0.6531, 0.7296, 0.9598, 0.2119, 0.7585, 0.1487, 0.6304, 0.9321,\n",
       "        0.2529, 0.8648, 0.2653, 0.1722, 0.8917, 0.3369, 0.0719, 0.2015, 0.3697,\n",
       "        0.4165, 0.5654, 0.2018, 0.7375, 0.6148, 0.3469, 0.0027, 0.2174, 0.0306,\n",
       "        0.9851, 0.9324, 0.2753, 0.0142, 0.4024, 0.7338, 0.3915, 0.0309, 0.6984])"
      ]
     },
     "execution_count": 20,
     "metadata": {},
     "output_type": "execute_result"
    }
   ],
   "source": [
    "image_tensor.ravel()"
   ]
  },
  {
   "cell_type": "code",
   "execution_count": 21,
   "metadata": {
    "execution": {
     "iopub.execute_input": "2023-10-02T12:02:58.235015Z",
     "iopub.status.busy": "2023-10-02T12:02:58.234830Z",
     "iopub.status.idle": "2023-10-02T12:02:58.237902Z",
     "shell.execute_reply": "2023-10-02T12:02:58.237618Z",
     "shell.execute_reply.started": "2023-10-02T12:02:58.235001Z"
    }
   },
   "outputs": [
    {
     "data": {
      "text/plain": [
       "torch.Size([432])"
      ]
     },
     "execution_count": 21,
     "metadata": {},
     "output_type": "execute_result"
    }
   ],
   "source": [
    "image_tensor.ravel().shape"
   ]
  },
  {
   "cell_type": "code",
   "execution_count": 22,
   "metadata": {
    "execution": {
     "iopub.execute_input": "2023-10-02T12:02:58.843267Z",
     "iopub.status.busy": "2023-10-02T12:02:58.843067Z",
     "iopub.status.idle": "2023-10-02T12:02:58.845949Z",
     "shell.execute_reply": "2023-10-02T12:02:58.845663Z",
     "shell.execute_reply.started": "2023-10-02T12:02:58.843253Z"
    }
   },
   "outputs": [
    {
     "data": {
      "text/plain": [
       "432"
      ]
     },
     "execution_count": 22,
     "metadata": {},
     "output_type": "execute_result"
    }
   ],
   "source": [
    "h * w * c"
   ]
  },
  {
   "cell_type": "markdown",
   "metadata": {},
   "source": [
    "Посчитаем количество элементов в тензоре с помощью [специальной функции](https://pytorch.org/docs/stable/generated/torch.numel.html):"
   ]
  },
  {
   "cell_type": "code",
   "execution_count": 23,
   "metadata": {
    "execution": {
     "iopub.execute_input": "2023-10-02T12:05:15.304456Z",
     "iopub.status.busy": "2023-10-02T12:05:15.304269Z",
     "iopub.status.idle": "2023-10-02T12:05:15.307064Z",
     "shell.execute_reply": "2023-10-02T12:05:15.306761Z",
     "shell.execute_reply.started": "2023-10-02T12:05:15.304442Z"
    }
   },
   "outputs": [
    {
     "data": {
      "text/plain": [
       "432"
      ]
     },
     "execution_count": 23,
     "metadata": {},
     "output_type": "execute_result"
    }
   ],
   "source": [
    "image_tensor.numel()"
   ]
  },
  {
   "cell_type": "code",
   "execution_count": 24,
   "metadata": {
    "execution": {
     "iopub.execute_input": "2023-10-02T12:05:20.484247Z",
     "iopub.status.busy": "2023-10-02T12:05:20.484062Z",
     "iopub.status.idle": "2023-10-02T12:05:20.487975Z",
     "shell.execute_reply": "2023-10-02T12:05:20.487683Z",
     "shell.execute_reply.started": "2023-10-02T12:05:20.484234Z"
    }
   },
   "outputs": [
    {
     "data": {
      "text/plain": [
       "tensor([[[0.4597, 0.1813, 0.6826],\n",
       "         [0.1960, 0.6341, 0.8384]],\n",
       "\n",
       "        [[0.3921, 0.1819, 0.0802],\n",
       "         [0.2908, 0.9219, 0.7294]],\n",
       "\n",
       "        [[0.7496, 0.6092, 0.0628],\n",
       "         [0.2635, 0.2133, 0.8289]]])"
      ]
     },
     "execution_count": 24,
     "metadata": {},
     "output_type": "execute_result"
    }
   ],
   "source": [
    "h = 2\n",
    "w = 3\n",
    "c = 3\n",
    "\n",
    "shape = (c, h, w)\n",
    "\n",
    "image_tensor = torch.rand(shape)\n",
    "\n",
    "image_tensor"
   ]
  },
  {
   "cell_type": "markdown",
   "metadata": {},
   "source": [
    "Попробуем поменять размер с помощью функции [reshape](https://pytorch.org/docs/stable/generated/torch.reshape.html#torch.reshape):"
   ]
  },
  {
   "cell_type": "code",
   "execution_count": 25,
   "metadata": {
    "execution": {
     "iopub.execute_input": "2023-10-02T12:05:36.008796Z",
     "iopub.status.busy": "2023-10-02T12:05:36.008562Z",
     "iopub.status.idle": "2023-10-02T12:05:36.012410Z",
     "shell.execute_reply": "2023-10-02T12:05:36.012121Z",
     "shell.execute_reply.started": "2023-10-02T12:05:36.008777Z"
    }
   },
   "outputs": [
    {
     "data": {
      "text/plain": [
       "tensor([[0.4597, 0.1813, 0.6826, 0.1960, 0.6341, 0.8384],\n",
       "        [0.3921, 0.1819, 0.0802, 0.2908, 0.9219, 0.7294],\n",
       "        [0.7496, 0.6092, 0.0628, 0.2635, 0.2133, 0.8289]])"
      ]
     },
     "execution_count": 25,
     "metadata": {},
     "output_type": "execute_result"
    }
   ],
   "source": [
    "image_tensor.reshape(c, h * w)"
   ]
  },
  {
   "cell_type": "markdown",
   "metadata": {},
   "source": [
    "Попробуем собрать из нескольких тензоров один большой:\n",
    "\n",
    "[torch.cat](https://pytorch.org/docs/stable/generated/torch.cat.html#torch.cat)"
   ]
  },
  {
   "cell_type": "code",
   "execution_count": 26,
   "metadata": {
    "execution": {
     "iopub.execute_input": "2023-10-02T12:05:48.192603Z",
     "iopub.status.busy": "2023-10-02T12:05:48.192383Z",
     "iopub.status.idle": "2023-10-02T12:05:48.194748Z",
     "shell.execute_reply": "2023-10-02T12:05:48.194456Z",
     "shell.execute_reply.started": "2023-10-02T12:05:48.192589Z"
    }
   },
   "outputs": [],
   "source": [
    "x = torch.randn(2, 3)"
   ]
  },
  {
   "cell_type": "code",
   "execution_count": 27,
   "metadata": {
    "execution": {
     "iopub.execute_input": "2023-10-02T12:05:48.954624Z",
     "iopub.status.busy": "2023-10-02T12:05:48.954411Z",
     "iopub.status.idle": "2023-10-02T12:05:48.958023Z",
     "shell.execute_reply": "2023-10-02T12:05:48.957726Z",
     "shell.execute_reply.started": "2023-10-02T12:05:48.954606Z"
    }
   },
   "outputs": [
    {
     "data": {
      "text/plain": [
       "tensor([[-0.3412,  1.6440, -0.8311],\n",
       "        [-0.1244, -0.8518, -1.6014]])"
      ]
     },
     "execution_count": 27,
     "metadata": {},
     "output_type": "execute_result"
    }
   ],
   "source": [
    "x"
   ]
  },
  {
   "cell_type": "code",
   "execution_count": 28,
   "metadata": {
    "execution": {
     "iopub.execute_input": "2023-10-02T12:05:58.086548Z",
     "iopub.status.busy": "2023-10-02T12:05:58.086356Z",
     "iopub.status.idle": "2023-10-02T12:05:58.098312Z",
     "shell.execute_reply": "2023-10-02T12:05:58.097932Z",
     "shell.execute_reply.started": "2023-10-02T12:05:58.086535Z"
    }
   },
   "outputs": [
    {
     "data": {
      "text/plain": [
       "tensor([[-0.3412,  1.6440, -0.8311],\n",
       "        [-0.1244, -0.8518, -1.6014],\n",
       "        [-0.3412,  1.6440, -0.8311],\n",
       "        [-0.1244, -0.8518, -1.6014],\n",
       "        [-0.3412,  1.6440, -0.8311],\n",
       "        [-0.1244, -0.8518, -1.6014]])"
      ]
     },
     "execution_count": 28,
     "metadata": {},
     "output_type": "execute_result"
    }
   ],
   "source": [
    "torch.cat((x, x, x), dim=0)"
   ]
  },
  {
   "cell_type": "code",
   "execution_count": 38,
   "metadata": {
    "execution": {
     "iopub.execute_input": "2023-10-02T12:10:19.549750Z",
     "iopub.status.busy": "2023-10-02T12:10:19.549517Z",
     "iopub.status.idle": "2023-10-02T12:10:19.553217Z",
     "shell.execute_reply": "2023-10-02T12:10:19.552926Z",
     "shell.execute_reply.started": "2023-10-02T12:10:19.549732Z"
    }
   },
   "outputs": [
    {
     "data": {
      "text/plain": [
       "torch.Size([4, 2, 3])"
      ]
     },
     "execution_count": 38,
     "metadata": {},
     "output_type": "execute_result"
    }
   ],
   "source": [
    "torch.stack((x, x, x, x), dim=0).shape"
   ]
  },
  {
   "cell_type": "code",
   "execution_count": 42,
   "metadata": {
    "execution": {
     "iopub.execute_input": "2023-10-02T12:11:57.132971Z",
     "iopub.status.busy": "2023-10-02T12:11:57.132783Z",
     "iopub.status.idle": "2023-10-02T12:11:57.135942Z",
     "shell.execute_reply": "2023-10-02T12:11:57.135656Z",
     "shell.execute_reply.started": "2023-10-02T12:11:57.132958Z"
    }
   },
   "outputs": [
    {
     "data": {
      "text/plain": [
       "torch.Size([1, 1, 2, 3])"
      ]
     },
     "execution_count": 42,
     "metadata": {},
     "output_type": "execute_result"
    }
   ],
   "source": [
    "x.unsqueeze_(0).shape"
   ]
  },
  {
   "cell_type": "code",
   "execution_count": 30,
   "metadata": {
    "execution": {
     "iopub.execute_input": "2023-10-02T12:06:11.911762Z",
     "iopub.status.busy": "2023-10-02T12:06:11.911572Z",
     "iopub.status.idle": "2023-10-02T12:06:11.916683Z",
     "shell.execute_reply": "2023-10-02T12:06:11.916389Z",
     "shell.execute_reply.started": "2023-10-02T12:06:11.911748Z"
    }
   },
   "outputs": [
    {
     "name": "stdout",
     "output_type": "stream",
     "text": [
      "tensor([[ 0.1528, -0.7060, -0.6123],\n",
      "        [ 0.0732, -0.1394,  0.1681],\n",
      "        [-0.0177, -0.2970, -1.0488]])\n",
      "tensor([[ 0.7031, -1.7171,  0.7060],\n",
      "        [-0.1856, -0.0150,  1.4701],\n",
      "        [ 0.1259, -1.4528,  0.2876],\n",
      "        [ 1.2115, -0.5579, -0.1800],\n",
      "        [-0.3268,  0.8831,  0.0295]])\n",
      "tensor([[ 0.8707,  0.1631, -0.7366]])\n"
     ]
    },
    {
     "data": {
      "text/plain": [
       "tensor([[ 0.1528, -0.7060, -0.6123],\n",
       "        [ 0.0732, -0.1394,  0.1681],\n",
       "        [-0.0177, -0.2970, -1.0488],\n",
       "        [ 0.7031, -1.7171,  0.7060],\n",
       "        [-0.1856, -0.0150,  1.4701],\n",
       "        [ 0.1259, -1.4528,  0.2876],\n",
       "        [ 1.2115, -0.5579, -0.1800],\n",
       "        [-0.3268,  0.8831,  0.0295],\n",
       "        [ 0.8707,  0.1631, -0.7366]])"
      ]
     },
     "execution_count": 30,
     "metadata": {},
     "output_type": "execute_result"
    }
   ],
   "source": [
    "x = torch.randn(3, 3)\n",
    "y = torch.randn(5, 3)\n",
    "z = torch.randn(1, 3)\n",
    "\n",
    "for tensor in [x, y, z]:\n",
    "    print(tensor)\n",
    "\n",
    "torch.cat((x, y, z), dim=0)"
   ]
  },
  {
   "cell_type": "code",
   "execution_count": 34,
   "metadata": {
    "execution": {
     "iopub.execute_input": "2023-10-02T12:09:50.570067Z",
     "iopub.status.busy": "2023-10-02T12:09:50.569881Z",
     "iopub.status.idle": "2023-10-02T12:09:50.598751Z",
     "shell.execute_reply": "2023-10-02T12:09:50.598404Z",
     "shell.execute_reply.started": "2023-10-02T12:09:50.570049Z"
    }
   },
   "outputs": [
    {
     "name": "stdout",
     "output_type": "stream",
     "text": [
      "tensor([[ 2.1165,  1.0163, -0.0865],\n",
      "        [-0.3076, -0.9481,  0.8369]])\n",
      "tensor([[-0.6109,  1.0249,  1.0674, -0.9915,  0.5518],\n",
      "        [-1.8560,  1.6864, -0.3360, -2.1264,  1.3142]])\n",
      "tensor([[-0.3127],\n",
      "        [-0.2211]])\n"
     ]
    },
    {
     "ename": "RuntimeError",
     "evalue": "stack expects each tensor to be equal size, but got [2, 3] at entry 0 and [2, 5] at entry 1",
     "output_type": "error",
     "traceback": [
      "\u001b[0;31m---------------------------------------------------------------------------\u001b[0m",
      "\u001b[0;31mRuntimeError\u001b[0m                              Traceback (most recent call last)",
      "Cell \u001b[0;32mIn[34], line 8\u001b[0m\n\u001b[1;32m      5\u001b[0m \u001b[38;5;28;01mfor\u001b[39;00m tensor \u001b[38;5;129;01min\u001b[39;00m [x, y, z]:\n\u001b[1;32m      6\u001b[0m     \u001b[38;5;28mprint\u001b[39m(tensor)\n\u001b[0;32m----> 8\u001b[0m \u001b[43mtorch\u001b[49m\u001b[38;5;241;43m.\u001b[39;49m\u001b[43mstack\u001b[49m\u001b[43m(\u001b[49m\u001b[43m(\u001b[49m\u001b[43mx\u001b[49m\u001b[43m,\u001b[49m\u001b[43m \u001b[49m\u001b[43my\u001b[49m\u001b[43m,\u001b[49m\u001b[43m \u001b[49m\u001b[43mz\u001b[49m\u001b[43m)\u001b[49m\u001b[43m,\u001b[49m\u001b[43m \u001b[49m\u001b[43mdim\u001b[49m\u001b[38;5;241;43m=\u001b[39;49m\u001b[38;5;241;43m1\u001b[39;49m\u001b[43m)\u001b[49m\n",
      "\u001b[0;31mRuntimeError\u001b[0m: stack expects each tensor to be equal size, but got [2, 3] at entry 0 and [2, 5] at entry 1"
     ]
    }
   ],
   "source": [
    "x = torch.randn(2, 3)\n",
    "y = torch.randn(2, 5)\n",
    "z = torch.randn(2, 1)\n",
    "\n",
    "for tensor in [x, y, z]:\n",
    "    print(tensor)\n",
    "\n",
    "torch.stack((x, y, z), dim=1)"
   ]
  },
  {
   "cell_type": "markdown",
   "metadata": {},
   "source": [
    "Теперь добавим дополнительную ось:\n",
    "\n",
    "[torch.unsqueeze](https://pytorch.org/docs/stable/generated/torch.unsqueeze.html)"
   ]
  },
  {
   "cell_type": "code",
   "execution_count": 32,
   "metadata": {
    "execution": {
     "iopub.execute_input": "2023-10-02T12:07:19.420313Z",
     "iopub.status.busy": "2023-10-02T12:07:19.420083Z",
     "iopub.status.idle": "2023-10-02T12:07:19.432960Z",
     "shell.execute_reply": "2023-10-02T12:07:19.432675Z",
     "shell.execute_reply.started": "2023-10-02T12:07:19.420295Z"
    }
   },
   "outputs": [
    {
     "name": "stdout",
     "output_type": "stream",
     "text": [
      "tensor([[0.3201, 0.5346, 0.4294],\n",
      "        [0.7934, 0.3562, 0.2969]])\n",
      "\n",
      "tensor([[[0.3201, 0.5346, 0.4294],\n",
      "         [0.7934, 0.3562, 0.2969]]]) torch.Size([1, 2, 3])\n",
      "\n",
      "tensor([[[0.3201, 0.5346, 0.4294]],\n",
      "\n",
      "        [[0.7934, 0.3562, 0.2969]]]) torch.Size([2, 1, 3])\n",
      "\n",
      "tensor([[[0.3201],\n",
      "         [0.5346],\n",
      "         [0.4294]],\n",
      "\n",
      "        [[0.7934],\n",
      "         [0.3562],\n",
      "         [0.2969]]]) torch.Size([2, 3, 1])\n"
     ]
    }
   ],
   "source": [
    "x = torch.rand(2, 3)\n",
    "\n",
    "print(x)\n",
    "print()\n",
    "print(x.unsqueeze(0), x.unsqueeze(0).shape)\n",
    "print()\n",
    "print(x.unsqueeze(1), x.unsqueeze(1).shape)\n",
    "print()\n",
    "print(x.unsqueeze(2), x.unsqueeze(2).shape)"
   ]
  },
  {
   "cell_type": "markdown",
   "metadata": {},
   "source": [
    "Уберем лишние оси (где размер единичка):"
   ]
  },
  {
   "cell_type": "code",
   "execution_count": 45,
   "metadata": {
    "execution": {
     "iopub.execute_input": "2023-10-02T12:14:24.935125Z",
     "iopub.status.busy": "2023-10-02T12:14:24.934662Z",
     "iopub.status.idle": "2023-10-02T12:14:24.939140Z",
     "shell.execute_reply": "2023-10-02T12:14:24.938737Z",
     "shell.execute_reply.started": "2023-10-02T12:14:24.935105Z"
    }
   },
   "outputs": [
    {
     "name": "stdout",
     "output_type": "stream",
     "text": [
      "tensor([[[[0.0557, 0.0066, 0.7910]],\n",
      "\n",
      "         [[0.4676, 0.4237, 0.3102]]]])\n",
      "\n",
      "tensor([[0.0557, 0.0066, 0.7910],\n",
      "        [0.4676, 0.4237, 0.3102]]) torch.Size([2, 3])\n",
      "\n",
      "tensor([[[[0.0557, 0.0066, 0.7910]],\n",
      "\n",
      "         [[0.4676, 0.4237, 0.3102]]]]) torch.Size([1, 2, 1, 3])\n"
     ]
    }
   ],
   "source": [
    "x = torch.rand(1, 2, 1, 3)\n",
    "\n",
    "print(x)\n",
    "print()\n",
    "print(x.squeeze(), x.squeeze().shape)\n",
    "print()\n",
    "print(x.squeeze(1), x.squeeze(1).shape)"
   ]
  },
  {
   "cell_type": "markdown",
   "metadata": {},
   "source": [
    "Теперь поговорим про типы данных в тензорах. По умолчанию в тензорах лежат числа в torch.float32 для вещественных и torch.int64 для целочисленных."
   ]
  },
  {
   "cell_type": "code",
   "execution_count": 46,
   "metadata": {
    "execution": {
     "iopub.execute_input": "2023-10-02T12:14:45.254337Z",
     "iopub.status.busy": "2023-10-02T12:14:45.254042Z",
     "iopub.status.idle": "2023-10-02T12:14:45.259092Z",
     "shell.execute_reply": "2023-10-02T12:14:45.258725Z",
     "shell.execute_reply.started": "2023-10-02T12:14:45.254314Z"
    }
   },
   "outputs": [
    {
     "data": {
      "text/plain": [
       "tensor([1.5000, 2.2000, 3.7000, 4.9000])"
      ]
     },
     "execution_count": 46,
     "metadata": {},
     "output_type": "execute_result"
    }
   ],
   "source": [
    "tensor = torch.tensor([1.5, 2.2, 3.7, 4.9])\n",
    "\n",
    "tensor"
   ]
  },
  {
   "cell_type": "code",
   "execution_count": 47,
   "metadata": {
    "execution": {
     "iopub.execute_input": "2023-10-02T12:14:49.731218Z",
     "iopub.status.busy": "2023-10-02T12:14:49.730985Z",
     "iopub.status.idle": "2023-10-02T12:14:49.733958Z",
     "shell.execute_reply": "2023-10-02T12:14:49.733675Z",
     "shell.execute_reply.started": "2023-10-02T12:14:49.731200Z"
    }
   },
   "outputs": [
    {
     "data": {
      "text/plain": [
       "torch.float32"
      ]
     },
     "execution_count": 47,
     "metadata": {},
     "output_type": "execute_result"
    }
   ],
   "source": [
    "tensor.dtype"
   ]
  },
  {
   "cell_type": "code",
   "execution_count": 48,
   "metadata": {
    "execution": {
     "iopub.execute_input": "2023-10-02T12:15:26.863774Z",
     "iopub.status.busy": "2023-10-02T12:15:26.863570Z",
     "iopub.status.idle": "2023-10-02T12:15:26.874974Z",
     "shell.execute_reply": "2023-10-02T12:15:26.874668Z",
     "shell.execute_reply.started": "2023-10-02T12:15:26.863760Z"
    }
   },
   "outputs": [
    {
     "data": {
      "text/plain": [
       "tensor([1.5000, 2.1992, 3.6992, 4.8984], dtype=torch.float16)"
      ]
     },
     "execution_count": 48,
     "metadata": {},
     "output_type": "execute_result"
    }
   ],
   "source": [
    "tensor = torch.tensor([1.5, 2.2, 3.7, 4.9], dtype=torch.float16)\n",
    "\n",
    "tensor"
   ]
  },
  {
   "cell_type": "code",
   "execution_count": 49,
   "metadata": {
    "execution": {
     "iopub.execute_input": "2023-10-02T12:15:30.990525Z",
     "iopub.status.busy": "2023-10-02T12:15:30.990348Z",
     "iopub.status.idle": "2023-10-02T12:15:30.993633Z",
     "shell.execute_reply": "2023-10-02T12:15:30.993339Z",
     "shell.execute_reply.started": "2023-10-02T12:15:30.990511Z"
    }
   },
   "outputs": [
    {
     "data": {
      "text/plain": [
       "tensor([1.5000, 2.2000, 3.7000, 4.9000], dtype=torch.float64)"
      ]
     },
     "execution_count": 49,
     "metadata": {},
     "output_type": "execute_result"
    }
   ],
   "source": [
    "tensor = torch.tensor([1.5, 2.2, 3.7, 4.9], dtype=torch.float64)\n",
    "\n",
    "tensor"
   ]
  },
  {
   "cell_type": "code",
   "execution_count": 50,
   "metadata": {
    "execution": {
     "iopub.execute_input": "2023-10-02T12:15:34.811722Z",
     "iopub.status.busy": "2023-10-02T12:15:34.811486Z",
     "iopub.status.idle": "2023-10-02T12:15:34.815096Z",
     "shell.execute_reply": "2023-10-02T12:15:34.814809Z",
     "shell.execute_reply.started": "2023-10-02T12:15:34.811694Z"
    }
   },
   "outputs": [
    {
     "data": {
      "text/plain": [
       "tensor([15, 22, 37, 49])"
      ]
     },
     "execution_count": 50,
     "metadata": {},
     "output_type": "execute_result"
    }
   ],
   "source": [
    "tensor = torch.tensor([15, 22, 37, 49])\n",
    "\n",
    "tensor"
   ]
  },
  {
   "cell_type": "code",
   "execution_count": 51,
   "metadata": {
    "execution": {
     "iopub.execute_input": "2023-10-02T12:15:35.781681Z",
     "iopub.status.busy": "2023-10-02T12:15:35.781498Z",
     "iopub.status.idle": "2023-10-02T12:15:35.784238Z",
     "shell.execute_reply": "2023-10-02T12:15:35.783957Z",
     "shell.execute_reply.started": "2023-10-02T12:15:35.781664Z"
    }
   },
   "outputs": [
    {
     "data": {
      "text/plain": [
       "torch.int64"
      ]
     },
     "execution_count": 51,
     "metadata": {},
     "output_type": "execute_result"
    }
   ],
   "source": [
    "tensor.dtype"
   ]
  },
  {
   "cell_type": "code",
   "execution_count": 52,
   "metadata": {
    "execution": {
     "iopub.execute_input": "2023-10-02T12:15:38.892497Z",
     "iopub.status.busy": "2023-10-02T12:15:38.892311Z",
     "iopub.status.idle": "2023-10-02T12:15:38.895935Z",
     "shell.execute_reply": "2023-10-02T12:15:38.895645Z",
     "shell.execute_reply.started": "2023-10-02T12:15:38.892483Z"
    }
   },
   "outputs": [
    {
     "data": {
      "text/plain": [
       "tensor([15, 22, 37, 49], dtype=torch.int32)"
      ]
     },
     "execution_count": 52,
     "metadata": {},
     "output_type": "execute_result"
    }
   ],
   "source": [
    "tensor = torch.tensor([15, 22, 37, 49], dtype=torch.int32)\n",
    "\n",
    "tensor"
   ]
  },
  {
   "cell_type": "code",
   "execution_count": 53,
   "metadata": {
    "execution": {
     "iopub.execute_input": "2023-10-02T12:15:39.956235Z",
     "iopub.status.busy": "2023-10-02T12:15:39.956051Z",
     "iopub.status.idle": "2023-10-02T12:15:39.959651Z",
     "shell.execute_reply": "2023-10-02T12:15:39.959359Z",
     "shell.execute_reply.started": "2023-10-02T12:15:39.956221Z"
    }
   },
   "outputs": [
    {
     "data": {
      "text/plain": [
       "tensor([15, 22, 37, 49], dtype=torch.int16)"
      ]
     },
     "execution_count": 53,
     "metadata": {},
     "output_type": "execute_result"
    }
   ],
   "source": [
    "tensor = torch.tensor([15, 22, 37, 49], dtype=torch.int16)\n",
    "\n",
    "tensor"
   ]
  },
  {
   "cell_type": "markdown",
   "metadata": {},
   "source": [
    "Размещение тензора на GPU:"
   ]
  },
  {
   "cell_type": "code",
   "execution_count": 54,
   "metadata": {
    "execution": {
     "iopub.execute_input": "2023-10-02T12:22:09.577110Z",
     "iopub.status.busy": "2023-10-02T12:22:09.576919Z",
     "iopub.status.idle": "2023-10-02T12:22:09.639160Z",
     "shell.execute_reply": "2023-10-02T12:22:09.638810Z",
     "shell.execute_reply.started": "2023-10-02T12:22:09.577096Z"
    }
   },
   "outputs": [
    {
     "name": "stdout",
     "output_type": "stream",
     "text": [
      "True\n",
      "NVIDIA GeForce RTX 4090\n"
     ]
    }
   ],
   "source": [
    "print(torch.cuda.is_available())\n",
    "print(torch.cuda.get_device_name())"
   ]
  },
  {
   "cell_type": "code",
   "execution_count": null,
   "metadata": {},
   "outputs": [],
   "source": [
    "! nvidia-smi"
   ]
  },
  {
   "cell_type": "code",
   "execution_count": 55,
   "metadata": {
    "execution": {
     "iopub.execute_input": "2023-10-02T12:23:12.533172Z",
     "iopub.status.busy": "2023-10-02T12:23:12.532936Z",
     "iopub.status.idle": "2023-10-02T12:23:12.535768Z",
     "shell.execute_reply": "2023-10-02T12:23:12.535368Z",
     "shell.execute_reply.started": "2023-10-02T12:23:12.533154Z"
    },
    "pycharm": {
     "name": "#%%\n"
    }
   },
   "outputs": [
    {
     "name": "stdout",
     "output_type": "stream",
     "text": [
      "cuda:0\n"
     ]
    }
   ],
   "source": [
    "device = torch.device('cuda:0' if torch.cuda.is_available() else 'cpu')\n",
    "\n",
    "print(device)"
   ]
  },
  {
   "cell_type": "code",
   "execution_count": 56,
   "metadata": {
    "execution": {
     "iopub.execute_input": "2023-10-02T12:23:20.120062Z",
     "iopub.status.busy": "2023-10-02T12:23:20.119829Z",
     "iopub.status.idle": "2023-10-02T12:23:20.198426Z",
     "shell.execute_reply": "2023-10-02T12:23:20.197934Z",
     "shell.execute_reply.started": "2023-10-02T12:23:20.120045Z"
    }
   },
   "outputs": [
    {
     "data": {
      "text/plain": [
       "tensor([15, 22, 37, 49], device='cuda:0')"
      ]
     },
     "execution_count": 56,
     "metadata": {},
     "output_type": "execute_result"
    }
   ],
   "source": [
    "tensor = torch.tensor([15, 22, 37, 49], device=device)\n",
    "\n",
    "tensor"
   ]
  },
  {
   "cell_type": "code",
   "execution_count": 57,
   "metadata": {
    "execution": {
     "iopub.execute_input": "2023-10-02T12:24:43.464007Z",
     "iopub.status.busy": "2023-10-02T12:24:43.463798Z",
     "iopub.status.idle": "2023-10-02T12:24:43.474932Z",
     "shell.execute_reply": "2023-10-02T12:24:43.474550Z",
     "shell.execute_reply.started": "2023-10-02T12:24:43.463989Z"
    }
   },
   "outputs": [
    {
     "name": "stdout",
     "output_type": "stream",
     "text": [
      "tensor([15, 22, 37, 49])\n"
     ]
    },
    {
     "data": {
      "text/plain": [
       "tensor([15, 22, 37, 49], device='cuda:0')"
      ]
     },
     "execution_count": 57,
     "metadata": {},
     "output_type": "execute_result"
    }
   ],
   "source": [
    "tensor = torch.tensor([15, 22, 37, 49])\n",
    "\n",
    "print(tensor)\n",
    "\n",
    "tensor = tensor.to(device)\n",
    "\n",
    "tensor"
   ]
  },
  {
   "cell_type": "code",
   "execution_count": 58,
   "metadata": {
    "execution": {
     "iopub.execute_input": "2023-10-02T12:24:51.354499Z",
     "iopub.status.busy": "2023-10-02T12:24:51.354309Z",
     "iopub.status.idle": "2023-10-02T12:24:51.376091Z",
     "shell.execute_reply": "2023-10-02T12:24:51.375638Z",
     "shell.execute_reply.started": "2023-10-02T12:24:51.354485Z"
    }
   },
   "outputs": [
    {
     "data": {
      "text/plain": [
       "tensor([15, 22, 37, 49], device='cuda:0', dtype=torch.int32)"
      ]
     },
     "execution_count": 58,
     "metadata": {},
     "output_type": "execute_result"
    }
   ],
   "source": [
    "tensor.to(torch.int32)"
   ]
  },
  {
   "cell_type": "code",
   "execution_count": 59,
   "metadata": {
    "execution": {
     "iopub.execute_input": "2023-10-02T12:24:58.107802Z",
     "iopub.status.busy": "2023-10-02T12:24:58.107615Z",
     "iopub.status.idle": "2023-10-02T12:24:58.110620Z",
     "shell.execute_reply": "2023-10-02T12:24:58.110335Z",
     "shell.execute_reply.started": "2023-10-02T12:24:58.107784Z"
    }
   },
   "outputs": [
    {
     "data": {
      "text/plain": [
       "tensor([15, 22, 37, 49])"
      ]
     },
     "execution_count": 59,
     "metadata": {},
     "output_type": "execute_result"
    }
   ],
   "source": [
    "tensor = tensor.cpu()\n",
    "\n",
    "tensor"
   ]
  },
  {
   "cell_type": "code",
   "execution_count": 60,
   "metadata": {
    "execution": {
     "iopub.execute_input": "2023-10-02T12:24:59.914029Z",
     "iopub.status.busy": "2023-10-02T12:24:59.913842Z",
     "iopub.status.idle": "2023-10-02T12:24:59.917283Z",
     "shell.execute_reply": "2023-10-02T12:24:59.916999Z",
     "shell.execute_reply.started": "2023-10-02T12:24:59.914016Z"
    }
   },
   "outputs": [
    {
     "data": {
      "text/plain": [
       "tensor([15, 22, 37, 49], device='cuda:0')"
      ]
     },
     "execution_count": 60,
     "metadata": {},
     "output_type": "execute_result"
    }
   ],
   "source": [
    "tensor.cuda()"
   ]
  },
  {
   "cell_type": "code",
   "execution_count": 61,
   "metadata": {
    "execution": {
     "iopub.execute_input": "2023-10-02T12:25:04.605528Z",
     "iopub.status.busy": "2023-10-02T12:25:04.605235Z",
     "iopub.status.idle": "2023-10-02T12:25:04.610451Z",
     "shell.execute_reply": "2023-10-02T12:25:04.610166Z",
     "shell.execute_reply.started": "2023-10-02T12:25:04.605504Z"
    }
   },
   "outputs": [
    {
     "data": {
      "text/plain": [
       "tensor([[1.4667, 0.9306, 1.3612],\n",
       "        [1.0351, 0.9423, 1.1146]])"
      ]
     },
     "execution_count": 61,
     "metadata": {},
     "output_type": "execute_result"
    }
   ],
   "source": [
    "a = torch.rand(2, 3)\n",
    "b = torch.rand(2, 3)\n",
    "\n",
    "a + b"
   ]
  },
  {
   "cell_type": "code",
   "execution_count": 62,
   "metadata": {
    "execution": {
     "iopub.execute_input": "2023-10-02T12:26:13.581601Z",
     "iopub.status.busy": "2023-10-02T12:26:13.581414Z",
     "iopub.status.idle": "2023-10-02T12:26:13.607367Z",
     "shell.execute_reply": "2023-10-02T12:26:13.606950Z",
     "shell.execute_reply.started": "2023-10-02T12:26:13.581587Z"
    }
   },
   "outputs": [
    {
     "ename": "RuntimeError",
     "evalue": "Expected all tensors to be on the same device, but found at least two devices, cuda:0 and cpu!",
     "output_type": "error",
     "traceback": [
      "\u001b[0;31m---------------------------------------------------------------------------\u001b[0m",
      "\u001b[0;31mRuntimeError\u001b[0m                              Traceback (most recent call last)",
      "Cell \u001b[0;32mIn[62], line 3\u001b[0m\n\u001b[1;32m      1\u001b[0m a \u001b[38;5;241m=\u001b[39m a\u001b[38;5;241m.\u001b[39mto(device)\n\u001b[0;32m----> 3\u001b[0m \u001b[43ma\u001b[49m\u001b[43m \u001b[49m\u001b[38;5;241;43m+\u001b[39;49m\u001b[43m \u001b[49m\u001b[43mb\u001b[49m\n",
      "\u001b[0;31mRuntimeError\u001b[0m: Expected all tensors to be on the same device, but found at least two devices, cuda:0 and cpu!"
     ]
    }
   ],
   "source": [
    "a = a.to(device)\n",
    "\n",
    "a + b"
   ]
  },
  {
   "cell_type": "code",
   "execution_count": 63,
   "metadata": {
    "execution": {
     "iopub.execute_input": "2023-10-02T12:26:19.290951Z",
     "iopub.status.busy": "2023-10-02T12:26:19.290717Z",
     "iopub.status.idle": "2023-10-02T12:26:19.348326Z",
     "shell.execute_reply": "2023-10-02T12:26:19.347961Z",
     "shell.execute_reply.started": "2023-10-02T12:26:19.290933Z"
    }
   },
   "outputs": [
    {
     "data": {
      "text/plain": [
       "tensor([[1.4667, 0.9306, 1.3612],\n",
       "        [1.0351, 0.9423, 1.1146]], device='cuda:0')"
      ]
     },
     "execution_count": 63,
     "metadata": {},
     "output_type": "execute_result"
    }
   ],
   "source": [
    "b = b.to(device)\n",
    "\n",
    "a + b"
   ]
  },
  {
   "cell_type": "markdown",
   "metadata": {},
   "source": [
    "### Операции с тензорами\n",
    "\n",
    "Большая часть операций с тензорами хорошо описана в их [документации](https://pytorch.org/docs/stable/torch.html), разберем основные:"
   ]
  },
  {
   "cell_type": "code",
   "execution_count": 64,
   "metadata": {
    "execution": {
     "iopub.execute_input": "2023-10-02T12:26:30.498045Z",
     "iopub.status.busy": "2023-10-02T12:26:30.497855Z",
     "iopub.status.idle": "2023-10-02T12:26:30.501690Z",
     "shell.execute_reply": "2023-10-02T12:26:30.501405Z",
     "shell.execute_reply.started": "2023-10-02T12:26:30.498032Z"
    }
   },
   "outputs": [
    {
     "data": {
      "text/plain": [
       "(tensor([[0.8188, 0.6701, 0.4402],\n",
       "         [0.7288, 0.2568, 0.7191]]),\n",
       " tensor([[0.2241, 0.6612, 0.6350],\n",
       "         [0.8124, 0.5353, 0.0116]]))"
      ]
     },
     "execution_count": 64,
     "metadata": {},
     "output_type": "execute_result"
    }
   ],
   "source": [
    "a = torch.rand(2, 3)\n",
    "b = torch.rand(2, 3)\n",
    "\n",
    "a, b"
   ]
  },
  {
   "cell_type": "code",
   "execution_count": 65,
   "metadata": {
    "execution": {
     "iopub.execute_input": "2023-10-02T12:26:50.812404Z",
     "iopub.status.busy": "2023-10-02T12:26:50.812220Z",
     "iopub.status.idle": "2023-10-02T12:26:50.815891Z",
     "shell.execute_reply": "2023-10-02T12:26:50.815586Z",
     "shell.execute_reply.started": "2023-10-02T12:26:50.812390Z"
    }
   },
   "outputs": [
    {
     "name": "stdout",
     "output_type": "stream",
     "text": [
      "tensor([[1.0429, 1.3313, 1.0753],\n",
      "        [1.5412, 0.7921, 0.7307]])\n",
      "\n",
      "tensor([[1.0429, 1.3313, 1.0753],\n",
      "        [1.5412, 0.7921, 0.7307]])\n",
      "\n",
      "tensor([[1.0429, 1.3313, 1.0753],\n",
      "        [1.5412, 0.7921, 0.7307]])\n"
     ]
    }
   ],
   "source": [
    "# поэлементные\n",
    "\n",
    "print(a + b)\n",
    "\n",
    "print()\n",
    "\n",
    "print(torch.add(a, b))\n",
    "\n",
    "print()\n",
    "\n",
    "print(a.add(b))"
   ]
  },
  {
   "cell_type": "code",
   "execution_count": 66,
   "metadata": {
    "execution": {
     "iopub.execute_input": "2023-10-02T12:26:53.124522Z",
     "iopub.status.busy": "2023-10-02T12:26:53.124332Z",
     "iopub.status.idle": "2023-10-02T12:26:53.128386Z",
     "shell.execute_reply": "2023-10-02T12:26:53.127842Z",
     "shell.execute_reply.started": "2023-10-02T12:26:53.124508Z"
    }
   },
   "outputs": [
    {
     "name": "stdout",
     "output_type": "stream",
     "text": [
      "tensor([[ 0.5947,  0.0089, -0.1948],\n",
      "        [-0.0836, -0.2785,  0.7075]])\n",
      "\n",
      "tensor([[ 0.5947,  0.0089, -0.1948],\n",
      "        [-0.0836, -0.2785,  0.7075]])\n",
      "\n",
      "tensor([[ 0.5947,  0.0089, -0.1948],\n",
      "        [-0.0836, -0.2785,  0.7075]])\n"
     ]
    }
   ],
   "source": [
    "print(a - b)\n",
    "\n",
    "print()\n",
    "\n",
    "print(torch.sub(a, b))\n",
    "\n",
    "print()\n",
    "\n",
    "print(a.sub(b))"
   ]
  },
  {
   "cell_type": "code",
   "execution_count": 67,
   "metadata": {
    "execution": {
     "iopub.execute_input": "2023-10-02T12:26:53.767591Z",
     "iopub.status.busy": "2023-10-02T12:26:53.767404Z",
     "iopub.status.idle": "2023-10-02T12:26:53.778703Z",
     "shell.execute_reply": "2023-10-02T12:26:53.778240Z",
     "shell.execute_reply.started": "2023-10-02T12:26:53.767577Z"
    }
   },
   "outputs": [
    {
     "name": "stdout",
     "output_type": "stream",
     "text": [
      "tensor([[0.1835, 0.4430, 0.2796],\n",
      "        [0.5921, 0.1375, 0.0083]])\n",
      "\n",
      "tensor([[0.1835, 0.4430, 0.2796],\n",
      "        [0.5921, 0.1375, 0.0083]])\n",
      "\n",
      "tensor([[0.1835, 0.4430, 0.2796],\n",
      "        [0.5921, 0.1375, 0.0083]])\n"
     ]
    }
   ],
   "source": [
    "print(a * b)\n",
    "\n",
    "print()\n",
    "\n",
    "print(torch.mul(a, b))\n",
    "\n",
    "print()\n",
    "\n",
    "print(a.mul(b))"
   ]
  },
  {
   "cell_type": "code",
   "execution_count": 68,
   "metadata": {
    "execution": {
     "iopub.execute_input": "2023-10-02T12:26:55.686833Z",
     "iopub.status.busy": "2023-10-02T12:26:55.686605Z",
     "iopub.status.idle": "2023-10-02T12:26:55.690345Z",
     "shell.execute_reply": "2023-10-02T12:26:55.690039Z",
     "shell.execute_reply.started": "2023-10-02T12:26:55.686820Z"
    }
   },
   "outputs": [
    {
     "name": "stdout",
     "output_type": "stream",
     "text": [
      "tensor([[ 3.6534,  1.0134,  0.6932],\n",
      "        [ 0.8971,  0.4798, 61.9581]])\n",
      "\n",
      "tensor([[ 3.6534,  1.0134,  0.6932],\n",
      "        [ 0.8971,  0.4798, 61.9581]])\n",
      "\n",
      "tensor([[ 3.6534,  1.0134,  0.6932],\n",
      "        [ 0.8971,  0.4798, 61.9581]])\n"
     ]
    }
   ],
   "source": [
    "print(a / b)\n",
    "\n",
    "print()\n",
    "\n",
    "print(torch.div(a, b))\n",
    "\n",
    "print()\n",
    "\n",
    "print(a.div(b))"
   ]
  },
  {
   "cell_type": "code",
   "execution_count": 69,
   "metadata": {
    "execution": {
     "iopub.execute_input": "2023-10-02T12:26:57.734889Z",
     "iopub.status.busy": "2023-10-02T12:26:57.734663Z",
     "iopub.status.idle": "2023-10-02T12:26:57.739045Z",
     "shell.execute_reply": "2023-10-02T12:26:57.738756Z",
     "shell.execute_reply.started": "2023-10-02T12:26:57.734875Z"
    }
   },
   "outputs": [
    {
     "data": {
      "text/plain": [
       "(tensor([[0.5259, 0.9298, 0.9535],\n",
       "         [0.8992, 0.3379, 0.9277]]),\n",
       " tensor([[0.6497, 0.7538, 0.6800, 0.4877],\n",
       "         [0.3039, 0.3895, 0.0844, 0.0290],\n",
       "         [0.4299, 0.7565, 0.3106, 0.4319]]),\n",
       " tensor([[0.2364, 0.1823, 0.2378, 0.3356, 0.7894],\n",
       "         [0.1962, 0.3696, 0.2490, 0.3883, 0.8007],\n",
       "         [0.1639, 0.3019, 0.6598, 0.9254, 0.7836],\n",
       "         [0.2299, 0.7600, 0.6759, 0.2383, 0.0970],\n",
       "         [0.7522, 0.0800, 0.5078, 0.3682, 0.0312]]))"
      ]
     },
     "execution_count": 69,
     "metadata": {},
     "output_type": "execute_result"
    }
   ],
   "source": [
    "a = torch.rand(2, 3)\n",
    "b = torch.rand(3, 4)\n",
    "c = torch.rand(5, 5)\n",
    "\n",
    "a, b, c"
   ]
  },
  {
   "cell_type": "code",
   "execution_count": 70,
   "metadata": {
    "execution": {
     "iopub.execute_input": "2023-10-02T12:27:09.096880Z",
     "iopub.status.busy": "2023-10-02T12:27:09.096690Z",
     "iopub.status.idle": "2023-10-02T12:27:09.111085Z",
     "shell.execute_reply": "2023-10-02T12:27:09.110807Z",
     "shell.execute_reply.started": "2023-10-02T12:27:09.096866Z"
    },
    "scrolled": true
   },
   "outputs": [
    {
     "name": "stdout",
     "output_type": "stream",
     "text": [
      "tensor([[1.0342, 1.4800, 0.7322, 0.6953],\n",
      "        [1.0857, 1.5113, 0.9281, 0.8490]]) torch.Size([2, 4])\n",
      "\n",
      "tensor([[1.0342, 1.4800, 0.7322, 0.6953],\n",
      "        [1.0857, 1.5113, 0.9281, 0.8490]]) torch.Size([2, 4])\n",
      "\n",
      "tensor(1.5353)\n",
      "\n",
      "tensor([[1.2667, 1.2000, 1.2684, 1.3987, 2.2020],\n",
      "        [1.2168, 1.4472, 1.2827, 1.4745, 2.2270],\n",
      "        [1.1781, 1.3525, 1.9345, 2.5228, 2.1894],\n",
      "        [1.2585, 2.1384, 1.9658, 1.2690, 1.1019],\n",
      "        [2.1216, 1.0833, 1.6616, 1.4452, 1.0317]])\n"
     ]
    }
   ],
   "source": [
    "# матричные операции\n",
    "\n",
    "print(a @ b, (a @ b).shape)\n",
    "\n",
    "print()\n",
    "\n",
    "print(torch.matmul(a, b), torch.matmul(a, b).shape)\n",
    "\n",
    "print()\n",
    "\n",
    "print(c.trace())\n",
    "\n",
    "print()\n",
    "\n",
    "print(c.exp())"
   ]
  },
  {
   "cell_type": "markdown",
   "metadata": {
    "pycharm": {
     "name": "#%% md\n"
    }
   },
   "source": [
    "### [Автоматическое дифференцирование](https://pytorch.org/docs/stable/notes/autograd.html)"
   ]
  },
  {
   "cell_type": "code",
   "execution_count": 71,
   "metadata": {
    "execution": {
     "iopub.execute_input": "2023-10-02T12:30:39.657455Z",
     "iopub.status.busy": "2023-10-02T12:30:39.657268Z",
     "iopub.status.idle": "2023-10-02T12:30:39.660810Z",
     "shell.execute_reply": "2023-10-02T12:30:39.660522Z",
     "shell.execute_reply.started": "2023-10-02T12:30:39.657441Z"
    }
   },
   "outputs": [
    {
     "data": {
      "text/plain": [
       "tensor([0.2449, 0.8752, 0.7939, 0.2759, 0.9019])"
      ]
     },
     "execution_count": 71,
     "metadata": {},
     "output_type": "execute_result"
    }
   ],
   "source": [
    "x = torch.rand(5)\n",
    "\n",
    "x"
   ]
  },
  {
   "cell_type": "code",
   "execution_count": 72,
   "metadata": {
    "execution": {
     "iopub.execute_input": "2023-10-02T12:32:21.846028Z",
     "iopub.status.busy": "2023-10-02T12:32:21.845794Z",
     "iopub.status.idle": "2023-10-02T12:32:21.849960Z",
     "shell.execute_reply": "2023-10-02T12:32:21.849556Z",
     "shell.execute_reply.started": "2023-10-02T12:32:21.846011Z"
    }
   },
   "outputs": [
    {
     "data": {
      "text/plain": [
       "tensor([[0.1584, 0.7771, 0.9942, 0.3884, 0.1884],\n",
       "        [0.2157, 0.0236, 0.8297, 0.9158, 0.3040],\n",
       "        [0.7488, 0.3383, 0.6428, 0.6155, 0.0773]], requires_grad=True)"
      ]
     },
     "execution_count": 72,
     "metadata": {},
     "output_type": "execute_result"
    }
   ],
   "source": [
    "w = torch.rand(3, 5, requires_grad=True)\n",
    "\n",
    "w"
   ]
  },
  {
   "cell_type": "code",
   "execution_count": 73,
   "metadata": {
    "execution": {
     "iopub.execute_input": "2023-10-02T12:32:26.673992Z",
     "iopub.status.busy": "2023-10-02T12:32:26.673761Z",
     "iopub.status.idle": "2023-10-02T12:32:26.676740Z",
     "shell.execute_reply": "2023-10-02T12:32:26.676427Z",
     "shell.execute_reply.started": "2023-10-02T12:32:26.673975Z"
    }
   },
   "outputs": [
    {
     "name": "stdout",
     "output_type": "stream",
     "text": [
      "None\n"
     ]
    }
   ],
   "source": [
    "print(w.grad)"
   ]
  },
  {
   "cell_type": "code",
   "execution_count": null,
   "metadata": {},
   "outputs": [],
   "source": [
    "first_z = torch.empty(3)\n",
    "\n",
    "first_z"
   ]
  },
  {
   "cell_type": "code",
   "execution_count": null,
   "metadata": {},
   "outputs": [],
   "source": [
    "for i in range(3):\n",
    "    first_z[i] = torch.sum(w[i] * x)\n",
    "\n",
    "first_z"
   ]
  },
  {
   "cell_type": "code",
   "execution_count": 74,
   "metadata": {
    "execution": {
     "iopub.execute_input": "2023-10-02T12:32:59.724496Z",
     "iopub.status.busy": "2023-10-02T12:32:59.724261Z",
     "iopub.status.idle": "2023-10-02T12:32:59.736515Z",
     "shell.execute_reply": "2023-10-02T12:32:59.736123Z",
     "shell.execute_reply.started": "2023-10-02T12:32:59.724478Z"
    }
   },
   "outputs": [
    {
     "data": {
      "text/plain": [
       "tensor([1.7853, 1.2590, 1.2293], grad_fn=<SqueezeBackward4>)"
      ]
     },
     "execution_count": 74,
     "metadata": {},
     "output_type": "execute_result"
    }
   ],
   "source": [
    "z = torch.matmul(x, w.t())\n",
    "\n",
    "z"
   ]
  },
  {
   "cell_type": "code",
   "execution_count": 75,
   "metadata": {
    "execution": {
     "iopub.execute_input": "2023-10-02T12:33:27.094157Z",
     "iopub.status.busy": "2023-10-02T12:33:27.093970Z",
     "iopub.status.idle": "2023-10-02T12:33:27.097209Z",
     "shell.execute_reply": "2023-10-02T12:33:27.096920Z",
     "shell.execute_reply.started": "2023-10-02T12:33:27.094143Z"
    }
   },
   "outputs": [
    {
     "data": {
      "text/plain": [
       "tensor([0.8576, 0.9782, 0.5280], requires_grad=True)"
      ]
     },
     "execution_count": 75,
     "metadata": {},
     "output_type": "execute_result"
    }
   ],
   "source": [
    "v = torch.rand(3, requires_grad=True)\n",
    "\n",
    "v"
   ]
  },
  {
   "cell_type": "code",
   "execution_count": 76,
   "metadata": {
    "execution": {
     "iopub.execute_input": "2023-10-02T12:33:29.364967Z",
     "iopub.status.busy": "2023-10-02T12:33:29.364737Z",
     "iopub.status.idle": "2023-10-02T12:33:29.367548Z",
     "shell.execute_reply": "2023-10-02T12:33:29.367112Z",
     "shell.execute_reply.started": "2023-10-02T12:33:29.364949Z"
    }
   },
   "outputs": [
    {
     "name": "stdout",
     "output_type": "stream",
     "text": [
      "None\n"
     ]
    }
   ],
   "source": [
    "print(v.grad)"
   ]
  },
  {
   "cell_type": "code",
   "execution_count": 77,
   "metadata": {
    "execution": {
     "iopub.execute_input": "2023-10-02T12:33:31.559261Z",
     "iopub.status.busy": "2023-10-02T12:33:31.559072Z",
     "iopub.status.idle": "2023-10-02T12:33:31.570724Z",
     "shell.execute_reply": "2023-10-02T12:33:31.570413Z",
     "shell.execute_reply.started": "2023-10-02T12:33:31.559247Z"
    }
   },
   "outputs": [
    {
     "data": {
      "text/plain": [
       "tensor(3.4118, grad_fn=<SumBackward0>)"
      ]
     },
     "execution_count": 77,
     "metadata": {},
     "output_type": "execute_result"
    }
   ],
   "source": [
    "y = torch.sum(z * v)\n",
    "\n",
    "y"
   ]
  },
  {
   "cell_type": "code",
   "execution_count": 78,
   "metadata": {
    "execution": {
     "iopub.execute_input": "2023-10-02T12:33:51.546079Z",
     "iopub.status.busy": "2023-10-02T12:33:51.545890Z",
     "iopub.status.idle": "2023-10-02T12:33:51.548815Z",
     "shell.execute_reply": "2023-10-02T12:33:51.548523Z",
     "shell.execute_reply.started": "2023-10-02T12:33:51.546065Z"
    }
   },
   "outputs": [
    {
     "data": {
      "text/plain": [
       "3.411832332611084"
      ]
     },
     "execution_count": 78,
     "metadata": {},
     "output_type": "execute_result"
    }
   ],
   "source": [
    "y.item()"
   ]
  },
  {
   "cell_type": "code",
   "execution_count": 79,
   "metadata": {
    "execution": {
     "iopub.execute_input": "2023-10-02T12:34:10.780473Z",
     "iopub.status.busy": "2023-10-02T12:34:10.780276Z",
     "iopub.status.idle": "2023-10-02T12:34:10.790739Z",
     "shell.execute_reply": "2023-10-02T12:34:10.790339Z",
     "shell.execute_reply.started": "2023-10-02T12:34:10.780459Z"
    }
   },
   "outputs": [],
   "source": [
    "loss = torch.mean((y - 2) ** 2)"
   ]
  },
  {
   "cell_type": "code",
   "execution_count": 80,
   "metadata": {
    "execution": {
     "iopub.execute_input": "2023-10-02T12:34:11.767730Z",
     "iopub.status.busy": "2023-10-02T12:34:11.767501Z",
     "iopub.status.idle": "2023-10-02T12:34:11.771056Z",
     "shell.execute_reply": "2023-10-02T12:34:11.770764Z",
     "shell.execute_reply.started": "2023-10-02T12:34:11.767713Z"
    }
   },
   "outputs": [
    {
     "data": {
      "text/plain": [
       "tensor(1.9933, grad_fn=<MeanBackward0>)"
      ]
     },
     "execution_count": 80,
     "metadata": {},
     "output_type": "execute_result"
    }
   ],
   "source": [
    "loss"
   ]
  },
  {
   "cell_type": "code",
   "execution_count": 83,
   "metadata": {
    "execution": {
     "iopub.execute_input": "2023-10-02T12:34:49.999474Z",
     "iopub.status.busy": "2023-10-02T12:34:49.999045Z",
     "iopub.status.idle": "2023-10-02T12:34:50.002287Z",
     "shell.execute_reply": "2023-10-02T12:34:50.001898Z",
     "shell.execute_reply.started": "2023-10-02T12:34:49.999455Z"
    }
   },
   "outputs": [
    {
     "name": "stdout",
     "output_type": "stream",
     "text": [
      "x.grad=None\n",
      "\n",
      "w.grad=None\n",
      "\n",
      "z.grad=None\n",
      "\n",
      "v.grad=None\n",
      "\n"
     ]
    },
    {
     "name": "stderr",
     "output_type": "stream",
     "text": [
      "/tmp/ipykernel_44/162867685.py:3: UserWarning: The .grad attribute of a Tensor that is not a leaf Tensor is being accessed. Its .grad attribute won't be populated during autograd.backward(). If you indeed want the .grad field to be populated for a non-leaf Tensor, use .retain_grad() on the non-leaf Tensor. If you access the non-leaf Tensor by mistake, make sure you access the leaf Tensor instead. See github.com/pytorch/pytorch/pull/30531 for more informations. (Triggered internally at aten/src/ATen/core/TensorBody.h:486.)\n",
      "  print(f'{z.grad=}\\n')\n"
     ]
    }
   ],
   "source": [
    "print(f'{x.grad=}\\n')\n",
    "print(f'{w.grad=}\\n')\n",
    "print(f'{z.grad=}\\n')\n",
    "print(f'{v.grad=}\\n')"
   ]
  },
  {
   "cell_type": "code",
   "execution_count": 84,
   "metadata": {
    "execution": {
     "iopub.execute_input": "2023-10-02T12:36:06.002670Z",
     "iopub.status.busy": "2023-10-02T12:36:06.002473Z",
     "iopub.status.idle": "2023-10-02T12:36:06.015094Z",
     "shell.execute_reply": "2023-10-02T12:36:06.014772Z",
     "shell.execute_reply.started": "2023-10-02T12:36:06.002653Z"
    }
   },
   "outputs": [],
   "source": [
    "loss.backward()"
   ]
  },
  {
   "cell_type": "code",
   "execution_count": 85,
   "metadata": {
    "execution": {
     "iopub.execute_input": "2023-10-02T12:36:09.946797Z",
     "iopub.status.busy": "2023-10-02T12:36:09.946609Z",
     "iopub.status.idle": "2023-10-02T12:36:09.950160Z",
     "shell.execute_reply": "2023-10-02T12:36:09.949851Z",
     "shell.execute_reply.started": "2023-10-02T12:36:09.946783Z"
    }
   },
   "outputs": [
    {
     "name": "stdout",
     "output_type": "stream",
     "text": [
      "x.grad=None\n",
      "\n",
      "w.grad=tensor([[0.5932, 2.1195, 1.9226, 0.6681, 2.1841],\n",
      "        [0.6765, 2.4174, 2.1928, 0.7620, 2.4910],\n",
      "        [0.3652, 1.3050, 1.1837, 0.4114, 1.3447]])\n",
      "\n",
      "z.grad=None\n",
      "\n",
      "v.grad=tensor([5.0411, 3.5550, 3.4712])\n",
      "\n"
     ]
    },
    {
     "name": "stderr",
     "output_type": "stream",
     "text": [
      "/tmp/ipykernel_44/162867685.py:3: UserWarning: The .grad attribute of a Tensor that is not a leaf Tensor is being accessed. Its .grad attribute won't be populated during autograd.backward(). If you indeed want the .grad field to be populated for a non-leaf Tensor, use .retain_grad() on the non-leaf Tensor. If you access the non-leaf Tensor by mistake, make sure you access the leaf Tensor instead. See github.com/pytorch/pytorch/pull/30531 for more informations. (Triggered internally at aten/src/ATen/core/TensorBody.h:486.)\n",
      "  print(f'{z.grad=}\\n')\n"
     ]
    }
   ],
   "source": [
    "print(f'{x.grad=}\\n')\n",
    "print(f'{w.grad=}\\n')\n",
    "print(f'{z.grad=}\\n')\n",
    "print(f'{v.grad=}\\n')"
   ]
  },
  {
   "cell_type": "code",
   "execution_count": 86,
   "metadata": {
    "execution": {
     "iopub.execute_input": "2023-10-02T12:39:07.438166Z",
     "iopub.status.busy": "2023-10-02T12:39:07.437933Z",
     "iopub.status.idle": "2023-10-02T12:39:07.442079Z",
     "shell.execute_reply": "2023-10-02T12:39:07.441792Z",
     "shell.execute_reply.started": "2023-10-02T12:39:07.438148Z"
    }
   },
   "outputs": [
    {
     "data": {
      "text/plain": [
       "(tensor([0.8304], requires_grad=True), tensor([0.1626], requires_grad=True))"
      ]
     },
     "execution_count": 86,
     "metadata": {},
     "output_type": "execute_result"
    }
   ],
   "source": [
    "a = torch.rand(1, requires_grad=True)\n",
    "b = torch.rand(1, requires_grad=True)\n",
    "\n",
    "a, b"
   ]
  },
  {
   "cell_type": "code",
   "execution_count": 87,
   "metadata": {
    "execution": {
     "iopub.execute_input": "2023-10-02T12:39:09.568202Z",
     "iopub.status.busy": "2023-10-02T12:39:09.568012Z",
     "iopub.status.idle": "2023-10-02T12:39:09.571657Z",
     "shell.execute_reply": "2023-10-02T12:39:09.571360Z",
     "shell.execute_reply.started": "2023-10-02T12:39:09.568188Z"
    }
   },
   "outputs": [
    {
     "data": {
      "text/plain": [
       "tensor([0.6679], grad_fn=<SubBackward0>)"
      ]
     },
     "execution_count": 87,
     "metadata": {},
     "output_type": "execute_result"
    }
   ],
   "source": [
    "loss = (a - b)\n",
    "\n",
    "loss"
   ]
  },
  {
   "cell_type": "code",
   "execution_count": 88,
   "metadata": {
    "execution": {
     "iopub.execute_input": "2023-10-02T12:40:06.195880Z",
     "iopub.status.busy": "2023-10-02T12:40:06.195691Z",
     "iopub.status.idle": "2023-10-02T12:40:06.198303Z",
     "shell.execute_reply": "2023-10-02T12:40:06.197989Z",
     "shell.execute_reply.started": "2023-10-02T12:40:06.195866Z"
    }
   },
   "outputs": [
    {
     "name": "stdout",
     "output_type": "stream",
     "text": [
      "a.grad=None\n",
      "\n",
      "b.grad=None\n",
      "\n"
     ]
    }
   ],
   "source": [
    "print(f'{a.grad=}\\n')\n",
    "print(f'{b.grad=}\\n')"
   ]
  },
  {
   "cell_type": "code",
   "execution_count": 89,
   "metadata": {
    "execution": {
     "iopub.execute_input": "2023-10-02T12:40:08.581479Z",
     "iopub.status.busy": "2023-10-02T12:40:08.581292Z",
     "iopub.status.idle": "2023-10-02T12:40:08.584069Z",
     "shell.execute_reply": "2023-10-02T12:40:08.583678Z",
     "shell.execute_reply.started": "2023-10-02T12:40:08.581465Z"
    }
   },
   "outputs": [],
   "source": [
    "loss.backward()"
   ]
  },
  {
   "cell_type": "code",
   "execution_count": 92,
   "metadata": {
    "execution": {
     "iopub.execute_input": "2023-10-02T12:47:59.232093Z",
     "iopub.status.busy": "2023-10-02T12:47:59.231864Z",
     "iopub.status.idle": "2023-10-02T12:47:59.235222Z",
     "shell.execute_reply": "2023-10-02T12:47:59.234909Z",
     "shell.execute_reply.started": "2023-10-02T12:47:59.232076Z"
    }
   },
   "outputs": [
    {
     "name": "stdout",
     "output_type": "stream",
     "text": [
      "a.grad=tensor([0.])\n",
      "\n",
      "b.grad=tensor([0.])\n",
      "\n"
     ]
    }
   ],
   "source": [
    "print(f'{a.grad=}\\n')  # 1\n",
    "print(f'{b.grad=}\\n')  # -1"
   ]
  },
  {
   "cell_type": "code",
   "execution_count": 91,
   "metadata": {
    "execution": {
     "iopub.execute_input": "2023-10-02T12:40:44.227202Z",
     "iopub.status.busy": "2023-10-02T12:40:44.226968Z",
     "iopub.status.idle": "2023-10-02T12:40:44.230461Z",
     "shell.execute_reply": "2023-10-02T12:40:44.230170Z",
     "shell.execute_reply.started": "2023-10-02T12:40:44.227184Z"
    }
   },
   "outputs": [
    {
     "data": {
      "text/plain": [
       "tensor([0.])"
      ]
     },
     "execution_count": 91,
     "metadata": {},
     "output_type": "execute_result"
    }
   ],
   "source": [
    "a.grad.zero_()\n",
    "b.grad.zero_()"
   ]
  },
  {
   "cell_type": "code",
   "execution_count": 93,
   "metadata": {
    "execution": {
     "iopub.execute_input": "2023-10-02T12:48:03.491311Z",
     "iopub.status.busy": "2023-10-02T12:48:03.491082Z",
     "iopub.status.idle": "2023-10-02T12:48:03.494513Z",
     "shell.execute_reply": "2023-10-02T12:48:03.494226Z",
     "shell.execute_reply.started": "2023-10-02T12:48:03.491292Z"
    },
    "pycharm": {
     "name": "#%%\n"
    }
   },
   "outputs": [
    {
     "data": {
      "text/plain": [
       "tensor([0.4460], grad_fn=<PowBackward0>)"
      ]
     },
     "execution_count": 93,
     "metadata": {},
     "output_type": "execute_result"
    }
   ],
   "source": [
    "loss = (a - b) ** 2\n",
    "\n",
    "loss"
   ]
  },
  {
   "cell_type": "code",
   "execution_count": 94,
   "metadata": {
    "execution": {
     "iopub.execute_input": "2023-10-02T12:48:06.199582Z",
     "iopub.status.busy": "2023-10-02T12:48:06.199393Z",
     "iopub.status.idle": "2023-10-02T12:48:06.202325Z",
     "shell.execute_reply": "2023-10-02T12:48:06.202011Z",
     "shell.execute_reply.started": "2023-10-02T12:48:06.199568Z"
    },
    "pycharm": {
     "name": "#%%\n"
    }
   },
   "outputs": [
    {
     "name": "stdout",
     "output_type": "stream",
     "text": [
      "a.grad=tensor([0.])\n",
      "\n",
      "b.grad=tensor([0.])\n",
      "\n"
     ]
    }
   ],
   "source": [
    "print(f'{a.grad=}\\n')\n",
    "print(f'{b.grad=}\\n')"
   ]
  },
  {
   "cell_type": "code",
   "execution_count": 95,
   "metadata": {
    "execution": {
     "iopub.execute_input": "2023-10-02T12:48:07.359688Z",
     "iopub.status.busy": "2023-10-02T12:48:07.359507Z",
     "iopub.status.idle": "2023-10-02T12:48:07.361899Z",
     "shell.execute_reply": "2023-10-02T12:48:07.361539Z",
     "shell.execute_reply.started": "2023-10-02T12:48:07.359675Z"
    },
    "pycharm": {
     "name": "#%%\n"
    }
   },
   "outputs": [],
   "source": [
    "loss.backward()"
   ]
  },
  {
   "cell_type": "code",
   "execution_count": 96,
   "metadata": {
    "execution": {
     "iopub.execute_input": "2023-10-02T12:48:09.808168Z",
     "iopub.status.busy": "2023-10-02T12:48:09.807965Z",
     "iopub.status.idle": "2023-10-02T12:48:09.811390Z",
     "shell.execute_reply": "2023-10-02T12:48:09.811026Z",
     "shell.execute_reply.started": "2023-10-02T12:48:09.808154Z"
    }
   },
   "outputs": [
    {
     "name": "stdout",
     "output_type": "stream",
     "text": [
      "a.grad=tensor([1.3357])\n",
      "\n",
      "b.grad=tensor([-1.3357])\n",
      "\n"
     ]
    }
   ],
   "source": [
    "print(f'{a.grad=}\\n')  # 2 * (a - b)\n",
    "print(f'{b.grad=}\\n')  # -2 * (a - b)"
   ]
  },
  {
   "cell_type": "code",
   "execution_count": 97,
   "metadata": {
    "execution": {
     "iopub.execute_input": "2023-10-02T12:48:14.795284Z",
     "iopub.status.busy": "2023-10-02T12:48:14.795098Z",
     "iopub.status.idle": "2023-10-02T12:48:14.798986Z",
     "shell.execute_reply": "2023-10-02T12:48:14.798362Z",
     "shell.execute_reply.started": "2023-10-02T12:48:14.795270Z"
    }
   },
   "outputs": [
    {
     "data": {
      "text/plain": [
       "tensor([1.3357], grad_fn=<MulBackward0>)"
      ]
     },
     "execution_count": 97,
     "metadata": {},
     "output_type": "execute_result"
    }
   ],
   "source": [
    "2 * (a - b)"
   ]
  },
  {
   "cell_type": "code",
   "execution_count": null,
   "metadata": {},
   "outputs": [],
   "source": [
    "a = torch.rand(3, 5, requires_grad=True)\n",
    "b = torch.rand(3, 5, requires_grad=True)\n",
    "\n",
    "a, b"
   ]
  },
  {
   "cell_type": "code",
   "execution_count": null,
   "metadata": {},
   "outputs": [],
   "source": [
    "loss = torch.mean(a * b)\n",
    "\n",
    "loss"
   ]
  },
  {
   "cell_type": "code",
   "execution_count": null,
   "metadata": {},
   "outputs": [],
   "source": [
    "print(f'{a.grad=}\\n')\n",
    "print(f'{b.grad=}\\n')"
   ]
  },
  {
   "cell_type": "code",
   "execution_count": null,
   "metadata": {},
   "outputs": [],
   "source": [
    "loss.backward()"
   ]
  },
  {
   "cell_type": "code",
   "execution_count": null,
   "metadata": {},
   "outputs": [],
   "source": [
    "print(f'{a.grad=}\\n')  # b / (3 * 5)\n",
    "print(f'{b.grad=}\\n')  # a / (3 * 5)"
   ]
  },
  {
   "cell_type": "code",
   "execution_count": null,
   "metadata": {},
   "outputs": [],
   "source": [
    "a / 15"
   ]
  },
  {
   "cell_type": "code",
   "execution_count": null,
   "metadata": {},
   "outputs": [],
   "source": [
    "b / 15"
   ]
  },
  {
   "cell_type": "code",
   "execution_count": 98,
   "metadata": {
    "execution": {
     "iopub.execute_input": "2023-10-02T12:48:28.313197Z",
     "iopub.status.busy": "2023-10-02T12:48:28.312966Z",
     "iopub.status.idle": "2023-10-02T12:48:28.318571Z",
     "shell.execute_reply": "2023-10-02T12:48:28.318104Z",
     "shell.execute_reply.started": "2023-10-02T12:48:28.313179Z"
    },
    "pycharm": {
     "name": "#%%\n"
    }
   },
   "outputs": [
    {
     "name": "stdout",
     "output_type": "stream",
     "text": [
      "a=tensor([[0.0913, 0.9977, 0.1392, 0.3450, 0.1168],\n",
      "        [0.7531, 0.6068, 0.3647, 0.8633, 0.3479],\n",
      "        [0.0462, 0.6566, 0.2915, 0.5604, 0.9624]], requires_grad=True)\n",
      "\n",
      "a.grad=None\n",
      "\n",
      "a.grad=tensor([[0.1826, 1.9954, 0.2783, 0.6899, 0.2336],\n",
      "        [1.5063, 1.2137, 0.7294, 1.7265, 0.6959],\n",
      "        [0.0925, 1.3132, 0.5829, 1.1207, 1.9247]])\n",
      "\n",
      "a.grad=tensor([[1.1826, 2.9954, 1.2783, 1.6899, 1.2336],\n",
      "        [2.5063, 2.2137, 1.7294, 2.7265, 1.6959],\n",
      "        [1.0925, 2.3132, 1.5829, 2.1207, 2.9247]])\n",
      "\n"
     ]
    }
   ],
   "source": [
    "a = torch.rand(3, 5, requires_grad=True)\n",
    "\n",
    "print(f'{a=}\\n')\n",
    "\n",
    "loss1 = torch.sum(a ** 2) # 2a\n",
    "loss2 = torch.sum(a) # 1\n",
    "\n",
    "print(f'{a.grad=}\\n')\n",
    "\n",
    "loss1.backward()\n",
    "\n",
    "print(f'{a.grad=}\\n')\n",
    "\n",
    "loss2.backward()\n",
    "\n",
    "print(f'{a.grad=}\\n')"
   ]
  },
  {
   "cell_type": "code",
   "execution_count": null,
   "metadata": {},
   "outputs": [],
   "source": [
    "print(f'{2*a=}\\n')\n",
    "print(f'{2*a+1=}')"
   ]
  },
  {
   "cell_type": "code",
   "execution_count": null,
   "metadata": {},
   "outputs": [],
   "source": [
    "a = torch.rand(3, 5, requires_grad=True)\n",
    "b = torch.rand(3, 5, requires_grad=False)\n",
    "\n",
    "a, b"
   ]
  },
  {
   "cell_type": "code",
   "execution_count": null,
   "metadata": {},
   "outputs": [],
   "source": [
    "loss = torch.sum(a - b)\n",
    "\n",
    "loss"
   ]
  },
  {
   "cell_type": "code",
   "execution_count": null,
   "metadata": {},
   "outputs": [],
   "source": [
    "print(f'{a.grad=}\\n')\n",
    "print(f'{b.grad=}\\n')"
   ]
  },
  {
   "cell_type": "code",
   "execution_count": null,
   "metadata": {},
   "outputs": [],
   "source": [
    "loss.backward()"
   ]
  },
  {
   "cell_type": "code",
   "execution_count": null,
   "metadata": {},
   "outputs": [],
   "source": [
    "print(f'{a.grad=}\\n')  # all ones\n",
    "print(f'{b.grad=}\\n')  # None"
   ]
  },
  {
   "cell_type": "code",
   "execution_count": 99,
   "metadata": {
    "execution": {
     "iopub.execute_input": "2023-10-02T12:51:05.533580Z",
     "iopub.status.busy": "2023-10-02T12:51:05.533374Z",
     "iopub.status.idle": "2023-10-02T12:51:05.537624Z",
     "shell.execute_reply": "2023-10-02T12:51:05.537271Z",
     "shell.execute_reply.started": "2023-10-02T12:51:05.533565Z"
    }
   },
   "outputs": [
    {
     "data": {
      "text/plain": [
       "(tensor([[0.1631, 0.7200, 0.7540, 0.9201, 0.1146],\n",
       "         [0.3966, 0.8201, 0.2972, 0.3315, 0.2346],\n",
       "         [0.8444, 0.2682, 0.8428, 0.7369, 0.8682]], requires_grad=True),\n",
       " tensor([[0.5493, 0.4100, 0.6125, 0.1204, 0.3800],\n",
       "         [0.6869, 0.0135, 0.8407, 0.2881, 0.9219],\n",
       "         [0.5137, 0.4388, 0.1657, 0.4579, 0.7925]], requires_grad=True))"
      ]
     },
     "execution_count": 99,
     "metadata": {},
     "output_type": "execute_result"
    }
   ],
   "source": [
    "a = torch.rand(3, 5, requires_grad=True)\n",
    "b = torch.rand(3, 5, requires_grad=True)\n",
    "\n",
    "a, b"
   ]
  },
  {
   "cell_type": "code",
   "execution_count": 100,
   "metadata": {
    "execution": {
     "iopub.execute_input": "2023-10-02T12:51:22.677353Z",
     "iopub.status.busy": "2023-10-02T12:51:22.677166Z",
     "iopub.status.idle": "2023-10-02T12:51:22.680667Z",
     "shell.execute_reply": "2023-10-02T12:51:22.680312Z",
     "shell.execute_reply.started": "2023-10-02T12:51:22.677338Z"
    }
   },
   "outputs": [
    {
     "data": {
      "text/plain": [
       "tensor(1.1200)"
      ]
     },
     "execution_count": 100,
     "metadata": {},
     "output_type": "execute_result"
    }
   ],
   "source": [
    "with torch.no_grad():\n",
    "    loss = torch.sum(a - b)\n",
    "\n",
    "loss"
   ]
  },
  {
   "cell_type": "code",
   "execution_count": 101,
   "metadata": {
    "execution": {
     "iopub.execute_input": "2023-10-02T12:52:29.613365Z",
     "iopub.status.busy": "2023-10-02T12:52:29.613177Z",
     "iopub.status.idle": "2023-10-02T12:52:29.681986Z",
     "shell.execute_reply": "2023-10-02T12:52:29.681526Z",
     "shell.execute_reply.started": "2023-10-02T12:52:29.613350Z"
    }
   },
   "outputs": [
    {
     "ename": "RuntimeError",
     "evalue": "element 0 of tensors does not require grad and does not have a grad_fn",
     "output_type": "error",
     "traceback": [
      "\u001b[0;31m---------------------------------------------------------------------------\u001b[0m",
      "\u001b[0;31mRuntimeError\u001b[0m                              Traceback (most recent call last)",
      "Cell \u001b[0;32mIn[101], line 1\u001b[0m\n\u001b[0;32m----> 1\u001b[0m \u001b[43mloss\u001b[49m\u001b[38;5;241;43m.\u001b[39;49m\u001b[43mbackward\u001b[49m\u001b[43m(\u001b[49m\u001b[43m)\u001b[49m\n",
      "File \u001b[0;32m/usr/local/lib/python3.10/dist-packages/torch/_tensor.py:487\u001b[0m, in \u001b[0;36mTensor.backward\u001b[0;34m(self, gradient, retain_graph, create_graph, inputs)\u001b[0m\n\u001b[1;32m    477\u001b[0m \u001b[38;5;28;01mif\u001b[39;00m has_torch_function_unary(\u001b[38;5;28mself\u001b[39m):\n\u001b[1;32m    478\u001b[0m     \u001b[38;5;28;01mreturn\u001b[39;00m handle_torch_function(\n\u001b[1;32m    479\u001b[0m         Tensor\u001b[38;5;241m.\u001b[39mbackward,\n\u001b[1;32m    480\u001b[0m         (\u001b[38;5;28mself\u001b[39m,),\n\u001b[0;32m   (...)\u001b[0m\n\u001b[1;32m    485\u001b[0m         inputs\u001b[38;5;241m=\u001b[39minputs,\n\u001b[1;32m    486\u001b[0m     )\n\u001b[0;32m--> 487\u001b[0m \u001b[43mtorch\u001b[49m\u001b[38;5;241;43m.\u001b[39;49m\u001b[43mautograd\u001b[49m\u001b[38;5;241;43m.\u001b[39;49m\u001b[43mbackward\u001b[49m\u001b[43m(\u001b[49m\n\u001b[1;32m    488\u001b[0m \u001b[43m    \u001b[49m\u001b[38;5;28;43mself\u001b[39;49m\u001b[43m,\u001b[49m\u001b[43m \u001b[49m\u001b[43mgradient\u001b[49m\u001b[43m,\u001b[49m\u001b[43m \u001b[49m\u001b[43mretain_graph\u001b[49m\u001b[43m,\u001b[49m\u001b[43m \u001b[49m\u001b[43mcreate_graph\u001b[49m\u001b[43m,\u001b[49m\u001b[43m \u001b[49m\u001b[43minputs\u001b[49m\u001b[38;5;241;43m=\u001b[39;49m\u001b[43minputs\u001b[49m\n\u001b[1;32m    489\u001b[0m \u001b[43m\u001b[49m\u001b[43m)\u001b[49m\n",
      "File \u001b[0;32m/usr/local/lib/python3.10/dist-packages/torch/autograd/__init__.py:200\u001b[0m, in \u001b[0;36mbackward\u001b[0;34m(tensors, grad_tensors, retain_graph, create_graph, grad_variables, inputs)\u001b[0m\n\u001b[1;32m    195\u001b[0m     retain_graph \u001b[38;5;241m=\u001b[39m create_graph\n\u001b[1;32m    197\u001b[0m \u001b[38;5;66;03m# The reason we repeat same the comment below is that\u001b[39;00m\n\u001b[1;32m    198\u001b[0m \u001b[38;5;66;03m# some Python versions print out the first line of a multi-line function\u001b[39;00m\n\u001b[1;32m    199\u001b[0m \u001b[38;5;66;03m# calls in the traceback and some print out the last line\u001b[39;00m\n\u001b[0;32m--> 200\u001b[0m \u001b[43mVariable\u001b[49m\u001b[38;5;241;43m.\u001b[39;49m\u001b[43m_execution_engine\u001b[49m\u001b[38;5;241;43m.\u001b[39;49m\u001b[43mrun_backward\u001b[49m\u001b[43m(\u001b[49m\u001b[43m  \u001b[49m\u001b[38;5;66;43;03m# Calls into the C++ engine to run the backward pass\u001b[39;49;00m\n\u001b[1;32m    201\u001b[0m \u001b[43m    \u001b[49m\u001b[43mtensors\u001b[49m\u001b[43m,\u001b[49m\u001b[43m \u001b[49m\u001b[43mgrad_tensors_\u001b[49m\u001b[43m,\u001b[49m\u001b[43m \u001b[49m\u001b[43mretain_graph\u001b[49m\u001b[43m,\u001b[49m\u001b[43m \u001b[49m\u001b[43mcreate_graph\u001b[49m\u001b[43m,\u001b[49m\u001b[43m \u001b[49m\u001b[43minputs\u001b[49m\u001b[43m,\u001b[49m\n\u001b[1;32m    202\u001b[0m \u001b[43m    \u001b[49m\u001b[43mallow_unreachable\u001b[49m\u001b[38;5;241;43m=\u001b[39;49m\u001b[38;5;28;43;01mTrue\u001b[39;49;00m\u001b[43m,\u001b[49m\u001b[43m \u001b[49m\u001b[43maccumulate_grad\u001b[49m\u001b[38;5;241;43m=\u001b[39;49m\u001b[38;5;28;43;01mTrue\u001b[39;49;00m\u001b[43m)\u001b[49m\n",
      "\u001b[0;31mRuntimeError\u001b[0m: element 0 of tensors does not require grad and does not have a grad_fn"
     ]
    }
   ],
   "source": [
    "loss.backward()"
   ]
  },
  {
   "cell_type": "code",
   "execution_count": 102,
   "metadata": {
    "execution": {
     "iopub.execute_input": "2023-10-02T12:52:55.719310Z",
     "iopub.status.busy": "2023-10-02T12:52:55.719151Z",
     "iopub.status.idle": "2023-10-02T12:52:55.723717Z",
     "shell.execute_reply": "2023-10-02T12:52:55.723219Z",
     "shell.execute_reply.started": "2023-10-02T12:52:55.719299Z"
    }
   },
   "outputs": [
    {
     "data": {
      "text/plain": [
       "(tensor([[0.4820, 0.0068, 0.5513, 0.5632, 0.5633],\n",
       "         [0.8886, 0.9419, 0.0881, 0.0107, 0.3856],\n",
       "         [0.4950, 0.7354, 0.0205, 0.1851, 0.9359]], requires_grad=True),\n",
       " tensor([[0.7496, 0.0309, 0.1084, 0.8919, 0.1318],\n",
       "         [0.6762, 0.1406, 0.4177, 0.5294, 0.3781],\n",
       "         [0.7381, 0.2424, 0.3491, 0.8402, 0.0801]], requires_grad=True))"
      ]
     },
     "execution_count": 102,
     "metadata": {},
     "output_type": "execute_result"
    }
   ],
   "source": [
    "a = torch.rand(3, 5, requires_grad=True)\n",
    "b = torch.rand(3, 5, requires_grad=True)\n",
    "\n",
    "a, b"
   ]
  },
  {
   "cell_type": "code",
   "execution_count": 103,
   "metadata": {
    "execution": {
     "iopub.execute_input": "2023-10-02T12:53:00.759670Z",
     "iopub.status.busy": "2023-10-02T12:53:00.759228Z",
     "iopub.status.idle": "2023-10-02T12:53:00.764834Z",
     "shell.execute_reply": "2023-10-02T12:53:00.764365Z",
     "shell.execute_reply.started": "2023-10-02T12:53:00.759646Z"
    }
   },
   "outputs": [
    {
     "data": {
      "text/plain": [
       "tensor(0.5486)"
      ]
     },
     "execution_count": 103,
     "metadata": {},
     "output_type": "execute_result"
    }
   ],
   "source": [
    "with torch.inference_mode():\n",
    "    loss = torch.sum(a - b)\n",
    "\n",
    "loss"
   ]
  },
  {
   "cell_type": "code",
   "execution_count": 104,
   "metadata": {
    "execution": {
     "iopub.execute_input": "2023-10-02T12:53:02.005951Z",
     "iopub.status.busy": "2023-10-02T12:53:02.005728Z",
     "iopub.status.idle": "2023-10-02T12:53:02.030506Z",
     "shell.execute_reply": "2023-10-02T12:53:02.029949Z",
     "shell.execute_reply.started": "2023-10-02T12:53:02.005934Z"
    }
   },
   "outputs": [
    {
     "ename": "RuntimeError",
     "evalue": "element 0 of tensors does not require grad and does not have a grad_fn",
     "output_type": "error",
     "traceback": [
      "\u001b[0;31m---------------------------------------------------------------------------\u001b[0m",
      "\u001b[0;31mRuntimeError\u001b[0m                              Traceback (most recent call last)",
      "Cell \u001b[0;32mIn[104], line 1\u001b[0m\n\u001b[0;32m----> 1\u001b[0m \u001b[43mloss\u001b[49m\u001b[38;5;241;43m.\u001b[39;49m\u001b[43mbackward\u001b[49m\u001b[43m(\u001b[49m\u001b[43m)\u001b[49m\n",
      "File \u001b[0;32m/usr/local/lib/python3.10/dist-packages/torch/_tensor.py:487\u001b[0m, in \u001b[0;36mTensor.backward\u001b[0;34m(self, gradient, retain_graph, create_graph, inputs)\u001b[0m\n\u001b[1;32m    477\u001b[0m \u001b[38;5;28;01mif\u001b[39;00m has_torch_function_unary(\u001b[38;5;28mself\u001b[39m):\n\u001b[1;32m    478\u001b[0m     \u001b[38;5;28;01mreturn\u001b[39;00m handle_torch_function(\n\u001b[1;32m    479\u001b[0m         Tensor\u001b[38;5;241m.\u001b[39mbackward,\n\u001b[1;32m    480\u001b[0m         (\u001b[38;5;28mself\u001b[39m,),\n\u001b[0;32m   (...)\u001b[0m\n\u001b[1;32m    485\u001b[0m         inputs\u001b[38;5;241m=\u001b[39minputs,\n\u001b[1;32m    486\u001b[0m     )\n\u001b[0;32m--> 487\u001b[0m \u001b[43mtorch\u001b[49m\u001b[38;5;241;43m.\u001b[39;49m\u001b[43mautograd\u001b[49m\u001b[38;5;241;43m.\u001b[39;49m\u001b[43mbackward\u001b[49m\u001b[43m(\u001b[49m\n\u001b[1;32m    488\u001b[0m \u001b[43m    \u001b[49m\u001b[38;5;28;43mself\u001b[39;49m\u001b[43m,\u001b[49m\u001b[43m \u001b[49m\u001b[43mgradient\u001b[49m\u001b[43m,\u001b[49m\u001b[43m \u001b[49m\u001b[43mretain_graph\u001b[49m\u001b[43m,\u001b[49m\u001b[43m \u001b[49m\u001b[43mcreate_graph\u001b[49m\u001b[43m,\u001b[49m\u001b[43m \u001b[49m\u001b[43minputs\u001b[49m\u001b[38;5;241;43m=\u001b[39;49m\u001b[43minputs\u001b[49m\n\u001b[1;32m    489\u001b[0m \u001b[43m\u001b[49m\u001b[43m)\u001b[49m\n",
      "File \u001b[0;32m/usr/local/lib/python3.10/dist-packages/torch/autograd/__init__.py:200\u001b[0m, in \u001b[0;36mbackward\u001b[0;34m(tensors, grad_tensors, retain_graph, create_graph, grad_variables, inputs)\u001b[0m\n\u001b[1;32m    195\u001b[0m     retain_graph \u001b[38;5;241m=\u001b[39m create_graph\n\u001b[1;32m    197\u001b[0m \u001b[38;5;66;03m# The reason we repeat same the comment below is that\u001b[39;00m\n\u001b[1;32m    198\u001b[0m \u001b[38;5;66;03m# some Python versions print out the first line of a multi-line function\u001b[39;00m\n\u001b[1;32m    199\u001b[0m \u001b[38;5;66;03m# calls in the traceback and some print out the last line\u001b[39;00m\n\u001b[0;32m--> 200\u001b[0m \u001b[43mVariable\u001b[49m\u001b[38;5;241;43m.\u001b[39;49m\u001b[43m_execution_engine\u001b[49m\u001b[38;5;241;43m.\u001b[39;49m\u001b[43mrun_backward\u001b[49m\u001b[43m(\u001b[49m\u001b[43m  \u001b[49m\u001b[38;5;66;43;03m# Calls into the C++ engine to run the backward pass\u001b[39;49;00m\n\u001b[1;32m    201\u001b[0m \u001b[43m    \u001b[49m\u001b[43mtensors\u001b[49m\u001b[43m,\u001b[49m\u001b[43m \u001b[49m\u001b[43mgrad_tensors_\u001b[49m\u001b[43m,\u001b[49m\u001b[43m \u001b[49m\u001b[43mretain_graph\u001b[49m\u001b[43m,\u001b[49m\u001b[43m \u001b[49m\u001b[43mcreate_graph\u001b[49m\u001b[43m,\u001b[49m\u001b[43m \u001b[49m\u001b[43minputs\u001b[49m\u001b[43m,\u001b[49m\n\u001b[1;32m    202\u001b[0m \u001b[43m    \u001b[49m\u001b[43mallow_unreachable\u001b[49m\u001b[38;5;241;43m=\u001b[39;49m\u001b[38;5;28;43;01mTrue\u001b[39;49;00m\u001b[43m,\u001b[49m\u001b[43m \u001b[49m\u001b[43maccumulate_grad\u001b[49m\u001b[38;5;241;43m=\u001b[39;49m\u001b[38;5;28;43;01mTrue\u001b[39;49;00m\u001b[43m)\u001b[49m\n",
      "\u001b[0;31mRuntimeError\u001b[0m: element 0 of tensors does not require grad and does not have a grad_fn"
     ]
    }
   ],
   "source": [
    "loss.backward()"
   ]
  },
  {
   "cell_type": "code",
   "execution_count": 105,
   "metadata": {
    "execution": {
     "iopub.execute_input": "2023-10-02T12:53:16.270988Z",
     "iopub.status.busy": "2023-10-02T12:53:16.270764Z",
     "iopub.status.idle": "2023-10-02T12:53:16.307360Z",
     "shell.execute_reply": "2023-10-02T12:53:16.306674Z",
     "shell.execute_reply.started": "2023-10-02T12:53:16.270970Z"
    }
   },
   "outputs": [
    {
     "name": "stdout",
     "output_type": "stream",
     "text": [
      "loss=tensor(16.6919)\n"
     ]
    },
    {
     "ename": "RuntimeError",
     "evalue": "element 0 of tensors does not require grad and does not have a grad_fn",
     "output_type": "error",
     "traceback": [
      "\u001b[0;31m---------------------------------------------------------------------------\u001b[0m",
      "\u001b[0;31mRuntimeError\u001b[0m                              Traceback (most recent call last)",
      "Cell \u001b[0;32mIn[105], line 9\u001b[0m\n\u001b[1;32m      5\u001b[0m loss \u001b[38;5;241m=\u001b[39m torch\u001b[38;5;241m.\u001b[39msum(a \u001b[38;5;241m+\u001b[39m b)\n\u001b[1;32m      7\u001b[0m \u001b[38;5;28mprint\u001b[39m(\u001b[38;5;124mf\u001b[39m\u001b[38;5;124m'\u001b[39m\u001b[38;5;132;01m{\u001b[39;00mloss\u001b[38;5;132;01m=}\u001b[39;00m\u001b[38;5;124m'\u001b[39m)\n\u001b[0;32m----> 9\u001b[0m \u001b[43mloss\u001b[49m\u001b[38;5;241;43m.\u001b[39;49m\u001b[43mbackward\u001b[49m\u001b[43m(\u001b[49m\u001b[43m)\u001b[49m\n",
      "File \u001b[0;32m/usr/local/lib/python3.10/dist-packages/torch/_tensor.py:487\u001b[0m, in \u001b[0;36mTensor.backward\u001b[0;34m(self, gradient, retain_graph, create_graph, inputs)\u001b[0m\n\u001b[1;32m    477\u001b[0m \u001b[38;5;28;01mif\u001b[39;00m has_torch_function_unary(\u001b[38;5;28mself\u001b[39m):\n\u001b[1;32m    478\u001b[0m     \u001b[38;5;28;01mreturn\u001b[39;00m handle_torch_function(\n\u001b[1;32m    479\u001b[0m         Tensor\u001b[38;5;241m.\u001b[39mbackward,\n\u001b[1;32m    480\u001b[0m         (\u001b[38;5;28mself\u001b[39m,),\n\u001b[0;32m   (...)\u001b[0m\n\u001b[1;32m    485\u001b[0m         inputs\u001b[38;5;241m=\u001b[39minputs,\n\u001b[1;32m    486\u001b[0m     )\n\u001b[0;32m--> 487\u001b[0m \u001b[43mtorch\u001b[49m\u001b[38;5;241;43m.\u001b[39;49m\u001b[43mautograd\u001b[49m\u001b[38;5;241;43m.\u001b[39;49m\u001b[43mbackward\u001b[49m\u001b[43m(\u001b[49m\n\u001b[1;32m    488\u001b[0m \u001b[43m    \u001b[49m\u001b[38;5;28;43mself\u001b[39;49m\u001b[43m,\u001b[49m\u001b[43m \u001b[49m\u001b[43mgradient\u001b[49m\u001b[43m,\u001b[49m\u001b[43m \u001b[49m\u001b[43mretain_graph\u001b[49m\u001b[43m,\u001b[49m\u001b[43m \u001b[49m\u001b[43mcreate_graph\u001b[49m\u001b[43m,\u001b[49m\u001b[43m \u001b[49m\u001b[43minputs\u001b[49m\u001b[38;5;241;43m=\u001b[39;49m\u001b[43minputs\u001b[49m\n\u001b[1;32m    489\u001b[0m \u001b[43m\u001b[49m\u001b[43m)\u001b[49m\n",
      "File \u001b[0;32m/usr/local/lib/python3.10/dist-packages/torch/autograd/__init__.py:200\u001b[0m, in \u001b[0;36mbackward\u001b[0;34m(tensors, grad_tensors, retain_graph, create_graph, grad_variables, inputs)\u001b[0m\n\u001b[1;32m    195\u001b[0m     retain_graph \u001b[38;5;241m=\u001b[39m create_graph\n\u001b[1;32m    197\u001b[0m \u001b[38;5;66;03m# The reason we repeat same the comment below is that\u001b[39;00m\n\u001b[1;32m    198\u001b[0m \u001b[38;5;66;03m# some Python versions print out the first line of a multi-line function\u001b[39;00m\n\u001b[1;32m    199\u001b[0m \u001b[38;5;66;03m# calls in the traceback and some print out the last line\u001b[39;00m\n\u001b[0;32m--> 200\u001b[0m \u001b[43mVariable\u001b[49m\u001b[38;5;241;43m.\u001b[39;49m\u001b[43m_execution_engine\u001b[49m\u001b[38;5;241;43m.\u001b[39;49m\u001b[43mrun_backward\u001b[49m\u001b[43m(\u001b[49m\u001b[43m  \u001b[49m\u001b[38;5;66;43;03m# Calls into the C++ engine to run the backward pass\u001b[39;49;00m\n\u001b[1;32m    201\u001b[0m \u001b[43m    \u001b[49m\u001b[43mtensors\u001b[49m\u001b[43m,\u001b[49m\u001b[43m \u001b[49m\u001b[43mgrad_tensors_\u001b[49m\u001b[43m,\u001b[49m\u001b[43m \u001b[49m\u001b[43mretain_graph\u001b[49m\u001b[43m,\u001b[49m\u001b[43m \u001b[49m\u001b[43mcreate_graph\u001b[49m\u001b[43m,\u001b[49m\u001b[43m \u001b[49m\u001b[43minputs\u001b[49m\u001b[43m,\u001b[49m\n\u001b[1;32m    202\u001b[0m \u001b[43m    \u001b[49m\u001b[43mallow_unreachable\u001b[49m\u001b[38;5;241;43m=\u001b[39;49m\u001b[38;5;28;43;01mTrue\u001b[39;49;00m\u001b[43m,\u001b[49m\u001b[43m \u001b[49m\u001b[43maccumulate_grad\u001b[49m\u001b[38;5;241;43m=\u001b[39;49m\u001b[38;5;28;43;01mTrue\u001b[39;49;00m\u001b[43m)\u001b[49m\n",
      "\u001b[0;31mRuntimeError\u001b[0m: element 0 of tensors does not require grad and does not have a grad_fn"
     ]
    }
   ],
   "source": [
    "with torch.no_grad():\n",
    "    a = torch.rand(3, 5, requires_grad=True)\n",
    "    b = torch.rand(3, 5, requires_grad=True)\n",
    "    \n",
    "    loss = torch.sum(a + b)\n",
    "    \n",
    "    print(f'{loss=}')\n",
    "    \n",
    "    loss.backward()"
   ]
  },
  {
   "cell_type": "code",
   "execution_count": 106,
   "metadata": {
    "execution": {
     "iopub.execute_input": "2023-10-02T12:53:29.214428Z",
     "iopub.status.busy": "2023-10-02T12:53:29.214146Z",
     "iopub.status.idle": "2023-10-02T12:53:29.226972Z",
     "shell.execute_reply": "2023-10-02T12:53:29.226454Z",
     "shell.execute_reply.started": "2023-10-02T12:53:29.214405Z"
    }
   },
   "outputs": [
    {
     "data": {
      "text/plain": [
       "tensor(16.6919, grad_fn=<SumBackward0>)"
      ]
     },
     "execution_count": 106,
     "metadata": {},
     "output_type": "execute_result"
    }
   ],
   "source": [
    "loss2 = torch.sum(a + b)\n",
    "\n",
    "loss2"
   ]
  },
  {
   "cell_type": "code",
   "execution_count": 107,
   "metadata": {
    "execution": {
     "iopub.execute_input": "2023-10-02T12:53:38.282558Z",
     "iopub.status.busy": "2023-10-02T12:53:38.282335Z",
     "iopub.status.idle": "2023-10-02T12:53:38.285942Z",
     "shell.execute_reply": "2023-10-02T12:53:38.285471Z",
     "shell.execute_reply.started": "2023-10-02T12:53:38.282541Z"
    }
   },
   "outputs": [
    {
     "name": "stdout",
     "output_type": "stream",
     "text": [
      "a.grad=None\n",
      "\n",
      "b.grad=None\n",
      "\n"
     ]
    }
   ],
   "source": [
    "print(f'{a.grad=}\\n')\n",
    "print(f'{b.grad=}\\n')"
   ]
  },
  {
   "cell_type": "code",
   "execution_count": 108,
   "metadata": {
    "execution": {
     "iopub.execute_input": "2023-10-02T12:53:40.073154Z",
     "iopub.status.busy": "2023-10-02T12:53:40.072871Z",
     "iopub.status.idle": "2023-10-02T12:53:40.076539Z",
     "shell.execute_reply": "2023-10-02T12:53:40.075977Z",
     "shell.execute_reply.started": "2023-10-02T12:53:40.073131Z"
    }
   },
   "outputs": [],
   "source": [
    "loss2.backward()"
   ]
  },
  {
   "cell_type": "code",
   "execution_count": 109,
   "metadata": {
    "execution": {
     "iopub.execute_input": "2023-10-02T12:53:40.502787Z",
     "iopub.status.busy": "2023-10-02T12:53:40.502568Z",
     "iopub.status.idle": "2023-10-02T12:53:40.506754Z",
     "shell.execute_reply": "2023-10-02T12:53:40.506293Z",
     "shell.execute_reply.started": "2023-10-02T12:53:40.502770Z"
    }
   },
   "outputs": [
    {
     "name": "stdout",
     "output_type": "stream",
     "text": [
      "a.grad=tensor([[1., 1., 1., 1., 1.],\n",
      "        [1., 1., 1., 1., 1.],\n",
      "        [1., 1., 1., 1., 1.]])\n",
      "\n",
      "b.grad=tensor([[1., 1., 1., 1., 1.],\n",
      "        [1., 1., 1., 1., 1.],\n",
      "        [1., 1., 1., 1., 1.]])\n",
      "\n"
     ]
    }
   ],
   "source": [
    "print(f'{a.grad=}\\n')\n",
    "print(f'{b.grad=}\\n')"
   ]
  },
  {
   "cell_type": "code",
   "execution_count": 110,
   "metadata": {
    "execution": {
     "iopub.execute_input": "2023-10-02T12:53:47.905314Z",
     "iopub.status.busy": "2023-10-02T12:53:47.905032Z",
     "iopub.status.idle": "2023-10-02T12:53:47.932910Z",
     "shell.execute_reply": "2023-10-02T12:53:47.932305Z",
     "shell.execute_reply.started": "2023-10-02T12:53:47.905290Z"
    }
   },
   "outputs": [
    {
     "name": "stdout",
     "output_type": "stream",
     "text": [
      "loss=tensor(12.6187)\n"
     ]
    },
    {
     "ename": "RuntimeError",
     "evalue": "element 0 of tensors does not require grad and does not have a grad_fn",
     "output_type": "error",
     "traceback": [
      "\u001b[0;31m---------------------------------------------------------------------------\u001b[0m",
      "\u001b[0;31mRuntimeError\u001b[0m                              Traceback (most recent call last)",
      "Cell \u001b[0;32mIn[110], line 9\u001b[0m\n\u001b[1;32m      5\u001b[0m loss \u001b[38;5;241m=\u001b[39m torch\u001b[38;5;241m.\u001b[39msum(a \u001b[38;5;241m+\u001b[39m b)\n\u001b[1;32m      7\u001b[0m \u001b[38;5;28mprint\u001b[39m(\u001b[38;5;124mf\u001b[39m\u001b[38;5;124m'\u001b[39m\u001b[38;5;132;01m{\u001b[39;00mloss\u001b[38;5;132;01m=}\u001b[39;00m\u001b[38;5;124m'\u001b[39m)\n\u001b[0;32m----> 9\u001b[0m \u001b[43mloss\u001b[49m\u001b[38;5;241;43m.\u001b[39;49m\u001b[43mbackward\u001b[49m\u001b[43m(\u001b[49m\u001b[43m)\u001b[49m\n",
      "File \u001b[0;32m/usr/local/lib/python3.10/dist-packages/torch/_tensor.py:487\u001b[0m, in \u001b[0;36mTensor.backward\u001b[0;34m(self, gradient, retain_graph, create_graph, inputs)\u001b[0m\n\u001b[1;32m    477\u001b[0m \u001b[38;5;28;01mif\u001b[39;00m has_torch_function_unary(\u001b[38;5;28mself\u001b[39m):\n\u001b[1;32m    478\u001b[0m     \u001b[38;5;28;01mreturn\u001b[39;00m handle_torch_function(\n\u001b[1;32m    479\u001b[0m         Tensor\u001b[38;5;241m.\u001b[39mbackward,\n\u001b[1;32m    480\u001b[0m         (\u001b[38;5;28mself\u001b[39m,),\n\u001b[0;32m   (...)\u001b[0m\n\u001b[1;32m    485\u001b[0m         inputs\u001b[38;5;241m=\u001b[39minputs,\n\u001b[1;32m    486\u001b[0m     )\n\u001b[0;32m--> 487\u001b[0m \u001b[43mtorch\u001b[49m\u001b[38;5;241;43m.\u001b[39;49m\u001b[43mautograd\u001b[49m\u001b[38;5;241;43m.\u001b[39;49m\u001b[43mbackward\u001b[49m\u001b[43m(\u001b[49m\n\u001b[1;32m    488\u001b[0m \u001b[43m    \u001b[49m\u001b[38;5;28;43mself\u001b[39;49m\u001b[43m,\u001b[49m\u001b[43m \u001b[49m\u001b[43mgradient\u001b[49m\u001b[43m,\u001b[49m\u001b[43m \u001b[49m\u001b[43mretain_graph\u001b[49m\u001b[43m,\u001b[49m\u001b[43m \u001b[49m\u001b[43mcreate_graph\u001b[49m\u001b[43m,\u001b[49m\u001b[43m \u001b[49m\u001b[43minputs\u001b[49m\u001b[38;5;241;43m=\u001b[39;49m\u001b[43minputs\u001b[49m\n\u001b[1;32m    489\u001b[0m \u001b[43m\u001b[49m\u001b[43m)\u001b[49m\n",
      "File \u001b[0;32m/usr/local/lib/python3.10/dist-packages/torch/autograd/__init__.py:200\u001b[0m, in \u001b[0;36mbackward\u001b[0;34m(tensors, grad_tensors, retain_graph, create_graph, grad_variables, inputs)\u001b[0m\n\u001b[1;32m    195\u001b[0m     retain_graph \u001b[38;5;241m=\u001b[39m create_graph\n\u001b[1;32m    197\u001b[0m \u001b[38;5;66;03m# The reason we repeat same the comment below is that\u001b[39;00m\n\u001b[1;32m    198\u001b[0m \u001b[38;5;66;03m# some Python versions print out the first line of a multi-line function\u001b[39;00m\n\u001b[1;32m    199\u001b[0m \u001b[38;5;66;03m# calls in the traceback and some print out the last line\u001b[39;00m\n\u001b[0;32m--> 200\u001b[0m \u001b[43mVariable\u001b[49m\u001b[38;5;241;43m.\u001b[39;49m\u001b[43m_execution_engine\u001b[49m\u001b[38;5;241;43m.\u001b[39;49m\u001b[43mrun_backward\u001b[49m\u001b[43m(\u001b[49m\u001b[43m  \u001b[49m\u001b[38;5;66;43;03m# Calls into the C++ engine to run the backward pass\u001b[39;49;00m\n\u001b[1;32m    201\u001b[0m \u001b[43m    \u001b[49m\u001b[43mtensors\u001b[49m\u001b[43m,\u001b[49m\u001b[43m \u001b[49m\u001b[43mgrad_tensors_\u001b[49m\u001b[43m,\u001b[49m\u001b[43m \u001b[49m\u001b[43mretain_graph\u001b[49m\u001b[43m,\u001b[49m\u001b[43m \u001b[49m\u001b[43mcreate_graph\u001b[49m\u001b[43m,\u001b[49m\u001b[43m \u001b[49m\u001b[43minputs\u001b[49m\u001b[43m,\u001b[49m\n\u001b[1;32m    202\u001b[0m \u001b[43m    \u001b[49m\u001b[43mallow_unreachable\u001b[49m\u001b[38;5;241;43m=\u001b[39;49m\u001b[38;5;28;43;01mTrue\u001b[39;49;00m\u001b[43m,\u001b[49m\u001b[43m \u001b[49m\u001b[43maccumulate_grad\u001b[49m\u001b[38;5;241;43m=\u001b[39;49m\u001b[38;5;28;43;01mTrue\u001b[39;49;00m\u001b[43m)\u001b[49m\n",
      "\u001b[0;31mRuntimeError\u001b[0m: element 0 of tensors does not require grad and does not have a grad_fn"
     ]
    }
   ],
   "source": [
    "with torch.inference_mode():\n",
    "    a = torch.rand(3, 5, requires_grad=True)\n",
    "    b = torch.rand(3, 5, requires_grad=True)\n",
    "    \n",
    "    loss = torch.sum(a + b)\n",
    "    \n",
    "    print(f'{loss=}')\n",
    "    \n",
    "    loss.backward()"
   ]
  },
  {
   "cell_type": "code",
   "execution_count": 111,
   "metadata": {
    "execution": {
     "iopub.execute_input": "2023-10-02T12:53:50.761879Z",
     "iopub.status.busy": "2023-10-02T12:53:50.761596Z",
     "iopub.status.idle": "2023-10-02T12:53:50.766740Z",
     "shell.execute_reply": "2023-10-02T12:53:50.766225Z",
     "shell.execute_reply.started": "2023-10-02T12:53:50.761856Z"
    }
   },
   "outputs": [
    {
     "data": {
      "text/plain": [
       "tensor(12.6187)"
      ]
     },
     "execution_count": 111,
     "metadata": {},
     "output_type": "execute_result"
    }
   ],
   "source": [
    "loss2 = torch.sum(a + b)\n",
    "\n",
    "loss2"
   ]
  },
  {
   "cell_type": "code",
   "execution_count": 112,
   "metadata": {
    "execution": {
     "iopub.execute_input": "2023-10-02T12:54:32.741728Z",
     "iopub.status.busy": "2023-10-02T12:54:32.741440Z",
     "iopub.status.idle": "2023-10-02T12:54:32.745583Z",
     "shell.execute_reply": "2023-10-02T12:54:32.745024Z",
     "shell.execute_reply.started": "2023-10-02T12:54:32.741705Z"
    }
   },
   "outputs": [],
   "source": [
    "@torch.no_grad()\n",
    "def foo():\n",
    "    a = torch.rand(3, 5, requires_grad=True)\n",
    "    b = torch.rand(3, 5, requires_grad=True)\n",
    "    \n",
    "    loss = torch.mean(a + b)\n",
    "    \n",
    "    print(f'{loss=}')\n",
    "    \n",
    "    return a, b"
   ]
  },
  {
   "cell_type": "code",
   "execution_count": 113,
   "metadata": {
    "execution": {
     "iopub.execute_input": "2023-10-02T12:54:33.662738Z",
     "iopub.status.busy": "2023-10-02T12:54:33.662456Z",
     "iopub.status.idle": "2023-10-02T12:54:33.666637Z",
     "shell.execute_reply": "2023-10-02T12:54:33.666089Z",
     "shell.execute_reply.started": "2023-10-02T12:54:33.662714Z"
    }
   },
   "outputs": [
    {
     "name": "stdout",
     "output_type": "stream",
     "text": [
      "loss=tensor(0.9662)\n"
     ]
    }
   ],
   "source": [
    "a, b = foo()"
   ]
  },
  {
   "cell_type": "code",
   "execution_count": 114,
   "metadata": {
    "execution": {
     "iopub.execute_input": "2023-10-02T12:54:35.802362Z",
     "iopub.status.busy": "2023-10-02T12:54:35.802079Z",
     "iopub.status.idle": "2023-10-02T12:54:35.806882Z",
     "shell.execute_reply": "2023-10-02T12:54:35.806365Z",
     "shell.execute_reply.started": "2023-10-02T12:54:35.802339Z"
    }
   },
   "outputs": [
    {
     "data": {
      "text/plain": [
       "tensor(-0.0883, grad_fn=<MeanBackward0>)"
      ]
     },
     "execution_count": 114,
     "metadata": {},
     "output_type": "execute_result"
    }
   ],
   "source": [
    "torch.mean(a - b)"
   ]
  },
  {
   "cell_type": "code",
   "execution_count": 115,
   "metadata": {
    "execution": {
     "iopub.execute_input": "2023-10-02T12:54:40.643130Z",
     "iopub.status.busy": "2023-10-02T12:54:40.642845Z",
     "iopub.status.idle": "2023-10-02T12:54:40.647474Z",
     "shell.execute_reply": "2023-10-02T12:54:40.646812Z",
     "shell.execute_reply.started": "2023-10-02T12:54:40.643106Z"
    }
   },
   "outputs": [],
   "source": [
    "@torch.inference_mode()\n",
    "def foo():\n",
    "    a = torch.rand(3, 5, requires_grad=True)\n",
    "    b = torch.rand(3, 5, requires_grad=True)\n",
    "    \n",
    "    loss = torch.mean(a + b)\n",
    "    \n",
    "    print(f'{loss=}')\n",
    "    \n",
    "    return a, b"
   ]
  },
  {
   "cell_type": "code",
   "execution_count": 116,
   "metadata": {
    "execution": {
     "iopub.execute_input": "2023-10-02T12:54:41.331632Z",
     "iopub.status.busy": "2023-10-02T12:54:41.331405Z",
     "iopub.status.idle": "2023-10-02T12:54:41.335048Z",
     "shell.execute_reply": "2023-10-02T12:54:41.334567Z",
     "shell.execute_reply.started": "2023-10-02T12:54:41.331614Z"
    }
   },
   "outputs": [
    {
     "name": "stdout",
     "output_type": "stream",
     "text": [
      "loss=tensor(0.9661)\n"
     ]
    }
   ],
   "source": [
    "a, b = foo()"
   ]
  },
  {
   "cell_type": "code",
   "execution_count": 117,
   "metadata": {
    "execution": {
     "iopub.execute_input": "2023-10-02T12:54:41.853095Z",
     "iopub.status.busy": "2023-10-02T12:54:41.852813Z",
     "iopub.status.idle": "2023-10-02T12:54:41.857685Z",
     "shell.execute_reply": "2023-10-02T12:54:41.857170Z",
     "shell.execute_reply.started": "2023-10-02T12:54:41.853071Z"
    }
   },
   "outputs": [
    {
     "data": {
      "text/plain": [
       "tensor(0.0121)"
      ]
     },
     "execution_count": 117,
     "metadata": {},
     "output_type": "execute_result"
    }
   ],
   "source": [
    "torch.mean(a - b)"
   ]
  },
  {
   "cell_type": "code",
   "execution_count": 118,
   "metadata": {
    "execution": {
     "iopub.execute_input": "2023-10-02T12:54:44.216207Z",
     "iopub.status.busy": "2023-10-02T12:54:44.215919Z",
     "iopub.status.idle": "2023-10-02T12:54:44.219683Z",
     "shell.execute_reply": "2023-10-02T12:54:44.219017Z",
     "shell.execute_reply.started": "2023-10-02T12:54:44.216184Z"
    }
   },
   "outputs": [],
   "source": [
    "a.requires_grad = False"
   ]
  },
  {
   "cell_type": "markdown",
   "metadata": {
    "pycharm": {
     "name": "#%% md\n"
    }
   },
   "source": [
    "## Полносвязные слои и функции активации в `PyTorch`"
   ]
  },
  {
   "cell_type": "code",
   "execution_count": 119,
   "metadata": {
    "execution": {
     "iopub.execute_input": "2023-10-02T12:55:57.518880Z",
     "iopub.status.busy": "2023-10-02T12:55:57.518598Z",
     "iopub.status.idle": "2023-10-02T12:55:57.521876Z",
     "shell.execute_reply": "2023-10-02T12:55:57.521345Z",
     "shell.execute_reply.started": "2023-10-02T12:55:57.518856Z"
    },
    "pycharm": {
     "name": "#%%\n"
    }
   },
   "outputs": [],
   "source": [
    "from torch import nn"
   ]
  },
  {
   "cell_type": "markdown",
   "metadata": {
    "pycharm": {
     "name": "#%% md\n"
    }
   },
   "source": [
    "### Полносвязный слой\n",
    "\n",
    ">$y_j = \\sum\\limits_{i=1}^{n}x_iw_{ji} + b_j$\n"
   ]
  },
  {
   "cell_type": "code",
   "execution_count": 120,
   "metadata": {
    "execution": {
     "iopub.execute_input": "2023-10-02T12:57:16.040901Z",
     "iopub.status.busy": "2023-10-02T12:57:16.040681Z",
     "iopub.status.idle": "2023-10-02T12:57:16.043888Z",
     "shell.execute_reply": "2023-10-02T12:57:16.043417Z",
     "shell.execute_reply.started": "2023-10-02T12:57:16.040884Z"
    },
    "pycharm": {
     "name": "#%%\n"
    }
   },
   "outputs": [],
   "source": [
    "layer = nn.Linear(in_features=5, out_features=3)"
   ]
  },
  {
   "cell_type": "code",
   "execution_count": 121,
   "metadata": {
    "execution": {
     "iopub.execute_input": "2023-10-02T12:57:16.795191Z",
     "iopub.status.busy": "2023-10-02T12:57:16.794904Z",
     "iopub.status.idle": "2023-10-02T12:57:16.799595Z",
     "shell.execute_reply": "2023-10-02T12:57:16.798992Z",
     "shell.execute_reply.started": "2023-10-02T12:57:16.795168Z"
    },
    "pycharm": {
     "name": "#%%\n"
    }
   },
   "outputs": [
    {
     "data": {
      "text/plain": [
       "Linear(in_features=5, out_features=3, bias=True)"
      ]
     },
     "execution_count": 121,
     "metadata": {},
     "output_type": "execute_result"
    }
   ],
   "source": [
    "layer"
   ]
  },
  {
   "cell_type": "code",
   "execution_count": 122,
   "metadata": {
    "execution": {
     "iopub.execute_input": "2023-10-02T12:57:40.726488Z",
     "iopub.status.busy": "2023-10-02T12:57:40.726208Z",
     "iopub.status.idle": "2023-10-02T12:57:40.731396Z",
     "shell.execute_reply": "2023-10-02T12:57:40.730846Z",
     "shell.execute_reply.started": "2023-10-02T12:57:40.726464Z"
    }
   },
   "outputs": [
    {
     "data": {
      "text/plain": [
       "Parameter containing:\n",
       "tensor([[ 0.2526, -0.0183,  0.2870, -0.4051,  0.0200],\n",
       "        [ 0.2125, -0.4402,  0.3310,  0.0280, -0.0666],\n",
       "        [-0.3902,  0.1472,  0.1944,  0.3951, -0.4383]], requires_grad=True)"
      ]
     },
     "execution_count": 122,
     "metadata": {},
     "output_type": "execute_result"
    }
   ],
   "source": [
    "layer.weight"
   ]
  },
  {
   "cell_type": "code",
   "execution_count": 123,
   "metadata": {
    "execution": {
     "iopub.execute_input": "2023-10-02T12:58:05.212076Z",
     "iopub.status.busy": "2023-10-02T12:58:05.211845Z",
     "iopub.status.idle": "2023-10-02T12:58:05.215219Z",
     "shell.execute_reply": "2023-10-02T12:58:05.214955Z",
     "shell.execute_reply.started": "2023-10-02T12:58:05.212058Z"
    }
   },
   "outputs": [
    {
     "data": {
      "text/plain": [
       "torch.Size([3, 5])"
      ]
     },
     "execution_count": 123,
     "metadata": {},
     "output_type": "execute_result"
    }
   ],
   "source": [
    "layer.weight.shape"
   ]
  },
  {
   "cell_type": "code",
   "execution_count": 124,
   "metadata": {
    "execution": {
     "iopub.execute_input": "2023-10-02T12:59:09.597933Z",
     "iopub.status.busy": "2023-10-02T12:59:09.597738Z",
     "iopub.status.idle": "2023-10-02T12:59:09.600654Z",
     "shell.execute_reply": "2023-10-02T12:59:09.600389Z",
     "shell.execute_reply.started": "2023-10-02T12:59:09.597921Z"
    }
   },
   "outputs": [
    {
     "data": {
      "text/plain": [
       "Parameter containing:\n",
       "tensor([-0.3035,  0.3197, -0.3720], requires_grad=True)"
      ]
     },
     "execution_count": 124,
     "metadata": {},
     "output_type": "execute_result"
    }
   ],
   "source": [
    "layer.bias"
   ]
  },
  {
   "cell_type": "code",
   "execution_count": 125,
   "metadata": {
    "execution": {
     "iopub.execute_input": "2023-10-02T12:59:14.773696Z",
     "iopub.status.busy": "2023-10-02T12:59:14.773264Z",
     "iopub.status.idle": "2023-10-02T12:59:14.775688Z",
     "shell.execute_reply": "2023-10-02T12:59:14.775407Z",
     "shell.execute_reply.started": "2023-10-02T12:59:14.773681Z"
    }
   },
   "outputs": [],
   "source": [
    "layer = nn.Linear(in_features=5, out_features=3, bias=False)"
   ]
  },
  {
   "cell_type": "code",
   "execution_count": 126,
   "metadata": {
    "execution": {
     "iopub.execute_input": "2023-10-02T12:59:16.057093Z",
     "iopub.status.busy": "2023-10-02T12:59:16.056912Z",
     "iopub.status.idle": "2023-10-02T12:59:16.059037Z",
     "shell.execute_reply": "2023-10-02T12:59:16.058711Z",
     "shell.execute_reply.started": "2023-10-02T12:59:16.057082Z"
    }
   },
   "outputs": [],
   "source": [
    "layer.bias"
   ]
  },
  {
   "cell_type": "code",
   "execution_count": 127,
   "metadata": {
    "execution": {
     "iopub.execute_input": "2023-10-02T12:59:23.410806Z",
     "iopub.status.busy": "2023-10-02T12:59:23.410604Z",
     "iopub.status.idle": "2023-10-02T12:59:23.413308Z",
     "shell.execute_reply": "2023-10-02T12:59:23.413045Z",
     "shell.execute_reply.started": "2023-10-02T12:59:23.410790Z"
    }
   },
   "outputs": [
    {
     "data": {
      "text/plain": [
       "<bound method Module._call_impl of Linear(in_features=5, out_features=3, bias=False)>"
      ]
     },
     "execution_count": 127,
     "metadata": {},
     "output_type": "execute_result"
    }
   ],
   "source": [
    "layer.__call__"
   ]
  },
  {
   "cell_type": "code",
   "execution_count": 128,
   "metadata": {
    "execution": {
     "iopub.execute_input": "2023-10-02T12:59:45.302060Z",
     "iopub.status.busy": "2023-10-02T12:59:45.301817Z",
     "iopub.status.idle": "2023-10-02T12:59:45.304779Z",
     "shell.execute_reply": "2023-10-02T12:59:45.304495Z",
     "shell.execute_reply.started": "2023-10-02T12:59:45.302045Z"
    },
    "pycharm": {
     "name": "#%%\n"
    }
   },
   "outputs": [
    {
     "name": "stdout",
     "output_type": "stream",
     "text": [
      "tensor([ 0.4626, -0.0048,  0.4168], grad_fn=<SqueezeBackward4>)\n"
     ]
    }
   ],
   "source": [
    "x = torch.randn(5)\n",
    "\n",
    "print(layer(x))"
   ]
  },
  {
   "cell_type": "code",
   "execution_count": 129,
   "metadata": {
    "execution": {
     "iopub.execute_input": "2023-10-02T13:00:19.927884Z",
     "iopub.status.busy": "2023-10-02T13:00:19.927447Z",
     "iopub.status.idle": "2023-10-02T13:00:19.931203Z",
     "shell.execute_reply": "2023-10-02T13:00:19.930942Z",
     "shell.execute_reply.started": "2023-10-02T13:00:19.927869Z"
    }
   },
   "outputs": [
    {
     "data": {
      "text/plain": [
       "tensor([0.1300], grad_fn=<AddBackward0>)"
      ]
     },
     "execution_count": 129,
     "metadata": {},
     "output_type": "execute_result"
    }
   ],
   "source": [
    "layer1 = nn.Linear(in_features=5, out_features=3)\n",
    "layer2 = nn.Linear(in_features=3, out_features=1)\n",
    "\n",
    "layer2(layer1(x))"
   ]
  },
  {
   "cell_type": "markdown",
   "metadata": {
    "pycharm": {
     "name": "#%% md\n"
    }
   },
   "source": [
    "### Функции активации"
   ]
  },
  {
   "cell_type": "markdown",
   "metadata": {
    "pycharm": {
     "name": "#%% md\n"
    }
   },
   "source": [
    "> Сигмоида $f(x) = \\dfrac{1}{1 + e^{-x}}$"
   ]
  },
  {
   "cell_type": "code",
   "execution_count": 130,
   "metadata": {
    "execution": {
     "iopub.execute_input": "2023-10-02T13:01:33.705884Z",
     "iopub.status.busy": "2023-10-02T13:01:33.705683Z",
     "iopub.status.idle": "2023-10-02T13:01:33.707901Z",
     "shell.execute_reply": "2023-10-02T13:01:33.707613Z",
     "shell.execute_reply.started": "2023-10-02T13:01:33.705869Z"
    },
    "pycharm": {
     "name": "#%%\n"
    }
   },
   "outputs": [],
   "source": [
    "activation = nn.Sigmoid()"
   ]
  },
  {
   "cell_type": "code",
   "execution_count": 131,
   "metadata": {
    "execution": {
     "iopub.execute_input": "2023-10-02T13:01:34.844988Z",
     "iopub.status.busy": "2023-10-02T13:01:34.844790Z",
     "iopub.status.idle": "2023-10-02T13:01:34.847766Z",
     "shell.execute_reply": "2023-10-02T13:01:34.847487Z",
     "shell.execute_reply.started": "2023-10-02T13:01:34.844973Z"
    },
    "pycharm": {
     "name": "#%%\n"
    }
   },
   "outputs": [
    {
     "name": "stdout",
     "output_type": "stream",
     "text": [
      "tensor([-0.1609, -1.0230,  0.5188,  0.1823,  0.9216])\n",
      "tensor([0.4599, 0.2644, 0.6269, 0.5455, 0.7154])\n"
     ]
    }
   ],
   "source": [
    "x = torch.randn(5)\n",
    "\n",
    "print(x)\n",
    "\n",
    "print(activation(x))"
   ]
  },
  {
   "cell_type": "markdown",
   "metadata": {
    "pycharm": {
     "name": "#%% md\n"
    }
   },
   "source": [
    "> ReLU $f(x) = \\max(0, x)$"
   ]
  },
  {
   "cell_type": "code",
   "execution_count": 132,
   "metadata": {
    "execution": {
     "iopub.execute_input": "2023-10-02T13:01:40.607361Z",
     "iopub.status.busy": "2023-10-02T13:01:40.607154Z",
     "iopub.status.idle": "2023-10-02T13:01:40.609390Z",
     "shell.execute_reply": "2023-10-02T13:01:40.609057Z",
     "shell.execute_reply.started": "2023-10-02T13:01:40.607336Z"
    },
    "pycharm": {
     "name": "#%%\n"
    }
   },
   "outputs": [],
   "source": [
    "activation = nn.ReLU()"
   ]
  },
  {
   "cell_type": "code",
   "execution_count": 133,
   "metadata": {
    "execution": {
     "iopub.execute_input": "2023-10-02T13:01:41.248056Z",
     "iopub.status.busy": "2023-10-02T13:01:41.247852Z",
     "iopub.status.idle": "2023-10-02T13:01:41.251092Z",
     "shell.execute_reply": "2023-10-02T13:01:41.250820Z",
     "shell.execute_reply.started": "2023-10-02T13:01:41.248041Z"
    },
    "pycharm": {
     "name": "#%%\n"
    }
   },
   "outputs": [
    {
     "name": "stdout",
     "output_type": "stream",
     "text": [
      "tensor([ 0.2526,  0.8336,  1.7116,  0.1765, -1.2696])\n",
      "tensor([0.2526, 0.8336, 1.7116, 0.1765, 0.0000])\n"
     ]
    }
   ],
   "source": [
    "x = torch.randn(5)\n",
    "\n",
    "print(x)\n",
    "\n",
    "print(activation(x))"
   ]
  },
  {
   "cell_type": "markdown",
   "metadata": {
    "pycharm": {
     "name": "#%% md\n"
    }
   },
   "source": [
    "> Leaky ReLU $f(x) = \\max(0, x) + \\alpha \\min(0, x)$"
   ]
  },
  {
   "cell_type": "code",
   "execution_count": 134,
   "metadata": {
    "execution": {
     "iopub.execute_input": "2023-10-02T13:01:47.590150Z",
     "iopub.status.busy": "2023-10-02T13:01:47.589952Z",
     "iopub.status.idle": "2023-10-02T13:01:47.592210Z",
     "shell.execute_reply": "2023-10-02T13:01:47.591939Z",
     "shell.execute_reply.started": "2023-10-02T13:01:47.590135Z"
    },
    "pycharm": {
     "name": "#%%\n"
    }
   },
   "outputs": [],
   "source": [
    "activation = nn.LeakyReLU(negative_slope=0.001)"
   ]
  },
  {
   "cell_type": "code",
   "execution_count": 135,
   "metadata": {
    "execution": {
     "iopub.execute_input": "2023-10-02T13:01:48.237152Z",
     "iopub.status.busy": "2023-10-02T13:01:48.236947Z",
     "iopub.status.idle": "2023-10-02T13:01:48.248297Z",
     "shell.execute_reply": "2023-10-02T13:01:48.248021Z",
     "shell.execute_reply.started": "2023-10-02T13:01:48.237136Z"
    },
    "pycharm": {
     "name": "#%%\n"
    }
   },
   "outputs": [
    {
     "name": "stdout",
     "output_type": "stream",
     "text": [
      "tensor([ 1.2277, -0.3938, -0.4653,  0.4705,  0.7487])\n",
      "tensor([ 1.2277e+00, -3.9383e-04, -4.6527e-04,  4.7049e-01,  7.4869e-01])\n"
     ]
    }
   ],
   "source": [
    "x = torch.randn(5)\n",
    "\n",
    "print(x)\n",
    "\n",
    "print(activation(x))"
   ]
  },
  {
   "cell_type": "code",
   "execution_count": 136,
   "metadata": {
    "execution": {
     "iopub.execute_input": "2023-10-02T13:03:04.565780Z",
     "iopub.status.busy": "2023-10-02T13:03:04.565589Z",
     "iopub.status.idle": "2023-10-02T13:03:04.569504Z",
     "shell.execute_reply": "2023-10-02T13:03:04.569245Z",
     "shell.execute_reply.started": "2023-10-02T13:03:04.565769Z"
    }
   },
   "outputs": [
    {
     "data": {
      "text/plain": [
       "tensor([0.4624], grad_fn=<AddBackward0>)"
      ]
     },
     "execution_count": 136,
     "metadata": {},
     "output_type": "execute_result"
    }
   ],
   "source": [
    "layer1 = nn.Linear(in_features=5, out_features=3)\n",
    "activation = nn.LeakyReLU(negative_slope=0.001)\n",
    "layer2 = nn.Linear(in_features=3, out_features=1)\n",
    "\n",
    "layer2(activation(layer1(x)))"
   ]
  },
  {
   "cell_type": "markdown",
   "metadata": {
    "pycharm": {
     "name": "#%% md\n"
    }
   },
   "source": [
    "## Градиентный спуск своими руками"
   ]
  },
  {
   "cell_type": "code",
   "execution_count": null,
   "metadata": {
    "pycharm": {
     "name": "#%%\n"
    }
   },
   "outputs": [],
   "source": [
    "n_features = 2\n",
    "n_objects = 300\n",
    "\n",
    "torch.manual_seed(0)\n",
    "\n",
    "w_true = torch.randn(n_features)\n",
    "b_true = torch.randn(1)\n",
    "\n",
    "x = (torch.rand(n_objects, n_features) - 0.5) * 10 * (torch.arange(n_features) * 2 + 1)\n",
    "y = torch.matmul(x, w_true) + torch.randn(n_objects) + b_true"
   ]
  },
  {
   "cell_type": "code",
   "execution_count": null,
   "metadata": {},
   "outputs": [],
   "source": [
    "x.shape"
   ]
  },
  {
   "cell_type": "code",
   "execution_count": null,
   "metadata": {},
   "outputs": [],
   "source": [
    "y.shape"
   ]
  },
  {
   "cell_type": "code",
   "execution_count": null,
   "metadata": {
    "pycharm": {
     "name": "#%%\n"
    }
   },
   "outputs": [],
   "source": [
    "n_steps = 200\n",
    "step_size = 1e-2"
   ]
  },
  {
   "cell_type": "code",
   "execution_count": null,
   "metadata": {
    "pycharm": {
     "name": "#%%\n"
    }
   },
   "outputs": [],
   "source": [
    "w = torch.rand(n_features, requires_grad=True)\n",
    "b = torch.rand(1, requires_grad=True)\n",
    "\n",
    "for i in range(n_steps):\n",
    "    y_pred = torch.matmul(x, w) + b\n",
    "\n",
    "    mse = torch.mean((y_pred - y) ** 2)\n",
    "\n",
    "    if i < 20 or i % 10 == 0:\n",
    "        print(f'MSE на шаге {i + 1} {mse.item():.5f}')\n",
    "\n",
    "    mse.backward()\n",
    "    \n",
    "#     print(f'{w.grad=}\\n')\n",
    "#     print(f'{b.grad=}\\n')\n",
    "\n",
    "    with torch.no_grad():\n",
    "        w -= w.grad * step_size\n",
    "        b -= b.grad * step_size\n",
    "\n",
    "    w.grad.zero_()\n",
    "    b.grad.zero_()"
   ]
  },
  {
   "cell_type": "code",
   "execution_count": null,
   "metadata": {},
   "outputs": [],
   "source": [
    "layer = nn.Linear(in_features=n_features, out_features=1)\n",
    "\n",
    "\n",
    "for i in range(n_steps):\n",
    "    y_pred = layer(x)\n",
    "\n",
    "    mse = torch.mean((y_pred - y) ** 2)\n",
    "    \n",
    "    if i < 20 or i % 10 == 0:\n",
    "        print(f'MSE на шаге {i + 1} {mse.item():.5f}')\n",
    "\n",
    "    mse.backward()\n",
    "\n",
    "    with torch.no_grad():\n",
    "        layer.weight -= layer.weight.grad * step_size\n",
    "        layer.bias -= layer.bias.grad * step_size\n",
    "\n",
    "#     layer.weight.grad.zero_()\n",
    "#     layer.bias.grad.zero_()\n",
    "    \n",
    "    layer.zero_grad()"
   ]
  },
  {
   "cell_type": "code",
   "execution_count": null,
   "metadata": {},
   "outputs": [],
   "source": [
    "layer(x)"
   ]
  },
  {
   "cell_type": "code",
   "execution_count": null,
   "metadata": {},
   "outputs": [],
   "source": [
    "layer(x).shape"
   ]
  },
  {
   "cell_type": "code",
   "execution_count": null,
   "metadata": {},
   "outputs": [],
   "source": [
    "y.shape"
   ]
  },
  {
   "cell_type": "code",
   "execution_count": null,
   "metadata": {},
   "outputs": [],
   "source": [
    "(layer(x) - y).shape"
   ]
  },
  {
   "cell_type": "code",
   "execution_count": null,
   "metadata": {},
   "outputs": [],
   "source": [
    "layer(x).ravel()"
   ]
  },
  {
   "cell_type": "code",
   "execution_count": null,
   "metadata": {},
   "outputs": [],
   "source": [
    "(layer(x).ravel() - y).shape"
   ]
  },
  {
   "cell_type": "code",
   "execution_count": null,
   "metadata": {},
   "outputs": [],
   "source": [
    "layer = nn.Linear(in_features=n_features, out_features=1)\n",
    "\n",
    "for i in range(n_steps):\n",
    "    y_pred = layer(x).ravel()\n",
    "\n",
    "    mse = torch.mean((y_pred - y) ** 2)\n",
    "    \n",
    "    if i < 20 or i % 10 == 0:\n",
    "        print(f'MSE на шаге {i + 1} {mse.item():.5f}')\n",
    "\n",
    "    mse.backward()\n",
    "\n",
    "    with torch.no_grad():\n",
    "        layer.weight -= layer.weight.grad * step_size\n",
    "        layer.bias -= layer.bias.grad * step_size\n",
    "\n",
    "    layer.zero_grad()"
   ]
  },
  {
   "cell_type": "code",
   "execution_count": null,
   "metadata": {},
   "outputs": [],
   "source": [
    "n_features = 5\n",
    "n_objects = 300\n",
    "\n",
    "torch.manual_seed(0)\n",
    "\n",
    "w_true = torch.randn(n_features)\n",
    "\n",
    "x = (torch.rand(n_objects, n_features) - 0.5) * 10 * (torch.arange(n_features) * 2 + 1)\n",
    "y = torch.matmul(x, w_true) + torch.randn(n_objects)"
   ]
  },
  {
   "cell_type": "code",
   "execution_count": null,
   "metadata": {},
   "outputs": [],
   "source": [
    "x.shape, y.shape"
   ]
  },
  {
   "cell_type": "code",
   "execution_count": null,
   "metadata": {},
   "outputs": [],
   "source": [
    "n_steps = 500\n",
    "step_size = 1e-3"
   ]
  },
  {
   "cell_type": "code",
   "execution_count": null,
   "metadata": {},
   "outputs": [],
   "source": [
    "layer = nn.Linear(in_features=n_features, out_features=1)\n",
    "\n",
    "for i in range(n_steps):\n",
    "    y_pred = layer(x).ravel()\n",
    "\n",
    "    mse = torch.mean((y_pred - y) ** 2)\n",
    "    \n",
    "    if i < 20 or i % 50 == 0:\n",
    "        print(f'MSE на шаге {i + 1} {mse.item():.5f}')\n",
    "\n",
    "    mse.backward()\n",
    "\n",
    "    with torch.no_grad():\n",
    "        layer.weight -= layer.weight.grad * step_size\n",
    "        layer.bias -= layer.bias.grad * step_size\n",
    "\n",
    "    layer.zero_grad()"
   ]
  },
  {
   "cell_type": "code",
   "execution_count": null,
   "metadata": {},
   "outputs": [],
   "source": [
    "n_steps = 1000\n",
    "step_size = 3e-4"
   ]
  },
  {
   "cell_type": "code",
   "execution_count": null,
   "metadata": {},
   "outputs": [],
   "source": [
    "layer1 = nn.Linear(in_features=n_features, out_features=3)\n",
    "layer2 = nn.Linear(in_features=3, out_features=1)\n",
    "activation = nn.ReLU()\n",
    "\n",
    "\n",
    "for i in range(n_steps):\n",
    "    y_pred = layer2(activation(layer1(x))).ravel()\n",
    "\n",
    "    mse = torch.mean((y_pred - y) ** 2)\n",
    "\n",
    "    if i < 20 or i % 50 == 0:\n",
    "        print(f'MSE на шаге {i + 1} {mse.item():.5f}')\n",
    "\n",
    "    mse.backward()\n",
    "\n",
    "    with torch.no_grad():\n",
    "        layer1.weight -= layer1.weight.grad * step_size\n",
    "        layer1.bias -= layer1.bias.grad * step_size\n",
    "        layer2.weight -= layer2.weight.grad * step_size\n",
    "        layer2.bias -= layer2.bias.grad * step_size\n",
    "\n",
    "    layer1.zero_grad()\n",
    "    layer2.zero_grad()"
   ]
  },
  {
   "cell_type": "code",
   "execution_count": null,
   "metadata": {},
   "outputs": [],
   "source": []
  }
 ],
 "metadata": {
  "colab": {
   "collapsed_sections": [],
   "name": "Seminar 1. Intro to DL",
   "provenance": []
  },
  "kernelspec": {
   "display_name": "Python 3 (ipykernel)",
   "language": "python",
   "name": "python3"
  },
  "language_info": {
   "codemirror_mode": {
    "name": "ipython",
    "version": 3
   },
   "file_extension": ".py",
   "mimetype": "text/x-python",
   "name": "python",
   "nbconvert_exporter": "python",
   "pygments_lexer": "ipython3",
   "version": "3.10.12"
  }
 },
 "nbformat": 4,
 "nbformat_minor": 4
}
